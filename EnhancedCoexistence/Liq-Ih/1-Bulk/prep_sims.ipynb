{
 "cells": [
  {
   "cell_type": "markdown",
   "id": "85c080b8",
   "metadata": {},
   "source": [
    "# Prepare simulations"
   ]
  },
  {
   "cell_type": "code",
   "execution_count": 7,
   "id": "8bd4ff7d",
   "metadata": {},
   "outputs": [],
   "source": [
    "import numpy as np\n",
    "import os, sys"
   ]
  },
  {
   "cell_type": "markdown",
   "id": "66476abe",
   "metadata": {},
   "source": [
    "### Pressure values for simulations"
   ]
  },
  {
   "cell_type": "code",
   "execution_count": 8,
   "id": "01b6e019",
   "metadata": {
    "scrolled": true
   },
   "outputs": [
    {
     "name": "stdout",
     "output_type": "stream",
     "text": [
      "1\n",
      "1000\n",
      "1500\n",
      "2000\n",
      "2500\n"
     ]
    }
   ],
   "source": [
    "P_bar=[1,1000,2000] #np.round(P_mpa*10,0)\n",
    "Ts=[[260,265,270,275,280],[250,255,260,265,270],[240,245,250,255,260]]\n",
    "for p in P_bar:\n",
    "    print(p)"
   ]
  },
  {
   "cell_type": "markdown",
   "id": "e8fde166",
   "metadata": {},
   "source": [
    "### Make simulation folders"
   ]
  },
  {
   "cell_type": "code",
   "execution_count": 9,
   "id": "4fdb047a",
   "metadata": {},
   "outputs": [],
   "source": [
    "for pbar, ts in zip(P_bar,Ts):\n",
    "        for T in ts:\n",
    "            fold='IceIh_{}atm_{}K'.format(pbar,T)\n",
    "            os.system('cp -r IceIh/ {}'.format(fold))\n",
    "            cmd='sed -i \"s#variable .* pressure .*#variable        pressure equal {}#g\" {}/in.pressure\\n'.format(pbar*0.986923,fold)\n",
    "            cmd+='sed -i \"s#variable.*temperature.*#variable        temperature equal {}#g\" {}/in.temp'.format(T,fold)\n",
    "\n",
    "            os.system(cmd)\n",
    "for pbar, ts in zip(P_bar,Ts):\n",
    "        for T in ts:\n",
    "            fold='Liquid_{}atm_{}K'.format(pbar,T)\n",
    "            os.system('cp -r Liquid/ {}'.format(fold))\n",
    "            cmd='sed -i \"s#variable .* pressure .*#variable        pressure equal {}#g\" {}/in.pressure\\n'.format(pbar*0.986923,fold)\n",
    "            cmd+='sed -i \"s#variable.*temperature.*#variable        temperature equal {}#g\" {}/in.temp'.format(T,fold)\n",
    "\n",
    "            os.system(cmd)"
   ]
  },
  {
   "cell_type": "code",
   "execution_count": 3,
   "id": "fa4a04bc",
   "metadata": {},
   "outputs": [
    {
     "name": "stdout",
     "output_type": "stream",
     "text": [
      "[NbConvertApp] Converting notebook prep_sims.ipynb to script\n",
      "[NbConvertApp] Writing 1018 bytes to prep_sims.py\n"
     ]
    }
   ],
   "source": []
  }
 ],
 "metadata": {
  "kernelspec": {
   "display_name": "Python 3 (ipykernel)",
   "language": "python",
   "name": "python3"
  },
  "language_info": {
   "codemirror_mode": {
    "name": "ipython",
    "version": 3
   },
   "file_extension": ".py",
   "mimetype": "text/x-python",
   "name": "python",
   "nbconvert_exporter": "python",
   "pygments_lexer": "ipython3",
   "version": "3.9.12"
  }
 },
 "nbformat": 4,
 "nbformat_minor": 5
}
