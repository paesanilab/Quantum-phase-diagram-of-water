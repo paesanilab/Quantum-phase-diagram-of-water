{
 "cells": [
  {
   "cell_type": "code",
   "execution_count": 1,
   "id": "9e7a5dd1",
   "metadata": {},
   "outputs": [],
   "source": [
    "import numpy as np\n",
    "import glob\n",
    "import matplotlib.pyplot as plt\n",
    "import pickle\n",
    "import MDAnalysis, sys\n",
    "from MDAnalysis import transformations\n",
    "%config InlineBackend.figure_format = 'retina'\n",
    "dt=0.5# fs\n"
   ]
  },
  {
   "cell_type": "code",
   "execution_count": null,
   "id": "a36a981e",
   "metadata": {},
   "outputs": [],
   "source": [
    "ice='IceIh'"
   ]
  },
  {
   "cell_type": "code",
   "execution_count": 2,
   "id": "c2d4b1d5",
   "metadata": {},
   "outputs": [],
   "source": [
    "def extract_form_log(fn,dt):\n",
    "    lines=open(fn,'r').readlines()\n",
    "    start=np.where([('Step' in l) for l in lines])[-1][0]\n",
    "    data={keyi.lower(): []  for keyi in lines[start].split()}\n",
    "    for l in lines[start+1:]:\n",
    "        ls=l.split()\n",
    "        if ls[0].isdigit():\n",
    "            for i, key in enumerate(data.keys()):\n",
    "                data[key].append(float(ls[i]))\n",
    "        else:\n",
    "            break\n",
    "    \n",
    "    for key in data.keys():\n",
    "        data[key]=np.array(data[key])\n",
    "    data['time_ps']=dt*data['step']/1000\n",
    "    return data"
   ]
  },
  {
   "cell_type": "code",
   "execution_count": 4,
   "id": "545f884e",
   "metadata": {
    "scrolled": true
   },
   "outputs": [],
   "source": [
    "sims=dict()\n",
    "for f in glob.glob('*_*/log.lammps'):\n",
    "    try:\n",
    "        sims[f.replace('/log.lammps','')]=extract_form_log(f,dt)\n",
    "    except:\n",
    "        pass\n",
    "\n",
    "with open('1-bulk.pickle', 'wb') as handle:\n",
    "    pickle.dump(sims, handle, protocol=pickle.HIGHEST_PROTOCOL)\n",
    "with open('1-bulk.pickle', 'rb') as handle:\n",
    "    sims = pickle.load(handle)"
   ]
  },
  {
   "cell_type": "code",
   "execution_count": 5,
   "id": "421966fe",
   "metadata": {},
   "outputs": [
    {
     "name": "stdout",
     "output_type": "stream",
     "text": [
      "dict_keys(['IceIh_1atm_270K', 'IceIh_1000atm_260K', 'IceIh_1000atm_270K', 'IceIh_1atm_260K', 'IceIh_2000atm_245K', 'IceIh_2000atm_255K', 'IceIh_1atm_275K', 'IceIh_2000atm_260K', 'IceIh_1atm_280K', 'IceIh_2000atm_240K', 'IceIh_1000atm_255K', 'IceIh_2000atm_250K'])\n"
     ]
    }
   ],
   "source": [
    "print(sims.keys())"
   ]
  },
  {
   "cell_type": "code",
   "execution_count": 35,
   "id": "609478e5",
   "metadata": {},
   "outputs": [
    {
     "name": "stdout",
     "output_type": "stream",
     "text": [
      "1.0\t270.0\t18.108\t23.479\t22.206\t90.0\t90.0\t90.0\r\n",
      "1000.0\t260.0\t18.032\t23.381\t22.114\t90.0\t90.0\t90.0\r\n",
      "1000.0\t270.0\t18.036\t23.396\t22.121\t90.0\t90.0\t90.0\r\n",
      "1.0\t260.0\t18.095\t23.466\t22.188\t90.0\t90.0\t90.0\r\n",
      "2000.0\t245.0\t17.952\t23.271\t22.018\t90.0\t90.0\t90.0\r\n",
      "2000.0\t255.0\t17.961\t23.289\t22.03\t90.0\t90.0\t90.0\r\n",
      "1.0\t275.0\t18.114\t23.488\t22.207\t90.0\t90.0\t90.0\r\n",
      "2000.0\t260.0\t17.964\t23.288\t22.033\t90.0\t90.0\t90.0\r\n",
      "1.0\t280.0\t18.12\t23.494\t22.219\t90.0\t90.0\t90.0\r\n",
      "2000.0\t240.0\t17.949\t23.272\t22.017\t90.0\t90.0\t90.0\r\n",
      "1000.0\t255.0\t18.025\t23.372\t22.11\t90.0\t90.0\t90.0\r\n",
      "2000.0\t250.0\t17.956\t23.276\t22.022\t90.0\t90.0\t90.0\r\n"
     ]
    }
   ],
   "source": [
    "data=[]\n",
    "for key in sims.keys():\n",
    "    ls=key.split('_')\n",
    "    p=round(float(ls[1].strip('atm')),0)\n",
    "    t=round(float(ls[2].strip('K')),0)\n",
    "    \n",
    "    last=len(sims[key]['step'])//10\n",
    "    cella=round(sims[key]['cella'][last:].mean(),3)\n",
    "    cellb=round(sims[key]['cellb'][last:].mean(),3)\n",
    "    cellc=round(sims[key]['cellc'][last:].mean(),3)\n",
    "    cellalpha=round(sims[key]['cellalpha'][last:].mean(),3)\n",
    "    cellbeta=round(sims[key]['cellbeta'][last:].mean(),3)\n",
    "    cellgamma=round(sims[key]['cellgamma'][last:].mean(),3)\n",
    "    \n",
    "    dat=[p,t,cella,cellb,cellc,cellalpha,cellbeta,cellgamma]\n",
    "    data.append(dat)\n",
    "\n",
    "with open('avg_ice_box.dat','w') as fp:\n",
    "    for dat in data:\n",
    "        fp.write('\\t'.join(['{}'.format(d) for d in dat])+'\\n')\n",
    "!cat avg_ice_box.dat"
   ]
  },
  {
   "cell_type": "code",
   "execution_count": null,
   "id": "e4cb37c0",
   "metadata": {},
   "outputs": [],
   "source": []
  }
 ],
 "metadata": {
  "kernelspec": {
   "display_name": "Python 3",
   "language": "python",
   "name": "python3"
  },
  "language_info": {
   "codemirror_mode": {
    "name": "ipython",
    "version": 3
   },
   "file_extension": ".py",
   "mimetype": "text/x-python",
   "name": "python",
   "nbconvert_exporter": "python",
   "pygments_lexer": "ipython3",
   "version": "3.9.10"
  }
 },
 "nbformat": 4,
 "nbformat_minor": 5
}
