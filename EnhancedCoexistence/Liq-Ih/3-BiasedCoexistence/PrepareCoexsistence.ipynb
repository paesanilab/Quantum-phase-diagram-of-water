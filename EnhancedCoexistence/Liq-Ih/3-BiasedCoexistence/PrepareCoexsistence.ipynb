{
 "cells": [
  {
   "cell_type": "markdown",
   "id": "b9f240a2",
   "metadata": {},
   "source": [
    "# Preparation of biased coexsistence simulations"
   ]
  },
  {
   "cell_type": "code",
   "execution_count": 2,
   "id": "fb21dd18",
   "metadata": {},
   "outputs": [],
   "source": [
    "import numpy as np, sys, os, glob\n",
    "import matplotlib.pylab as plt\n",
    "import MDAnalysis"
   ]
  },
  {
   "cell_type": "code",
   "execution_count": 3,
   "id": "99754d4d",
   "metadata": {},
   "outputs": [],
   "source": [
    "standard_sim=os.path.abspath('template/')\n",
    "\n",
    "press_box = np.loadtxt('../1-Bulk/avg_ice_box.dat')\n",
    "presures=np.unique(press_box[:,0])"
   ]
  },
  {
   "cell_type": "code",
   "execution_count": 5,
   "id": "9fb55539",
   "metadata": {
    "scrolled": false
   },
   "outputs": [
    {
     "name": "stdout",
     "output_type": "stream",
     "text": [
      "before [18.1678  45.80189 22.1911  90.      90.      90.     ]\n",
      "after [18.108   45.80189 22.206   90.      90.      90.     ]\n",
      "before [18.1678  45.80189 22.1911  90.      90.      90.     ]\n",
      "after [17.857   45.80189 21.786   90.      90.      90.     ]\n",
      "before [18.1678  45.80189 22.1911  90.      90.      90.     ]\n",
      "after [18.032   45.80189 22.114   90.      90.      90.     ]\n",
      "before [18.1678  45.80189 22.1911  90.      90.      90.     ]\n",
      "after [18.036   45.80189 22.121   90.      90.      90.     ]\n",
      "before [18.1678  45.80189 22.1911  90.      90.      90.     ]\n",
      "after [17.857   45.80189 21.786   90.      90.      90.     ]\n",
      "before [18.1678  45.80189 22.1911  90.      90.      90.     ]\n",
      "after [18.095   45.80189 22.188   90.      90.      90.     ]\n",
      "before [18.1678  45.80189 22.1911  90.      90.      90.     ]\n",
      "after [18.082   45.80189 22.06    90.      90.      90.     ]\n",
      "before [18.1678  45.80189 22.1911  90.      90.      90.     ]\n",
      "after [17.952   45.80189 22.018   90.      90.      90.     ]\n",
      "before [18.1678  45.80189 22.1911  90.      90.      90.     ]\n",
      "after [18.078   45.80189 22.055   90.      90.      90.     ]\n",
      "before [18.1678  45.80189 22.1911  90.      90.      90.     ]\n",
      "after [17.661   45.80189 21.547   90.      90.      90.     ]\n",
      "before [18.1678  45.80189 22.1911  90.      90.      90.     ]\n",
      "after [18.02    45.80189 22.101   90.      90.      90.     ]\n",
      "before [18.1678  45.80189 22.1911  90.      90.      90.     ]\n",
      "after [17.842   45.80189 21.767   90.      90.      90.     ]\n",
      "before [18.1678  45.80189 22.1911  90.      90.      90.     ]\n",
      "after [17.637   45.80189 21.517   90.      90.      90.     ]\n",
      "before [18.1678  45.80189 22.1911  90.      90.      90.     ]\n",
      "after [18.092   45.80189 22.072   90.      90.      90.     ]\n",
      "before [18.1678  45.80189 22.1911  90.      90.      90.     ]\n",
      "after [17.961   45.80189 22.03    90.      90.      90.     ]\n",
      "before [18.1678  45.80189 22.1911  90.      90.      90.     ]\n",
      "after [17.669   45.80189 21.556   90.      90.      90.     ]\n",
      "before [18.1678  45.80189 22.1911  90.      90.      90.     ]\n",
      "after [18.114   45.80189 22.207   90.      90.      90.     ]\n",
      "before [18.1678  45.80189 22.1911  90.      90.      90.     ]\n",
      "after [18.035   45.80189 22.115   90.      90.      90.     ]\n",
      "before [18.1678  45.80189 22.1911  90.      90.      90.     ]\n",
      "after [17.855   45.80189 21.784   90.      90.      90.     ]\n",
      "before [18.1678  45.80189 22.1911  90.      90.      90.     ]\n",
      "after [18.106   45.80189 22.202   90.      90.      90.     ]\n",
      "before [18.1678  45.80189 22.1911  90.      90.      90.     ]\n",
      "after [17.964   45.80189 22.033   90.      90.      90.     ]\n",
      "before [18.1678  45.80189 22.1911  90.      90.      90.     ]\n",
      "after [17.649   45.80189 21.532   90.      90.      90.     ]\n",
      "before [18.1678  45.80189 22.1911  90.      90.      90.     ]\n",
      "after [18.12    45.80189 22.219   90.      90.      90.     ]\n",
      "before [18.1678  45.80189 22.1911  90.      90.      90.     ]\n",
      "after [18.084   45.80189 22.062   90.      90.      90.     ]\n",
      "before [18.1678  45.80189 22.1911  90.      90.      90.     ]\n",
      "after [17.949   45.80189 22.017   90.      90.      90.     ]\n",
      "before [18.1678  45.80189 22.1911  90.      90.      90.     ]\n",
      "after [18.025   45.80189 22.11    90.      90.      90.     ]\n",
      "before [18.1678  45.80189 22.1911  90.      90.      90.     ]\n",
      "after [17.857   45.80189 21.785   90.      90.      90.     ]\n",
      "before [18.1678  45.80189 22.1911  90.      90.      90.     ]\n",
      "after [17.956   45.80189 22.022   90.      90.      90.     ]\n",
      "before [18.1678  45.80189 22.1911  90.      90.      90.     ]\n",
      "after [18.09    45.80189 22.07    90.      90.      90.     ]\n",
      "before [18.1678  45.80189 22.1911  90.      90.      90.     ]\n",
      "after [17.621   45.80189 21.498   90.      90.      90.     ]\n"
     ]
    }
   ],
   "source": [
    "sims = dict()\n",
    "for a in press_box[:]:\n",
    "    fold='COEX_{}atm/{}K/'.format(a[0],a[1])\n",
    "    os.system('mkdir -p {}'.format(fold))\n",
    "    os.system('cp ../../../2-GenerateTrainingset/GraphFiles/Iteration1/graph-compress.pb {}/../graph.pb'.format(fold))\n",
    "    os.system('cp {}/* {}'.format(standard_sim,fold))\n",
    "    sims[fold] = dict()\n",
    "    p=a[0]\n",
    "    t=a[1]\n",
    "    \n",
    "    cmd ='sed -i  \\\"s#REPLACE_PRESSURE#{}#g\\\" {}/in.pressure\\n'.format(p*1.01325,fold)\n",
    "    cmd+='sed -i  \\\"s#REPLACE_TEMP#{}#g\\\" {}/in.temp\\n'.format(t,fold)\n",
    "    cmd+='sed -i  \\\"s#REPLACE_TEMP#{}#g\\\" {}/plumed*.dat'.format(t,fold)\n",
    "    os.system(cmd)\n",
    "    u = MDAnalysis.Universe('template/water.data', in_memory=True)\n",
    "    \n",
    "    scaled_coord=MDAnalysis.lib.distances.transform_RtoS(u.atoms.positions,u.dimensions)\n",
    "   \n",
    "    print('before',u.dimensions)\n",
    "    dimensions_new=a[2:]\n",
    "    max_l=np.max(u.dimensions[:3])\n",
    "    max_dim=np.where(u.dimensions==max_l)[0][0]\n",
    "    dimensions_new[max_dim]=u.dimensions[max_dim]\n",
    "    u.dimensions=dimensions_new\n",
    "    u.atoms.positions=MDAnalysis.lib.distances.transform_StoR(scaled_coord,u.dimensions)\n",
    "    print('after',u.dimensions)\n",
    "\n",
    "    u.atoms.write(fold+'/water.data')"
   ]
  },
  {
   "cell_type": "code",
   "execution_count": null,
   "id": "39d51585",
   "metadata": {},
   "outputs": [],
   "source": []
  }
 ],
 "metadata": {
  "kernelspec": {
   "display_name": "Python 3",
   "language": "python",
   "name": "python3"
  },
  "language_info": {
   "codemirror_mode": {
    "name": "ipython",
    "version": 3
   },
   "file_extension": ".py",
   "mimetype": "text/x-python",
   "name": "python",
   "nbconvert_exporter": "python",
   "pygments_lexer": "ipython3",
   "version": "3.9.10"
  }
 },
 "nbformat": 4,
 "nbformat_minor": 5
}
