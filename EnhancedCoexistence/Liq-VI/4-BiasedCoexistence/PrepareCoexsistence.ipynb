{
 "cells": [
  {
   "cell_type": "markdown",
   "id": "b9f240a2",
   "metadata": {},
   "source": [
    "# Preparation of biased coexsistence simulations"
   ]
  },
  {
   "cell_type": "code",
   "execution_count": 1,
   "id": "fb21dd18",
   "metadata": {},
   "outputs": [
    {
     "name": "stderr",
     "output_type": "stream",
     "text": [
      "/Users/sigbjobo/miniforge3/lib/python3.9/site-packages/MDAnalysis/coordinates/chemfiles.py:108: DeprecationWarning: distutils Version classes are deprecated. Use packaging.version instead.\n",
      "  MIN_CHEMFILES_VERSION = LooseVersion(\"0.9\")\n"
     ]
    }
   ],
   "source": [
    "import numpy as np, sys, os, glob\n",
    "import matplotlib.pylab as plt\n",
    "import MDAnalysis"
   ]
  },
  {
   "cell_type": "code",
   "execution_count": 2,
   "id": "99754d4d",
   "metadata": {},
   "outputs": [],
   "source": [
    "standard_sim=os.path.abspath('template/')\n",
    "\n",
    "press_box = np.loadtxt('../2-Bulk/avg_IceVI_box.dat')\n",
    "presures=np.unique(press_box[:,0])"
   ]
  },
  {
   "cell_type": "code",
   "execution_count": 3,
   "id": "9fb55539",
   "metadata": {
    "scrolled": false
   },
   "outputs": [
    {
     "name": "stderr",
     "output_type": "stream",
     "text": [
      "sed: 1: \"COEX_8000.0atm/25.057K/ ...\": invalid command code C\n",
      "sed: 1: \"COEX_8000.0atm/25.057K/ ...\": invalid command code C\n",
      "sed: 1: \"COEX_8000.0atm/25.057K/ ...\": invalid command code C\n",
      "/Users/sigbjobo/miniforge3/lib/python3.9/site-packages/MDAnalysis/coordinates/base.py:892: UserWarning: Reader has no dt information, set to 1.0 ps\n",
      "  warnings.warn(\"Reader has no dt information, set to 1.0 ps\")\n"
     ]
    },
    {
     "name": "stdout",
     "output_type": "stream",
     "text": [
      "before [52.789078 24.971228 23.019014 90.       90.       90.      ]\n"
     ]
    },
    {
     "ename": "ValueError",
     "evalue": "could not broadcast input array from shape (5,) into shape (6,)",
     "output_type": "error",
     "traceback": [
      "\u001b[0;31m---------------------------------------------------------------------------\u001b[0m",
      "\u001b[0;31mValueError\u001b[0m                                Traceback (most recent call last)",
      "Input \u001b[0;32mIn [3]\u001b[0m, in \u001b[0;36m<cell line: 2>\u001b[0;34m()\u001b[0m\n\u001b[1;32m     22\u001b[0m max_dim\u001b[38;5;241m=\u001b[39mnp\u001b[38;5;241m.\u001b[39mwhere(u\u001b[38;5;241m.\u001b[39mdimensions\u001b[38;5;241m==\u001b[39mmax_l)[\u001b[38;5;241m0\u001b[39m][\u001b[38;5;241m0\u001b[39m]\n\u001b[1;32m     23\u001b[0m dimensions_new[max_dim]\u001b[38;5;241m=\u001b[39mu\u001b[38;5;241m.\u001b[39mdimensions[max_dim]\n\u001b[0;32m---> 24\u001b[0m u\u001b[38;5;241m.\u001b[39mdimensions\u001b[38;5;241m=\u001b[39mdimensions_new\n\u001b[1;32m     25\u001b[0m u\u001b[38;5;241m.\u001b[39matoms\u001b[38;5;241m.\u001b[39mpositions\u001b[38;5;241m=\u001b[39mMDAnalysis\u001b[38;5;241m.\u001b[39mlib\u001b[38;5;241m.\u001b[39mdistances\u001b[38;5;241m.\u001b[39mtransform_StoR(scaled_coord,u\u001b[38;5;241m.\u001b[39mdimensions)\n\u001b[1;32m     26\u001b[0m \u001b[38;5;28mprint\u001b[39m(\u001b[38;5;124m'\u001b[39m\u001b[38;5;124mafter\u001b[39m\u001b[38;5;124m'\u001b[39m,u\u001b[38;5;241m.\u001b[39mdimensions)\n",
      "File \u001b[0;32m~/miniforge3/lib/python3.9/site-packages/MDAnalysis/core/universe.py:699\u001b[0m, in \u001b[0;36mUniverse.dimensions\u001b[0;34m(self, box)\u001b[0m\n\u001b[1;32m    694\u001b[0m \u001b[38;5;124;03m\"\"\"Set dimensions if the Timestep allows this\u001b[39;00m\n\u001b[1;32m    695\u001b[0m \n\u001b[1;32m    696\u001b[0m \u001b[38;5;124;03m.. versionadded:: 0.9.0\u001b[39;00m\n\u001b[1;32m    697\u001b[0m \u001b[38;5;124;03m\"\"\"\u001b[39;00m\n\u001b[1;32m    698\u001b[0m \u001b[38;5;66;03m# Add fancy error handling here or use Timestep?\u001b[39;00m\n\u001b[0;32m--> 699\u001b[0m \u001b[38;5;28mself\u001b[39m\u001b[38;5;241m.\u001b[39mcoord\u001b[38;5;241m.\u001b[39mdimensions \u001b[38;5;241m=\u001b[39m box\n",
      "File \u001b[0;32m~/miniforge3/lib/python3.9/site-packages/MDAnalysis/coordinates/base.py:810\u001b[0m, in \u001b[0;36mTimestep.dimensions\u001b[0;34m(self, box)\u001b[0m\n\u001b[1;32m    808\u001b[0m     \u001b[38;5;28mself\u001b[39m\u001b[38;5;241m.\u001b[39m_unitcell[:] \u001b[38;5;241m=\u001b[39m \u001b[38;5;241m0\u001b[39m\n\u001b[1;32m    809\u001b[0m \u001b[38;5;28;01melse\u001b[39;00m:\n\u001b[0;32m--> 810\u001b[0m     \u001b[38;5;28mself\u001b[39m\u001b[38;5;241m.\u001b[39m_unitcell[:] \u001b[38;5;241m=\u001b[39m box\n",
      "\u001b[0;31mValueError\u001b[0m: could not broadcast input array from shape (5,) into shape (6,)"
     ]
    }
   ],
   "source": [
    "sims = dict()\n",
    "for a in press_box[:]:\n",
    "    fold='COEX_{}atm/{}K/'.format(a[0],a[1])\n",
    "    os.system('mkdir -p {}'.format(fold))\n",
    "    os.system('cp ../../../2-GenerateTrainingset/GraphFiles/Iteration1/graph-compress.pb {}/../graph.pb'.format(fold))\n",
    "    os.system('cp {}/* {}'.format(standard_sim,fold))\n",
    "    sims[fold] = dict()\n",
    "    p=a[0]\n",
    "    t=a[1]\n",
    "    \n",
    "    cmd ='sed -i  \\\"s#REPLACE_PRESSURE#{}#g\\\" {}/in.pressure\\n'.format(p*1.01325,fold)\n",
    "    cmd+='sed -i  \\\"s#REPLACE_TEMP#{}#g\\\" {}/in.temp\\n'.format(t,fold)\n",
    "    cmd+='sed -i  \\\"s#REPLACE_TEMP#{}#g\\\" {}/plumed*.dat'.format(t,fold)\n",
    "    os.system(cmd)\n",
    "    u = MDAnalysis.Universe(standard_sim+'/water.data', in_memory=True)\n",
    "    \n",
    "    scaled_coord=MDAnalysis.lib.distances.transform_RtoS(u.atoms.positions,u.dimensions)\n",
    "   \n",
    "    print('before',u.dimensions)\n",
    "    dimensions_new=a[2:]\n",
    "    max_l=np.max(u.dimensions[:3])\n",
    "    max_dim=np.where(u.dimensions==max_l)[0][0]\n",
    "    dimensions_new[max_dim]=u.dimensions[max_dim]\n",
    "    u.dimensions=dimensions_new\n",
    "    u.atoms.positions=MDAnalysis.lib.distances.transform_StoR(scaled_coord,u.dimensions)\n",
    "    print('after',u.dimensions)\n",
    "\n",
    "    u.atoms.write(fold+'/water.data')"
   ]
  },
  {
   "cell_type": "code",
   "execution_count": null,
   "id": "39d51585",
   "metadata": {},
   "outputs": [],
   "source": []
  }
 ],
 "metadata": {
  "kernelspec": {
   "display_name": "Python 3 (ipykernel)",
   "language": "python",
   "name": "python3"
  },
  "language_info": {
   "codemirror_mode": {
    "name": "ipython",
    "version": 3
   },
   "file_extension": ".py",
   "mimetype": "text/x-python",
   "name": "python",
   "nbconvert_exporter": "python",
   "pygments_lexer": "ipython3",
   "version": "3.9.12"
  }
 },
 "nbformat": 4,
 "nbformat_minor": 5
}
