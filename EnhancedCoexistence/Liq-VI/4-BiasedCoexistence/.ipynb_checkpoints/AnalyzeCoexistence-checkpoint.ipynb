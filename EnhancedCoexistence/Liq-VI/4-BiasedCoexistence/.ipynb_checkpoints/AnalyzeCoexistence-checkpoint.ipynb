{
 "cells": [
  {
   "cell_type": "markdown",
   "id": "41e3fc77",
   "metadata": {},
   "source": [
    "# Analysis of multiumbrella coexsitence simulations"
   ]
  },
  {
   "cell_type": "code",
   "execution_count": 1,
   "id": "b5109358",
   "metadata": {
    "scrolled": true
   },
   "outputs": [],
   "source": [
    "import numpy as np\n",
    "import matplotlib.pylab as plt\n",
    "import glob, pickle\n",
    "import copy                      \n",
    "\n",
    "from scipy.optimize import curve_fit\n",
    "from scipy.interpolate import UnivariateSpline\n",
    "from matplotlib import cm\n",
    "from matplotlib.collections import LineCollection\n",
    "from matplotlib.colors import ListedColormap, BoundaryNorm\n",
    "from matplotlib.ticker import (MultipleLocator, FormatStrFormatter,\n",
    "                               AutoMinorLocator)\n",
    "from scipy import optimize\n",
    "from matplotlib.ticker import MaxNLocator, AutoLocator\n",
    "from scipy.interpolate import interp1d\n",
    "import matplotlib as mpl\n",
    "from scipy import integrate\n",
    "import scipy\n",
    "import json\n",
    "SMALL_SIZE = 8\n",
    "MEDIUM_SIZE = 10\n",
    "BIGGER_SIZE = 12\n",
    "plt.rc('font', size=MEDIUM_SIZE)          # controls default text sizes\n",
    "plt.rc('axes', titlesize=SMALL_SIZE)     # fontsize of the axes title\n",
    "plt.rc('axes', labelsize=MEDIUM_SIZE)    # fontsize of the x and y labels\n",
    "plt.rc('xtick', labelsize=SMALL_SIZE)    # fontsize of the tick labels\n",
    "plt.rc('ytick', labelsize=SMALL_SIZE)    # fontsize of the tick labels\n",
    "plt.rc('legend', fontsize=SMALL_SIZE)    # legend fontsize\n",
    "plt.rc('figure', titlesize=BIGGER_SIZE)  # fontsize of the figure title\n",
    "colors_palette=['#377eb8','#4daf4a','#e41a1c','#984ea3','#ff7f00','#a65628','#f781bf','#999999']*10\n",
    "\n",
    "\n",
    "%config InlineBackend.figure_format = 'retina'\n",
    "!mkdir -p figures\n",
    "\n",
    "kjtomev=0.0103642723013314*1000"
   ]
  },
  {
   "cell_type": "markdown",
   "id": "723f46fc",
   "metadata": {},
   "source": [
    "### Shared settings for analysis"
   ]
  },
  {
   "cell_type": "code",
   "execution_count": 2,
   "id": "c3c53c40",
   "metadata": {},
   "outputs": [],
   "source": [
    "dpl=0.05 # Lower probability range for strict histogram\n",
    "dph=0.05 # Upper probability range for strict histogram\n",
    "dh=2     # Bin size used for histogram\n",
    "NIGNORE_STANDARD=10. # percent ignore \n",
    "atm_to_gpa=0.000101325"
   ]
  },
  {
   "cell_type": "markdown",
   "id": "8df56193",
   "metadata": {},
   "source": [
    "### Plotting settings specific to the Ice-Liquid interface"
   ]
  },
  {
   "cell_type": "code",
   "execution_count": 3,
   "id": "c21c99a8",
   "metadata": {},
   "outputs": [
    {
     "name": "stdout",
     "output_type": "stream",
     "text": [
      "{'singlePressure': '7000.0atm', 'singleTemperature': '260.0K', 'n_temps': 5, 'n_press': 3, 'nmpi': 1, 'fig1_size': [12, 3.5], 'fig2_size': [7.2, 2.5], 'IGNORE': [], 'plotRef': [['tip4p/ice', '../../ReferenceData/tip4p_ice_liquid_FE.dat', 9.86923], ['Exp', '../../ReferenceData/exp_pd.dat', 9.86923]]}\n"
     ]
    }
   ],
   "source": [
    "with open('AnalysisSettings.json') as json_file:\n",
    "    settings = json.load(json_file)\n",
    "print(settings)"
   ]
  },
  {
   "cell_type": "markdown",
   "id": "817b70b5",
   "metadata": {},
   "source": [
    "### Load data"
   ]
  },
  {
   "cell_type": "code",
   "execution_count": 4,
   "id": "01ff5c70",
   "metadata": {},
   "outputs": [],
   "source": [
    "def read_colvar_dict(fn):   \n",
    "    # Determine fields\n",
    "    with open(fn,'r') as fp:\n",
    "        top = fp.readline()\n",
    "        fields= top.split()[2:]\n",
    "    \n",
    "    # Load data columns\n",
    "    data=np.genfromtxt(fn)\n",
    "    \n",
    "    # Create dictionary\n",
    "    ret = dict()\n",
    "    for i, field in enumerate(fields):\n",
    "        ret[field]=data[:,i]\n",
    "    ret['time_ns']=(data[:,0]-data[0,0])/1E3 \n",
    "    \n",
    "    return ret"
   ]
  },
  {
   "cell_type": "code",
   "execution_count": null,
   "id": "eac99f0d",
   "metadata": {
    "scrolled": true
   },
   "outputs": [
    {
     "name": "stdout",
     "output_type": "stream",
     "text": [
      "COEX_9000.0atm/285.0K/\n",
      "COEX_9000.0atm/265.0K/\n",
      "COEX_9000.0atm/270.0K/\n",
      "COEX_9000.0atm/275.0K/\n",
      "COEX_9000.0atm/260.0K/\n",
      "Did not work:  COEX_9000.0atm/260.0K/ Not inlcuded in analysis.\n",
      "COEX_9000.0atm/280.0K/\n",
      "COEX_9000.0atm/255.0K/\n",
      "Did not work:  COEX_9000.0atm/255.0K/ Not inlcuded in analysis.\n",
      "COEX_7000.0atm/275.0K/\n"
     ]
    }
   ],
   "source": [
    "sims=dict()\n",
    "\n",
    "for fold in glob.glob('COEX_*/*K/'):\n",
    "    print(fold)\n",
    "    sims[fold] = dict()\n",
    "    try:\n",
    "        colvar_files = glob.glob(fold+'COLVAR') + glob.glob(fold+'COLVAR.[0-9]')\n",
    "        sims[fold]['COLVAR'] = [read_colvar_dict(fn) for fn in colvar_files]\n",
    "        sims[fold]['DELTAFS'] = np.genfromtxt(fold+'DELTAFS')\n",
    "        with open(fold+'DELTAFS', 'r')as fp:\n",
    "            line=fp.readline()\n",
    "\n",
    "        sims[fold]['DELTAFS_N_ICE'] =np.array([int(n.strip('DeltaF_')) for n in line.split()[4:]])\n",
    "\n",
    "        sims[fold]['T'] = float(fold.split('/')[-2].strip('K'))\n",
    "        sims[fold]['P'] = float(fold.split('/')[-3].replace('COEX_','').strip('atm'))\n",
    "    except:\n",
    "        print('Did not work: ',fold, 'Not inlcuded in analysis.')\n",
    "        sims.pop(fold)\n",
    "        pass\n"
   ]
  },
  {
   "cell_type": "markdown",
   "id": "a111ef99",
   "metadata": {},
   "source": [
    "### Set number of simulations "
   ]
  },
  {
   "cell_type": "code",
   "execution_count": null,
   "id": "c6cd5ede",
   "metadata": {},
   "outputs": [],
   "source": [
    "press=np.unique([k.split('/')[0] for k in sims.keys()])\n",
    "n_pressures=len(press) # Number of pressures\n",
    "n_temps=int(np.ceil(len(sims)/n_pressures)) # Number of temperatures simulated\n",
    "n_rows=int(np.ceil(len(sims.keys())/n_temps))\n"
   ]
  },
  {
   "cell_type": "markdown",
   "id": "b2f24c86",
   "metadata": {},
   "source": [
    "## Analysis for all pressures"
   ]
  },
  {
   "cell_type": "markdown",
   "id": "ff541f87",
   "metadata": {},
   "source": [
    "### Time evolution of all collective variables"
   ]
  },
  {
   "cell_type": "code",
   "execution_count": null,
   "id": "fd9db56a",
   "metadata": {},
   "outputs": [],
   "source": [
    "for key in sims.keys():\n",
    "    colvar=sims[key]['COLVAR'][0]\n",
    "    sims[key]['NIGNORE']=int(len(colvar['time'])*NIGNORE_STANDARD/100.)\n",
    "    \n",
    "for ign in settings['IGNORE']:\n",
    "    sims[ign[0]]['NIGNORE']=ign[1]\n",
    "for key in sims.keys():\n",
    "    if sum([len(sims[key]['COLVAR'][mpi]['refcv.morethan-2'])>sims[key]['NIGNORE'] for mpi in range(settings['nmpi'])])==0:\n",
    "        sims[key]['NIGNORE']=-1"
   ]
  },
  {
   "cell_type": "code",
   "execution_count": null,
   "id": "73fe8675",
   "metadata": {
    "scrolled": true
   },
   "outputs": [],
   "source": [
    "fig, ax = plt.subplots(n_rows,n_temps,figsize=settings['fig1_size'])\n",
    "axs=ax.flatten()\n",
    "i=0\n",
    "for  key in sorted(sims.keys()):\n",
    "    if 'COLVAR' in list(sims[key].keys()):\n",
    "     \n",
    "        time0=0.\n",
    "        for j in range(settings['nmpi']):\n",
    "            colvar=sims[key]['COLVAR'][j]\n",
    "            NIGNORE=sims[key]['NIGNORE']\n",
    "\n",
    "            \n",
    "            p=float(key.replace('COEX_','').split('/')[0].strip('atm'))*atm_to_gpa\n",
    "            t=key.replace('COEX_','').split('/')[1].strip('K')\n",
    "\n",
    "            title=r'{:.3f}$\\,$GPa  {}$\\,$K'.format(p,t)\n",
    "            axs[i].set_title(title,size = MEDIUM_SIZE)\n",
    "            if sims[key]['NIGNORE']>0:\n",
    "                # Part not used for fit\n",
    "                axs[i].plot(time0+colvar['time_ns'][:NIGNORE],colvar['refcv.morethan-2'][:NIGNORE],'k',lw=0.2)\n",
    "                # Part used for fit\n",
    "                axs[i].plot(time0+colvar['time_ns'][NIGNORE:],colvar['refcv.morethan-2'][NIGNORE:],lw=0.2,color=colors_palette[0])\n",
    "            else:\n",
    "                # Whole simulation not used for fit\n",
    "                axs[i].plot(time0+colvar['time_ns'],colvar['refcv.morethan-2'],'k',lw=0.2)\n",
    "            time0+=colvar['time_ns'][-1]\n",
    "        \n",
    "        if i%n_temps==0:\n",
    "            axs[i].set_ylabel('# of ice-like molecules',fontsize=9)\n",
    "       \n",
    "        i+=1\n",
    "\n",
    "for j in range(n_temps):\n",
    "    ax[-1,j].set_xlabel('Time (ns)')      \n",
    "for j in range(i,len(sims.keys())):\n",
    "    axs[j].set_visible(False)\n",
    "\n",
    "plt.tight_layout()\n",
    "plt.savefig('figures/time_evolution.png',dpi=300)"
   ]
  },
  {
   "cell_type": "markdown",
   "id": "f82bd331",
   "metadata": {},
   "source": [
    "### Determine range for strict collective variable"
   ]
  },
  {
   "cell_type": "code",
   "execution_count": null,
   "id": "c6e4c227",
   "metadata": {
    "scrolled": false
   },
   "outputs": [],
   "source": [
    "fig, ax = plt.subplots(n_rows,n_temps,figsize=settings['fig1_size'])\n",
    "axs=ax.flatten()\n",
    "for i, key in enumerate(sorted(sims.keys())):  \n",
    "    NIGNORE=sims[key]['NIGNORE']\n",
    "    if NIGNORE<0:\n",
    "        continue\n",
    "  \n",
    "    number_of_ice  = np.hstack(tuple([sims[key]['COLVAR'][mpi]['refcv.morethan-2'][NIGNORE:] for mpi in range(settings['nmpi'])]))\n",
    "    histo, bin_edges = np.histogram(number_of_ice,bins=1000)\n",
    "    n_ice_mid=0.5*(bin_edges[1:]+bin_edges[:-1])\n",
    "    \n",
    "    # Determine outer range of strict collective variable histogram\n",
    "    cumsum=np.cumsum(histo)\n",
    "    cumsum=cumsum/cumsum.max()\n",
    "    difference=np.abs(cumsum-dpl)\n",
    "    ns=int(n_ice_mid[np.where(difference==difference.min())[0][0]])\n",
    "    difference=np.abs(cumsum-(1-dph))\n",
    "    nf=int(n_ice_mid[np.where(difference==difference.min())[0][0]])\n",
    "    \n",
    "    \n",
    "    # Plot biased histogram\n",
    "    num_ice_bins=[i for i in range(ns,nf+1)]\n",
    "    bins2=[i for i in range(ns-50,nf+50)]\n",
    "    sims[key]['num_ice_bins']=num_ice_bins\n",
    "    histo, bin_edges = np.histogram(number_of_ice,bins=bins2[::dh],density=True)\n",
    "    n_ice_mid=0.5*(bin_edges[1:]+bin_edges[:-1])\n",
    "    if NIGNORE<0:\n",
    "        continue\n",
    "    axs[i].plot(n_ice_mid,histo,color=colors_palette[0])\n",
    "    axs[i].axvline(x=ns,linewidth=4, color='k',ls='--')\n",
    "    axs[i].axvline(x=nf,linewidth=4, color='k',ls='--')\n",
    "    p=float(key.replace('COEX_','').split('/')[0].strip('atm'))*atm_to_gpa\n",
    "    t=key.replace('COEX_','').split('/')[1].strip('K')\n",
    "\n",
    "    title=r'{:.3f}$\\,$GPa  {}$\\,$K'.format(p,t)\n",
    "    axs[i].set_title(title,size = MEDIUM_SIZE) \n",
    "    if i%n_temps==0:\n",
    "        axs[i].set_ylabel('Probability')\n",
    "    #i+=1\n",
    "\n",
    "for j in range(n_temps):\n",
    "    ax[-1,j].set_xlabel('Time (ns)')      \n",
    "for j in range(i+1,len(sims.keys())):\n",
    "    axs[j].set_visible(False)\n",
    "plt.tight_layout()\n",
    "plt.savefig('figures/unbiased_distributions.png',dpi=300, bbox_inches='tight')"
   ]
  },
  {
   "cell_type": "markdown",
   "id": "d7217233",
   "metadata": {},
   "source": [
    "## Compute thermodynamic potential for NN from enhanced coexistence simulations"
   ]
  },
  {
   "cell_type": "code",
   "execution_count": null,
   "id": "816ce397",
   "metadata": {
    "scrolled": true
   },
   "outputs": [],
   "source": [
    "def linear_fn(x, a, b):\n",
    "    return a * x + b\n",
    "\n",
    "sims_result = dict()\n",
    "\n",
    "for i, p in enumerate(press):\n",
    "    j=0\n",
    "    for key in sims.keys():\n",
    "        counter1=0\n",
    "\n",
    "        if p in key:\n",
    "            sims_result[key]=dict()\n",
    "            sim=sims[key]\n",
    "            colvar =sim['COLVAR']\n",
    "            ignore=int(colvar[0]['opes.bias'][0]/8)\n",
    "\n",
    "            bias = np.hstack(tuple([colvar[mpi]['opes.bias'][NIGNORE:] for mpi in range(settings['nmpi'])]))\n",
    "            cv  = np.hstack(tuple([colvar[mpi]['refcv.morethan-2'][NIGNORE:] for mpi in range(settings['nmpi'])]))\n",
    "\n",
    "            temp=sim['T']\n",
    "            if (cv.shape[0]>0):\n",
    "                \n",
    "                # kJ/mol from PLUMED\n",
    "                beta=1./(0.00831441001626*temp)\n",
    "                logweights=beta*bias\n",
    "                logweights -= np.amax(logweights)\n",
    "                histo, bin_edges = np.histogram(cv,weights=np.exp(logweights),bins=sims[key]['num_ice_bins'])\n",
    "                err = np.sqrt(np.histogram(cv,weights=np.power(np.exp(logweights),2),bins=sims[key]['num_ice_bins'])[0])\n",
    "                \n",
    "                bin_centers = (bin_edges[1:]+bin_edges[:-1])/2\n",
    "                \n",
    "                \n",
    "                fes = -(1/beta)*np.log(histo)\n",
    "                offset = np.mean(np.ma.masked_invalid(fes))\n",
    "                fes -= offset\n",
    "                feserr = (1/beta)*err/histo\n",
    "                \n",
    "                # Convert to meV\n",
    "                fes=fes*kjtomev\n",
    "                feserr=feserr*kjtomev\n",
    "                \n",
    "                if (fes[np.isfinite(fes)].shape[0]>0):\n",
    "                    mask=np.array(np.isfinite(fes)*(feserr>0),dtype=bool)\n",
    "                    popt, pcov = curve_fit(linear_fn, bin_centers[mask], fes[mask], sigma=feserr[mask])\n",
    "                    perr = np.sqrt(np.diag(pcov))\n",
    "                    sims_result[key]['chem_pot'] = [popt[0],perr[0]]\n",
    "                    sims_result[key]['fes_linear']=linear_fn(bin_centers,*popt)  \n",
    "                    sims_result[key]['fes']=fes\n",
    "                    sims_result[key]['fes_err']=feserr\n",
    "                    sims_result[key]['n_water']=bin_centers\n",
    "                    sims_result[key]['T']=sim['T']\n",
    "                    sims_result[key]['P']=float(key.split('/')[0].strip('COEX_atm'))\n",
    "\n",
    "            counter1 += 1\n",
    "            j += 1\n",
    "\n",
    "\n",
    "\n",
    "# Correction with thermodynamic pertubation\n",
    "sims_result_classical=copy.deepcopy(sims_result)\n",
    "for row in np.loadtxt('pert-corr.dat'):\n",
    "    key='COEX_{}atm/{}K/'.format(row[1],row[0]).replace('.0','')\n",
    "    key2='COEX_{}atm/{}K/'.format(row[1],row[0])\n",
    "    if key2 in [k for k in sims_result_classical.keys()]:\n",
    "        sims_result_classical[key2]['chem_pot'][0]+=row[2]\n",
    "    if key in [k for k in sims_result_classical.keys()]:\n",
    "        sims_result_classical[key]['chem_pot'][0]+=row[2]\n",
    "\n",
    "# Correction with thermodynamic pertubation and NQE \n",
    "sims_result_nqe=copy.deepcopy(sims_result)\n",
    "for row in np.loadtxt('sum-corr.dat'):\n",
    "\n",
    "    key='COEX_{}atm/{}K/'.format(row[1],row[0]).replace('.0','')\n",
    "    key2='COEX_{}atm/{}K/'.format(row[1],row[0])\n",
    "    if key2 in [k for k in sims_result.keys()]:\n",
    "        sims_result_nqe[key2]['chem_pot'][0]+=row[2]\n",
    "    if key in [k for k in sims_result.keys()]:\n",
    "        sims_result_nqe[key]['chem_pot'][0]+=row[2]\n",
    "    "
   ]
  },
  {
   "cell_type": "code",
   "execution_count": null,
   "id": "ee9d7a53",
   "metadata": {
    "scrolled": true
   },
   "outputs": [],
   "source": [
    "colors = plt.cm.jet(np.linspace(0,0.6,6))\n",
    "if n_pressures>2:\n",
    "    fig, axs = plt.subplots(2, int(np.ceil(n_pressures/2)),figsize=settings['fig2_size'])\n",
    "    axs=axs.flatten()\n",
    "elif n_pressures==2:\n",
    "    fig, axs = plt.subplots(1, 2,figsize=settings['fig2_size'])\n",
    "    axs=axs.flatten()\n",
    "else:\n",
    "    fig, axs = plt.subplots(1, 1,figsize=settings['fig2_size'])\n",
    "    axs=[axs]\n",
    "\n",
    "\n",
    "press=np.unique([k.split('/')[0] for k in sims_result.keys()])\n",
    "for i, p in enumerate(press):\n",
    "    j=0\n",
    "    for key in sorted(sims_result.keys()):\n",
    "        if p in key:\n",
    "          \n",
    "            title=r'{:.3f}$\\,$GPa'.format(float(p.strip('COEX_atm'))*atm_to_gpa)\n",
    "            axs[i].set_title(title,size = MEDIUM_SIZE)\n",
    "            sim=sims_result[key]\n",
    "            title=key.replace(p,'').strip('/')\n",
    "            axs[i].fill_between(sim['n_water'],sim['fes']-3*sim['fes_err'],sim['fes']+3*sim['fes_err'],color=colors[j],linewidth=0,alpha=0.5)\n",
    "\n",
    "            axs[i].plot(sim['n_water'],sim['fes'],color=colors[j],label=title)\n",
    "            axs[i].plot(sim['n_water'],sim['fes_linear'],'--',color='black',alpha=0.5)\n",
    "            j+=1\n",
    "   # plot(x,linear_fn(x,*popt),'--',color='black',alpha=0.5)\n",
    "    axs[i].set_xlabel(r'# of ice-like molecules')\n",
    "    axs[i].set_ylabel(r'$\\Delta$G$_{\\mathrm{liq}\\to \\mathrm{ice}}$ (meV)')\n",
    "    axs[i].legend(ncol=2,prop={'size': 7},handletextpad=0.1,labelspacing=0.5,columnspacing=0.1,frameon=False)\n",
    "    \n",
    "if len(axs)!=n_pressures:\n",
    "    axs[i+1].axis('off')    \n",
    "plt.tight_layout()\n",
    "\n",
    "plt.savefig('figures/free_energies.png',dpi=300,bbox_inches='tight')"
   ]
  },
  {
   "cell_type": "markdown",
   "id": "e85385e8",
   "metadata": {},
   "source": [
    "## Melting point from linear fit of chemical potential"
   ]
  },
  {
   "cell_type": "code",
   "execution_count": null,
   "id": "90f65b98",
   "metadata": {},
   "outputs": [],
   "source": [
    "approximations=['Deep neural network',r'MB-pol, classical',r'MB-pol, quantum']\n",
    "linear_melting_points=dict()\n",
    "\n",
    "for approx in approximations:   \n",
    "    linear_melting_points[approx]=dict()\n",
    "\n",
    "for i, p in enumerate(press):\n",
    "    j=0\n",
    "    \n",
    "    for approx,sim_res in zip(approximations,[sims_result,sims_result_classical,sims_result_nqe]):\n",
    "        chem_pot=[]\n",
    "        for key in sim_res.keys():\n",
    "            if p in key:\n",
    "\n",
    "                sim=sim_res[key]\n",
    "                chem_pot.append([sims[key]['T'], sim['chem_pot'][0],sim['chem_pot'][1]])\n",
    "        chem_pot = np.array(chem_pot)\n",
    "        try:\n",
    "            popt, pcov = curve_fit(linear_fn, chem_pot[:,0], chem_pot[:,1],sigma=chem_pot[:,2])\n",
    "        except:\n",
    "            continue\n",
    "        linear_melting_points[approx][p]=dict()    \n",
    "        linear_melting_points[approx][p]['T_melt']=-popt[1]/popt[0]\n",
    "        linear_melting_points[approx][p]['S_melt']=popt[0]\n",
    "        linear_melting_points[approx][p]['H_melt']= -popt[1]\n",
    "        linear_melting_points[approx][p]['chem_pot']=np.array(chem_pot)\n",
    "        linear_melting_points[approx][p]['P']=float(p.strip('COEX_/atm'))\n"
   ]
  },
  {
   "cell_type": "code",
   "execution_count": null,
   "id": "7a9b07e2",
   "metadata": {
    "scrolled": true
   },
   "outputs": [],
   "source": [
    "if n_pressures>2:\n",
    "    fig, axs = plt.subplots(2, int(np.ceil(n_pressures/2)),figsize=settings['fig2_size'])\n",
    "    axs=axs.flatten()\n",
    "elif n_pressures==2:\n",
    "    fig, axs = plt.subplots(1, 2,figsize=settings['fig2_size'])\n",
    "    axs=axs.flatten()\n",
    "else:\n",
    "    fig, axs = plt.subplots(1, 1,figsize=settings['fig2_size'])\n",
    "    axs=[axs]\n",
    "\n",
    "coex_line=[]\n",
    "chempots=dict()\n",
    "\n",
    "for i, p in enumerate(press):\n",
    "    tmin=1E6\n",
    "    tmax=-1E6\n",
    "    for j, approx in enumerate(linear_melting_points.keys()):\n",
    "        if tmin>linear_melting_points[approx][p]['T_melt']:\n",
    "            tmin=linear_melting_points[approx][p]['T_melt'] \n",
    "        if tmax<linear_melting_points[approx][p]['T_melt']:\n",
    "            tmax=linear_melting_points[approx][p]['T_melt']\n",
    "        if tmin>linear_melting_points[approx][p]['chem_pot'][:,0].min():\n",
    "            tmin=linear_melting_points[approx][p]['chem_pot'][:,0].min() \n",
    "        if tmax<linear_melting_points[approx][p]['chem_pot'][:,0].max():\n",
    "            tmax=linear_melting_points[approx][p]['chem_pot'][:,0].max()\n",
    "    T=np.linspace(-2.5+tmin,tmax+2.5)\n",
    "    for j, approx in enumerate(linear_melting_points.keys()):\n",
    "        T_melt=linear_melting_points[approx][p]['T_melt']\n",
    "        chem_pot=linear_melting_points[approx][p]['chem_pot']\n",
    "        axs[i].scatter(chem_pot[:,0],chem_pot[:,1],color=colors_palette[j],label=approx)\n",
    "        axs[i].plot(T,-linear_melting_points[approx][p]['H_melt']+T*linear_melting_points[approx][p]['S_melt'],color=colors_palette[j])\n",
    "        axs[i].axhline(y=0.0, linestyle='--',color='k')\n",
    "        axs[i].set_ylabel(r'$\\Delta\\mu_{\\mathrm{liq}\\to \\mathrm{ice}}$ (meV)')\n",
    "        axs[i].set_xlabel('Temperature (K)')\n",
    "    title=r'{:.3f}$\\,$GPa'.format(float(p.strip('COEX_atm'))*atm_to_gpa) \n",
    "    axs[i].set_title(title)\n",
    "axs[0].legend(frameon=False)        \n",
    "if len(axs)!=n_pressures:\n",
    "    axs[i+1].axis('off') \n",
    "plt.tight_layout()\n",
    "plt.savefig('figures/chemical_potential.png',dpi=300, bbox_inches='tight')"
   ]
  },
  {
   "cell_type": "markdown",
   "id": "3ec2ffcb",
   "metadata": {},
   "source": [
    "## Save melting points"
   ]
  },
  {
   "cell_type": "code",
   "execution_count": null,
   "id": "cd4b63f4",
   "metadata": {
    "scrolled": true
   },
   "outputs": [],
   "source": [
    "!mkdir -p DATA/\n",
    "#!rm -rf DATA/*\n",
    "\n",
    "ncols=15\n",
    "header=str('#pressure[atm]').ljust(ncols)+str('temperature[K]').ljust(ncols)+'\\n'\n",
    "for approx in linear_melting_points.keys():\n",
    "    if approx == approximations[0]:\n",
    "        name='melting-points-DNN.dat'\n",
    "    elif approx == approximations[1]:\n",
    "        name='melting-points-MB-pol-classical.dat'  \n",
    "    elif approx == approximations[2]:\n",
    "        name='melting-points-MB-pol-quantum.dat' \n",
    "    with open('DATA/'+name,'w') as fp:\n",
    "        fp.write(header)\n",
    "        for p in sorted(linear_melting_points[approx].keys()):\n",
    "            P=linear_melting_points[approx][p]['P']\n",
    "            T_melt=linear_melting_points[approx][p]['T_melt']\n",
    "            fp.write(str(P).ljust(ncols)+'{:.2f}'.format(T_melt).ljust(ncols)+'\\n')\n",
    "!ls DATA/* | xargs -n1 bash -c 'echo $0:; cat $0; echo '"
   ]
  },
  {
   "cell_type": "code",
   "execution_count": null,
   "id": "9737901f",
   "metadata": {},
   "outputs": [],
   "source": []
  }
 ],
 "metadata": {
  "kernelspec": {
   "display_name": "Python 3 (ipykernel)",
   "language": "python",
   "name": "python3"
  },
  "language_info": {
   "codemirror_mode": {
    "name": "ipython",
    "version": 3
   },
   "file_extension": ".py",
   "mimetype": "text/x-python",
   "name": "python",
   "nbconvert_exporter": "python",
   "pygments_lexer": "ipython3",
   "version": "3.9.12"
  }
 },
 "nbformat": 4,
 "nbformat_minor": 5
}
