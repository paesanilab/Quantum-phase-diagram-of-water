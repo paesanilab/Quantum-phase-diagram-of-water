{
 "cells": [
  {
   "cell_type": "markdown",
   "id": "b9f240a2",
   "metadata": {},
   "source": [
    "# Preparation of biased coexsistence simulations"
   ]
  },
  {
   "cell_type": "code",
   "execution_count": 1,
   "id": "fb21dd18",
   "metadata": {},
   "outputs": [],
   "source": [
    "import numpy as np, sys, os, glob\n",
    "import matplotlib.pylab as plt\n",
    "import MDAnalysis"
   ]
  },
  {
   "cell_type": "code",
   "execution_count": 2,
   "id": "99754d4d",
   "metadata": {},
   "outputs": [
    {
     "name": "stdout",
     "output_type": "stream",
     "text": [
      "[[10000.      290.       49.958    24.966    23.001    90.       90.\n",
      "     90.   ]\n",
      " [ 8000.      265.       50.001    24.987    23.033    90.       90.\n",
      "     90.   ]\n",
      " [12000.      290.       49.838    24.904    22.923    90.       90.\n",
      "     90.   ]\n",
      " [ 9000.      260.       49.912    24.943    22.985    90.       90.\n",
      "     90.   ]\n",
      " [ 9000.      280.       49.991    24.982    23.021    90.       90.\n",
      "     90.   ]\n",
      " [12000.      300.       49.871    24.922    22.941    90.       90.\n",
      "     90.   ]\n",
      " [10000.      280.       49.929    24.951    22.983    90.       90.\n",
      "     90.   ]\n",
      " [ 9000.      270.       49.95     24.96     23.002    90.       90.\n",
      "     90.   ]\n",
      " [10000.      270.       49.897    24.935    22.966    90.       90.\n",
      "     90.   ]\n",
      " [ 8000.      275.       50.033    25.004    23.054    90.       90.\n",
      "     90.   ]\n",
      " [12000.      280.       49.805    24.888    22.906    90.       90.\n",
      "     90.   ]\n",
      " [10000.      285.       49.946    24.958    22.992    90.       90.\n",
      "     90.   ]\n",
      " [ 9000.      275.       49.972    24.972    23.013    90.       90.\n",
      "     90.   ]\n",
      " [12000.      285.       49.821    24.898    22.914    90.       90.\n",
      "     90.   ]\n",
      " [10000.      275.       49.899    24.936    22.971    90.       90.\n",
      "     90.   ]\n",
      " [ 8000.      270.       50.019    24.996    23.046    90.       90.\n",
      "     90.   ]\n",
      " [ 8000.      255.       49.958    24.967    23.013    90.       90.\n",
      "     90.   ]\n",
      " [12000.      295.       49.854    24.915    22.934    90.       90.\n",
      "     90.   ]\n",
      " [ 8000.      260.       49.982    24.977    23.025    90.       90.\n",
      "     90.   ]\n",
      " [ 9000.      265.       49.939    24.956    22.997    90.       90.\n",
      "     90.   ]]\n"
     ]
    }
   ],
   "source": [
    "standard_sim=os.path.abspath('template/')\n",
    "\n",
    "press_box = np.genfromtxt('../4-PrepareCoexistenceConfiguration/avg_ice_box.dat')\n",
    "print(press_box)\n",
    "presures=np.unique(press_box[:,0])"
   ]
  },
  {
   "cell_type": "code",
   "execution_count": 4,
   "id": "9fb55539",
   "metadata": {},
   "outputs": [
    {
     "name": "stdout",
     "output_type": "stream",
     "text": [
      "before [52.789078 24.971228 23.019014 90.       90.       90.      ]\n",
      "after [52.789078 24.966    23.001    90.       90.       90.      ]\n",
      "before [52.789078 24.971228 23.019014 90.       90.       90.      ]\n",
      "after [52.789078 24.987    23.033    90.       90.       90.      ]\n",
      "before [52.789078 24.971228 23.019014 90.       90.       90.      ]\n",
      "after [52.789078 24.904    22.923    90.       90.       90.      ]\n",
      "before [52.789078 24.971228 23.019014 90.       90.       90.      ]\n",
      "after [52.789078 24.943    22.985    90.       90.       90.      ]\n",
      "before [52.789078 24.971228 23.019014 90.       90.       90.      ]\n",
      "after [52.789078 24.982    23.021    90.       90.       90.      ]\n",
      "before [52.789078 24.971228 23.019014 90.       90.       90.      ]\n",
      "after [52.789078 24.922    22.941    90.       90.       90.      ]\n",
      "before [52.789078 24.971228 23.019014 90.       90.       90.      ]\n",
      "after [52.789078 24.951    22.983    90.       90.       90.      ]\n",
      "before [52.789078 24.971228 23.019014 90.       90.       90.      ]\n",
      "after [52.789078 24.96     23.002    90.       90.       90.      ]\n",
      "before [52.789078 24.971228 23.019014 90.       90.       90.      ]\n",
      "after [52.789078 24.935    22.966    90.       90.       90.      ]\n",
      "before [52.789078 24.971228 23.019014 90.       90.       90.      ]\n",
      "after [52.789078 25.004    23.054    90.       90.       90.      ]\n",
      "before [52.789078 24.971228 23.019014 90.       90.       90.      ]\n",
      "after [52.789078 24.888    22.906    90.       90.       90.      ]\n",
      "before [52.789078 24.971228 23.019014 90.       90.       90.      ]\n",
      "after [52.789078 24.958    22.992    90.       90.       90.      ]\n",
      "before [52.789078 24.971228 23.019014 90.       90.       90.      ]\n",
      "after [52.789078 24.972    23.013    90.       90.       90.      ]\n",
      "before [52.789078 24.971228 23.019014 90.       90.       90.      ]\n",
      "after [52.789078 24.898    22.914    90.       90.       90.      ]\n",
      "before [52.789078 24.971228 23.019014 90.       90.       90.      ]\n",
      "after [52.789078 24.936    22.971    90.       90.       90.      ]\n",
      "before [52.789078 24.971228 23.019014 90.       90.       90.      ]\n",
      "after [52.789078 24.996    23.046    90.       90.       90.      ]\n",
      "before [52.789078 24.971228 23.019014 90.       90.       90.      ]\n",
      "after [52.789078 24.967    23.013    90.       90.       90.      ]\n",
      "before [52.789078 24.971228 23.019014 90.       90.       90.      ]\n",
      "after [52.789078 24.915    22.934    90.       90.       90.      ]\n",
      "before [52.789078 24.971228 23.019014 90.       90.       90.      ]\n",
      "after [52.789078 24.977    23.025    90.       90.       90.      ]\n",
      "before [52.789078 24.971228 23.019014 90.       90.       90.      ]\n",
      "after [52.789078 24.956    22.997    90.       90.       90.      ]\n"
     ]
    }
   ],
   "source": [
    "sims = dict()\n",
    "for a in press_box[:]:\n",
    "    fold='COEX_{}atm/{}K/'.format(a[0],a[1])\n",
    "    os.system('mkdir -p {}'.format(fold))\n",
    "    os.system('cp {}/* {}'.format(standard_sim,fold))\n",
    "    sims[fold] = dict()\n",
    "    p=a[0]\n",
    "    t=a[1]\n",
    "    \n",
    "    cmd ='sed -i  \\\"s#REPLACE_PRESSURE#{}#g\\\" {}/in.pressure\\n'.format(p,fold)\n",
    "    cmd+='sed -i  \\\"s#REPLACE_TEMP#{}#g\\\" {}/in.temp\\n'.format(t,fold)\n",
    "    cmd+='sed -i  \\\"s#REPLACE_TEMP#{}#g\\\" {}/plumed*.dat'.format(t,fold)\n",
    "    os.system(cmd)\n",
    "    u = MDAnalysis.Universe('template/water.data', in_memory=True)\n",
    "    print('before',u.dimensions)\n",
    "    dimensions_new=a[2:]\n",
    "    max_l=np.max(u.dimensions[:3])\n",
    "    max_dim=np.where(u.dimensions==max_l)[0][0]\n",
    "    dimensions_new[max_dim]=u.dimensions[max_dim]\n",
    "    for dim in range(3):\n",
    "        if not dim==max_dim:\n",
    "            u.coord.positions[:,dim] = u.coord.positions[:,dim]*dimensions_new[dim]/u.dimensions[dim]\n",
    "    u.dimensions=dimensions_new\n",
    "    print('after',u.dimensions)\n",
    "\n",
    "    u.atoms.write(fold+'/water.data')"
   ]
  },
  {
   "cell_type": "markdown",
   "id": "9b4b8215",
   "metadata": {},
   "source": [
    "### Convert notebook to python script"
   ]
  },
  {
   "cell_type": "code",
   "execution_count": 11,
   "id": "56fda0cc",
   "metadata": {
    "scrolled": false
   },
   "outputs": [
    {
     "name": "stdout",
     "output_type": "stream",
     "text": [
      "[NbConvertApp] Converting notebook PrepareCoexsistence.ipynb to script\n",
      "[NbConvertApp] Writing 1526 bytes to PrepareCoexsistence.py\n"
     ]
    }
   ],
   "source": [
    "!jupyter nbconvert --to script PrepareCoexsistence.ipynb"
   ]
  },
  {
   "cell_type": "code",
   "execution_count": null,
   "id": "97adfba4",
   "metadata": {},
   "outputs": [],
   "source": []
  }
 ],
 "metadata": {
  "kernelspec": {
   "display_name": "Python 3 (ipykernel)",
   "language": "python",
   "name": "python3"
  },
  "language_info": {
   "codemirror_mode": {
    "name": "ipython",
    "version": 3
   },
   "file_extension": ".py",
   "mimetype": "text/x-python",
   "name": "python",
   "nbconvert_exporter": "python",
   "pygments_lexer": "ipython3",
   "version": "3.9.12"
  }
 },
 "nbformat": 4,
 "nbformat_minor": 5
}
