{
 "cells": [
  {
   "cell_type": "code",
   "execution_count": 1,
   "id": "9e7a5dd1",
   "metadata": {},
   "outputs": [
    {
     "name": "stderr",
     "output_type": "stream",
     "text": [
      "/Users/sigbjobo/miniforge3/lib/python3.9/site-packages/MDAnalysis/coordinates/chemfiles.py:108: DeprecationWarning: distutils Version classes are deprecated. Use packaging.version instead.\n",
      "  MIN_CHEMFILES_VERSION = LooseVersion(\"0.9\")\n"
     ]
    }
   ],
   "source": [
    "import numpy as np\n",
    "import glob\n",
    "import matplotlib.pyplot as plt\n",
    "import pickle\n",
    "import MDAnalysis, sys\n",
    "from MDAnalysis import transformations\n",
    "%config InlineBackend.figure_format = 'retina'\n",
    "dt=0.5# fs\n"
   ]
  },
  {
   "cell_type": "code",
   "execution_count": 2,
   "id": "a36a981e",
   "metadata": {},
   "outputs": [],
   "source": [
    "ice='IceVI'"
   ]
  },
  {
   "cell_type": "code",
   "execution_count": 3,
   "id": "c2d4b1d5",
   "metadata": {},
   "outputs": [],
   "source": [
    "def extract_form_log(fn,dt):\n",
    "    lines=open(fn,'r').readlines()\n",
    "    start=np.where([('Step' in l) for l in lines])[-1][0]\n",
    "    data={keyi.lower(): []  for keyi in lines[start].split()}\n",
    "    for l in lines[start+1:]:\n",
    "        ls=l.split()\n",
    "        if ls[0].isdigit():\n",
    "            for i, key in enumerate(data.keys()):\n",
    "                data[key].append(float(ls[i]))\n",
    "        else:\n",
    "            break\n",
    "    \n",
    "    for key in data.keys():\n",
    "        data[key]=np.array(data[key])\n",
    "    data['time_ps']=dt*data['step']/1000\n",
    "    return data"
   ]
  },
  {
   "cell_type": "code",
   "execution_count": 4,
   "id": "e4cb37c0",
   "metadata": {},
   "outputs": [],
   "source": [
    "sims=dict()\n",
    "with open('avg_{}_box.dat'.format(ice),'w') as fp:\n",
    "    \n",
    "    for fold in glob.glob(ice+'_*/'):\n",
    "        #try:\n",
    "        key=fold[:-1]\n",
    "        ls=key.split('_')\n",
    "\n",
    "        u=MDAnalysis.Universe(fold+'/water.data',fold+'/dump.dcd')\n",
    "        dims=[]\n",
    "        for ts in u.trajectory:\n",
    "            dims.append(u.dimensions)\n",
    "        p=round(float(ls[1].strip('atm')),0)\n",
    "        t=round(float(ls[2].strip('K')),0)    \n",
    "        dims=np.array(dims)[len(dims)//10:].mean(axis=0)\n",
    "        fp.write('\\t'.join(['{}'.format(d) for d in [p,t]+dims.tolist()])+'\\n')"
   ]
  },
  {
   "cell_type": "code",
   "execution_count": 5,
   "id": "c13e5206",
   "metadata": {},
   "outputs": [
    {
     "name": "stdout",
     "output_type": "stream",
     "text": [
      "7000.0\t260.0\t24.902660369873047\t24.899803161621094\t22.962621688842773\t90.0\t90.0\t90.0\r\n",
      "7000.0\t250.0\t24.872840881347656\t24.86890983581543\t22.937044143676758\t90.0\t90.0\t90.0\r\n",
      "9000.0\t270.0\t24.83584213256836\t24.83308219909668\t22.875974655151367\t90.0\t90.0\t90.0\r\n",
      "9000.0\t260.0\t24.813819885253906\t24.812030792236328\t22.856063842773438\t90.0\t90.0\t90.0\r\n",
      "7000.0\t265.0\t24.909982681274414\t24.904884338378906\t22.964967727661133\t90.0\t90.0\t90.0\r\n",
      "9000.0\t255.0\t24.806299209594727\t24.801469802856445\t22.852033615112305\t90.0\t90.0\t90.0\r\n",
      "9000.0\t275.0\t24.848642349243164\t24.843568801879883\t22.886459350585938\t90.0\t90.0\t90.0\r\n",
      "7000.0\t255.0\t24.887067794799805\t24.88095474243164\t22.94369888305664\t90.0\t90.0\t90.0\r\n",
      "7000.0\t245.0\t24.862340927124023\t24.86001968383789\t22.929338455200195\t90.0\t90.0\t90.0\r\n",
      "9000.0\t265.0\t24.828645706176758\t24.824613571166992\t22.8708438873291\t90.0\t90.0\t90.0\r\n"
     ]
    }
   ],
   "source": [
    "!cat avg_IceVI_box.dat"
   ]
  },
  {
   "cell_type": "code",
   "execution_count": null,
   "id": "e0af003a",
   "metadata": {},
   "outputs": [],
   "source": []
  }
 ],
 "metadata": {
  "kernelspec": {
   "display_name": "Python 3 (ipykernel)",
   "language": "python",
   "name": "python3"
  },
  "language_info": {
   "codemirror_mode": {
    "name": "ipython",
    "version": 3
   },
   "file_extension": ".py",
   "mimetype": "text/x-python",
   "name": "python",
   "nbconvert_exporter": "python",
   "pygments_lexer": "ipython3",
   "version": "3.9.12"
  }
 },
 "nbformat": 4,
 "nbformat_minor": 5
}
