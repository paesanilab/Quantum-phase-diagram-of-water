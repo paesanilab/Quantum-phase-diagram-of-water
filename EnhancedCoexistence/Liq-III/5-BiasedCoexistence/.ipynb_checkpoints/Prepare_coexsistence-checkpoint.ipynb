{
 "cells": [
  {
   "cell_type": "markdown",
   "id": "b9f240a2",
   "metadata": {},
   "source": [
    "# Preparation of biased coexsistence simulations"
   ]
  },
  {
   "cell_type": "code",
   "execution_count": 9,
   "id": "fb21dd18",
   "metadata": {},
   "outputs": [],
   "source": [
    "import numpy as np, sys, os, glob\n",
    "import matplotlib.pylab as plt\n",
    "import MDAnalysis"
   ]
  },
  {
   "cell_type": "code",
   "execution_count": 10,
   "id": "99754d4d",
   "metadata": {},
   "outputs": [],
   "source": [
    "standard_sim=os.path.abspath('230K-3000bar')\n",
    "press_box = np.genfromtxt('../2-Bulk/avg_IceIII_box.dat')\n",
    "single_pressure=None\n"
   ]
  },
  {
   "cell_type": "code",
   "execution_count": 14,
   "id": "9fb55539",
   "metadata": {},
   "outputs": [],
   "source": [
    "sims = dict()\n",
    "for a in press_box[:]:\n",
    "    fold='COEX_{}bar/template/'.format(a[0])\n",
    "    sims[fold] = dict()\n",
    "    sims[fold]['p']=a[0]\n",
    "    os.system('mkdir -p {}'.format(fold))\n",
    "    os.system('cp -r 230K-3000bar/* {}'.format(fold))\n",
    "    os.system('cp -r ../4-PrepareCoexistenceConfiguration/COEX_BOXES/water_{}bar.data {}/water.data'.format(a[0],fold))\n",
    "    os.system('sed -i \"\"   \"s#variable .* pressure .*#variable        pressure equal {}#g\" {}/in.pressure'.format(a[0],fold))\n"
   ]
  },
  {
   "cell_type": "code",
   "execution_count": 16,
   "id": "b19f4ccf",
   "metadata": {},
   "outputs": [
    {
     "name": "stdout",
     "output_type": "stream",
     "text": [
      "dict_keys(['COEX_2000.0bar/template/', 'COEX_2500.0bar/template/', 'COEX_3000.0bar/template/', 'COEX_4000.0bar/template/', 'COEX_5000.0bar/template/', 'COEX_6000.0bar/template/', 'COEX_7000.0bar/template/'])\n"
     ]
    }
   ],
   "source": [
    "print(sims.keys())"
   ]
  },
  {
   "cell_type": "markdown",
   "id": "97e8ce86",
   "metadata": {},
   "source": [
    "### Setup different temperatures"
   ]
  },
  {
   "cell_type": "code",
   "execution_count": 30,
   "id": "86fd88fc",
   "metadata": {},
   "outputs": [
    {
     "name": "stdout",
     "output_type": "stream",
     "text": [
      "COEX_2000.0bar/template/\n",
      "[240 245 250 255 260 265]\n",
      "COEX_2500.0bar/template/\n",
      "[245 250 255 260 265 270]\n",
      "COEX_3000.0bar/template/\n",
      "[245 250 255 260 265 270]\n",
      "COEX_4000.0bar/template/\n",
      "[250 255 260 265 270 275]\n",
      "COEX_5000.0bar/template/\n",
      "[250 255 260 265 270 275]\n",
      "COEX_6000.0bar/template/\n",
      "[245 250 255 260 265 270]\n",
      "COEX_7000.0bar/template/\n",
      "[245 250 255 260 265 270]\n"
     ]
    },
    {
     "data": {
      "image/png": "[encoded data removed]",
      "text/plain": [
       "<Figure size 432x288 with 1 Axes>"
      ]
     },
     "metadata": {
      "needs_background": "light"
     },
     "output_type": "display_data"
    }
   ],
   "source": [
    "sims['COEX_2000.0bar/template/']['temps']=np.array([240,245,250,255,260,265])\n",
    "sims['COEX_2500.0bar/template/']['temps']=np.array([245,250,255,260,265,270])\n",
    "sims['COEX_3000.0bar/template/']['temps']=np.array([245,250,255,260,265,270])\n",
    "sims['COEX_4000.0bar/template/']['temps']=np.array([250,255,260,265,270,275])\n",
    "sims['COEX_5000.0bar/template/']['temps']=np.array([250,255,260,265,270,275])\n",
    "sims['COEX_6000.0bar/template/']['temps']=np.array([245,250,255,260,265,270])\n",
    "sims['COEX_7000.0bar/template/']['temps']=np.array([245,250,255,260,265,270])\n",
    "\n",
    "\n",
    "\n",
    "tip4p_vega_data=np.genfromtxt('IceIII_Liquid_pd.dat')\n",
    "tip4p_vega_data[:,1]=tip4p_vega_data[:,1]*10\n",
    "melt_fn = np.poly1d(np.polyfit(tip4p_vega_data[:,1], tip4p_vega_data[:,0], 3))\n",
    "\n",
    "#Ps=np.linspace(3000,8000,200)\n",
    "plt.plot(tip4p_vega_data[:,1],tip4p_vega_data[:,0])\n",
    "#plt.plot(Ps,melt_fn(Ps))\n",
    "\n",
    "for fold in sims.keys():\n",
    "    p=sims[fold]['p']\n",
    "    T_m=melt_fn(p)\n",
    "    #T_range=np.round((T_m+np.arange(-7.5,17.5,5))/5, decimals=0)*5\n",
    "    print(fold)\n",
    "    T_range=sims[fold]['temps']#=T_range\n",
    "    print(T_range)\n",
    "    plt.scatter(p+T_range*0,T_range)"
   ]
  },
  {
   "cell_type": "code",
   "execution_count": 20,
   "id": "8cb45f4f",
   "metadata": {
    "scrolled": true
   },
   "outputs": [
    {
     "name": "stdout",
     "output_type": "stream",
     "text": [
      "mkdir -p COEX_2000.0bar//240K\n",
      "cp COEX_2000.0bar/template//* COEX_2000.0bar//240K/\n",
      "sed -i  \"s#variable.*temperature.*#variable        temperature equal 240#g\" COEX_2000.0bar//240K/in.temp\n",
      "sed -i  \"s#TEMP=230#TEMP=240#g\" COEX_2000.0bar//240K/plumed*.dat\n",
      "mkdir -p COEX_2000.0bar//245K\n",
      "cp COEX_2000.0bar/template//* COEX_2000.0bar//245K/\n",
      "sed -i  \"s#variable.*temperature.*#variable        temperature equal 245#g\" COEX_2000.0bar//245K/in.temp\n",
      "sed -i  \"s#TEMP=230#TEMP=245#g\" COEX_2000.0bar//245K/plumed*.dat\n",
      "mkdir -p COEX_2000.0bar//250K\n",
      "cp COEX_2000.0bar/template//* COEX_2000.0bar//250K/\n",
      "sed -i  \"s#variable.*temperature.*#variable        temperature equal 250#g\" COEX_2000.0bar//250K/in.temp\n",
      "sed -i  \"s#TEMP=230#TEMP=250#g\" COEX_2000.0bar//250K/plumed*.dat\n",
      "mkdir -p COEX_2000.0bar//255K\n",
      "cp COEX_2000.0bar/template//* COEX_2000.0bar//255K/\n",
      "sed -i  \"s#variable.*temperature.*#variable        temperature equal 255#g\" COEX_2000.0bar//255K/in.temp\n",
      "sed -i  \"s#TEMP=230#TEMP=255#g\" COEX_2000.0bar//255K/plumed*.dat\n",
      "mkdir -p COEX_2000.0bar//260K\n",
      "cp COEX_2000.0bar/template//* COEX_2000.0bar//260K/\n",
      "sed -i  \"s#variable.*temperature.*#variable        temperature equal 260#g\" COEX_2000.0bar//260K/in.temp\n",
      "sed -i  \"s#TEMP=230#TEMP=260#g\" COEX_2000.0bar//260K/plumed*.dat\n",
      "mkdir -p COEX_2000.0bar//265K\n",
      "cp COEX_2000.0bar/template//* COEX_2000.0bar//265K/\n",
      "sed -i  \"s#variable.*temperature.*#variable        temperature equal 265#g\" COEX_2000.0bar//265K/in.temp\n",
      "sed -i  \"s#TEMP=230#TEMP=265#g\" COEX_2000.0bar//265K/plumed*.dat\n",
      "mkdir -p COEX_2500.0bar//245K\n",
      "cp COEX_2500.0bar/template//* COEX_2500.0bar//245K/\n",
      "sed -i  \"s#variable.*temperature.*#variable        temperature equal 245#g\" COEX_2500.0bar//245K/in.temp\n",
      "sed -i  \"s#TEMP=230#TEMP=245#g\" COEX_2500.0bar//245K/plumed*.dat\n",
      "mkdir -p COEX_2500.0bar//250K\n",
      "cp COEX_2500.0bar/template//* COEX_2500.0bar//250K/\n",
      "sed -i  \"s#variable.*temperature.*#variable        temperature equal 250#g\" COEX_2500.0bar//250K/in.temp\n",
      "sed -i  \"s#TEMP=230#TEMP=250#g\" COEX_2500.0bar//250K/plumed*.dat\n",
      "mkdir -p COEX_2500.0bar//255K\n",
      "cp COEX_2500.0bar/template//* COEX_2500.0bar//255K/\n",
      "sed -i  \"s#variable.*temperature.*#variable        temperature equal 255#g\" COEX_2500.0bar//255K/in.temp\n",
      "sed -i  \"s#TEMP=230#TEMP=255#g\" COEX_2500.0bar//255K/plumed*.dat\n",
      "mkdir -p COEX_2500.0bar//260K\n",
      "cp COEX_2500.0bar/template//* COEX_2500.0bar//260K/\n",
      "sed -i  \"s#variable.*temperature.*#variable        temperature equal 260#g\" COEX_2500.0bar//260K/in.temp\n",
      "sed -i  \"s#TEMP=230#TEMP=260#g\" COEX_2500.0bar//260K/plumed*.dat\n",
      "mkdir -p COEX_2500.0bar//265K\n",
      "cp COEX_2500.0bar/template//* COEX_2500.0bar//265K/\n",
      "sed -i  \"s#variable.*temperature.*#variable        temperature equal 265#g\" COEX_2500.0bar//265K/in.temp\n",
      "sed -i  \"s#TEMP=230#TEMP=265#g\" COEX_2500.0bar//265K/plumed*.dat\n",
      "mkdir -p COEX_2500.0bar//270K\n",
      "cp COEX_2500.0bar/template//* COEX_2500.0bar//270K/\n",
      "sed -i  \"s#variable.*temperature.*#variable        temperature equal 270#g\" COEX_2500.0bar//270K/in.temp\n",
      "sed -i  \"s#TEMP=230#TEMP=270#g\" COEX_2500.0bar//270K/plumed*.dat\n",
      "mkdir -p COEX_3000.0bar//245K\n",
      "cp COEX_3000.0bar/template//* COEX_3000.0bar//245K/\n",
      "sed -i  \"s#variable.*temperature.*#variable        temperature equal 245#g\" COEX_3000.0bar//245K/in.temp\n",
      "sed -i  \"s#TEMP=230#TEMP=245#g\" COEX_3000.0bar//245K/plumed*.dat\n",
      "mkdir -p COEX_3000.0bar//250K\n",
      "cp COEX_3000.0bar/template//* COEX_3000.0bar//250K/\n",
      "sed -i  \"s#variable.*temperature.*#variable        temperature equal 250#g\" COEX_3000.0bar//250K/in.temp\n",
      "sed -i  \"s#TEMP=230#TEMP=250#g\" COEX_3000.0bar//250K/plumed*.dat\n",
      "mkdir -p COEX_3000.0bar//255K\n",
      "cp COEX_3000.0bar/template//* COEX_3000.0bar//255K/\n",
      "sed -i  \"s#variable.*temperature.*#variable        temperature equal 255#g\" COEX_3000.0bar//255K/in.temp\n",
      "sed -i  \"s#TEMP=230#TEMP=255#g\" COEX_3000.0bar//255K/plumed*.dat\n",
      "mkdir -p COEX_3000.0bar//260K\n",
      "cp COEX_3000.0bar/template//* COEX_3000.0bar//260K/\n",
      "sed -i  \"s#variable.*temperature.*#variable        temperature equal 260#g\" COEX_3000.0bar//260K/in.temp\n",
      "sed -i  \"s#TEMP=230#TEMP=260#g\" COEX_3000.0bar//260K/plumed*.dat\n",
      "mkdir -p COEX_3000.0bar//265K\n",
      "cp COEX_3000.0bar/template//* COEX_3000.0bar//265K/\n",
      "sed -i  \"s#variable.*temperature.*#variable        temperature equal 265#g\" COEX_3000.0bar//265K/in.temp\n",
      "sed -i  \"s#TEMP=230#TEMP=265#g\" COEX_3000.0bar//265K/plumed*.dat\n",
      "mkdir -p COEX_3000.0bar//270K\n",
      "cp COEX_3000.0bar/template//* COEX_3000.0bar//270K/\n",
      "sed -i  \"s#variable.*temperature.*#variable        temperature equal 270#g\" COEX_3000.0bar//270K/in.temp\n",
      "sed -i  \"s#TEMP=230#TEMP=270#g\" COEX_3000.0bar//270K/plumed*.dat\n",
      "mkdir -p COEX_4000.0bar//250K\n",
      "cp COEX_4000.0bar/template//* COEX_4000.0bar//250K/\n",
      "sed -i  \"s#variable.*temperature.*#variable        temperature equal 250#g\" COEX_4000.0bar//250K/in.temp\n",
      "sed -i  \"s#TEMP=230#TEMP=250#g\" COEX_4000.0bar//250K/plumed*.dat\n",
      "mkdir -p COEX_4000.0bar//255K\n",
      "cp COEX_4000.0bar/template//* COEX_4000.0bar//255K/\n",
      "sed -i  \"s#variable.*temperature.*#variable        temperature equal 255#g\" COEX_4000.0bar//255K/in.temp\n",
      "sed -i  \"s#TEMP=230#TEMP=255#g\" COEX_4000.0bar//255K/plumed*.dat\n",
      "mkdir -p COEX_4000.0bar//260K\n",
      "cp COEX_4000.0bar/template//* COEX_4000.0bar//260K/\n",
      "sed -i  \"s#variable.*temperature.*#variable        temperature equal 260#g\" COEX_4000.0bar//260K/in.temp\n",
      "sed -i  \"s#TEMP=230#TEMP=260#g\" COEX_4000.0bar//260K/plumed*.dat\n",
      "mkdir -p COEX_4000.0bar//265K\n",
      "cp COEX_4000.0bar/template//* COEX_4000.0bar//265K/\n",
      "sed -i  \"s#variable.*temperature.*#variable        temperature equal 265#g\" COEX_4000.0bar//265K/in.temp\n",
      "sed -i  \"s#TEMP=230#TEMP=265#g\" COEX_4000.0bar//265K/plumed*.dat\n",
      "mkdir -p COEX_4000.0bar//270K\n",
      "cp COEX_4000.0bar/template//* COEX_4000.0bar//270K/\n",
      "sed -i  \"s#variable.*temperature.*#variable        temperature equal 270#g\" COEX_4000.0bar//270K/in.temp\n",
      "sed -i  \"s#TEMP=230#TEMP=270#g\" COEX_4000.0bar//270K/plumed*.dat\n",
      "mkdir -p COEX_4000.0bar//275K\n",
      "cp COEX_4000.0bar/template//* COEX_4000.0bar//275K/\n",
      "sed -i  \"s#variable.*temperature.*#variable        temperature equal 275#g\" COEX_4000.0bar//275K/in.temp\n",
      "sed -i  \"s#TEMP=230#TEMP=275#g\" COEX_4000.0bar//275K/plumed*.dat\n",
      "mkdir -p COEX_5000.0bar//245K\n",
      "cp COEX_5000.0bar/template//* COEX_5000.0bar//245K/\n",
      "sed -i  \"s#variable.*temperature.*#variable        temperature equal 245#g\" COEX_5000.0bar//245K/in.temp\n",
      "sed -i  \"s#TEMP=230#TEMP=245#g\" COEX_5000.0bar//245K/plumed*.dat\n",
      "mkdir -p COEX_5000.0bar//250K\n",
      "cp COEX_5000.0bar/template//* COEX_5000.0bar//250K/\n",
      "sed -i  \"s#variable.*temperature.*#variable        temperature equal 250#g\" COEX_5000.0bar//250K/in.temp\n",
      "sed -i  \"s#TEMP=230#TEMP=250#g\" COEX_5000.0bar//250K/plumed*.dat\n",
      "mkdir -p COEX_5000.0bar//255K\n",
      "cp COEX_5000.0bar/template//* COEX_5000.0bar//255K/\n",
      "sed -i  \"s#variable.*temperature.*#variable        temperature equal 255#g\" COEX_5000.0bar//255K/in.temp\n",
      "sed -i  \"s#TEMP=230#TEMP=255#g\" COEX_5000.0bar//255K/plumed*.dat\n",
      "mkdir -p COEX_5000.0bar//260K\n",
      "cp COEX_5000.0bar/template//* COEX_5000.0bar//260K/\n",
      "sed -i  \"s#variable.*temperature.*#variable        temperature equal 260#g\" COEX_5000.0bar//260K/in.temp\n",
      "sed -i  \"s#TEMP=230#TEMP=260#g\" COEX_5000.0bar//260K/plumed*.dat\n",
      "mkdir -p COEX_5000.0bar//265K\n",
      "cp COEX_5000.0bar/template//* COEX_5000.0bar//265K/\n",
      "sed -i  \"s#variable.*temperature.*#variable        temperature equal 265#g\" COEX_5000.0bar//265K/in.temp\n",
      "sed -i  \"s#TEMP=230#TEMP=265#g\" COEX_5000.0bar//265K/plumed*.dat\n",
      "mkdir -p COEX_5000.0bar//270K\n",
      "cp COEX_5000.0bar/template//* COEX_5000.0bar//270K/\n",
      "sed -i  \"s#variable.*temperature.*#variable        temperature equal 270#g\" COEX_5000.0bar//270K/in.temp\n",
      "sed -i  \"s#TEMP=230#TEMP=270#g\" COEX_5000.0bar//270K/plumed*.dat\n"
     ]
    },
    {
     "ename": "KeyError",
     "evalue": "'temps'",
     "output_type": "error",
     "traceback": [
      "\u001b[0;31m---------------------------------------------------------------------------\u001b[0m",
      "\u001b[0;31mKeyError\u001b[0m                                  Traceback (most recent call last)",
      "\u001b[0;32m/var/folders/gk/bdqkskqj2fv8dk9kgrxm5psh0000gn/T/ipykernel_20368/2521983458.py\u001b[0m in \u001b[0;36m<module>\u001b[0;34m\u001b[0m\n\u001b[1;32m      1\u001b[0m \u001b[0;32mfor\u001b[0m \u001b[0mfold\u001b[0m \u001b[0;32min\u001b[0m \u001b[0msims\u001b[0m\u001b[0;34m.\u001b[0m\u001b[0mkeys\u001b[0m\u001b[0;34m(\u001b[0m\u001b[0;34m)\u001b[0m\u001b[0;34m:\u001b[0m\u001b[0;34m\u001b[0m\u001b[0;34m\u001b[0m\u001b[0m\n\u001b[1;32m      2\u001b[0m     \u001b[0msim\u001b[0m\u001b[0;34m=\u001b[0m\u001b[0msims\u001b[0m\u001b[0;34m[\u001b[0m\u001b[0mfold\u001b[0m\u001b[0;34m]\u001b[0m\u001b[0;34m\u001b[0m\u001b[0;34m\u001b[0m\u001b[0m\n\u001b[0;32m----> 3\u001b[0;31m     \u001b[0;32mfor\u001b[0m \u001b[0mt\u001b[0m \u001b[0;32min\u001b[0m \u001b[0msim\u001b[0m\u001b[0;34m[\u001b[0m\u001b[0;34m'temps'\u001b[0m\u001b[0;34m]\u001b[0m\u001b[0;34m:\u001b[0m\u001b[0;34m\u001b[0m\u001b[0;34m\u001b[0m\u001b[0m\n\u001b[0m\u001b[1;32m      4\u001b[0m         \u001b[0mtemp_fold\u001b[0m \u001b[0;34m=\u001b[0m \u001b[0;34m'{}{}K'\u001b[0m\u001b[0;34m.\u001b[0m\u001b[0mformat\u001b[0m\u001b[0;34m(\u001b[0m\u001b[0mfold\u001b[0m\u001b[0;34m.\u001b[0m\u001b[0mreplace\u001b[0m\u001b[0;34m(\u001b[0m\u001b[0;34m'template'\u001b[0m\u001b[0;34m,\u001b[0m\u001b[0;34m''\u001b[0m\u001b[0;34m)\u001b[0m\u001b[0;34m,\u001b[0m\u001b[0mt\u001b[0m\u001b[0;34m)\u001b[0m\u001b[0;34m\u001b[0m\u001b[0;34m\u001b[0m\u001b[0m\n\u001b[1;32m      5\u001b[0m         \u001b[0mcmd\u001b[0m\u001b[0;34m=\u001b[0m\u001b[0;34m'mkdir -p {}\\n'\u001b[0m\u001b[0;34m.\u001b[0m\u001b[0mformat\u001b[0m\u001b[0;34m(\u001b[0m\u001b[0mtemp_fold\u001b[0m\u001b[0;34m)\u001b[0m\u001b[0;34m\u001b[0m\u001b[0;34m\u001b[0m\u001b[0m\n",
      "\u001b[0;31mKeyError\u001b[0m: 'temps'"
     ]
    }
   ],
   "source": [
    "for fold in sims.keys():\n",
    "    sim=sims[fold]\n",
    "    for t in sim['temps']:\n",
    "        temp_fold = '{}{}K'.format(fold.replace('template',''),t)\n",
    "        cmd='mkdir -p {}\\n'.format(temp_fold)\n",
    "        cmd+='cp {}/* {}/\\n'.format(fold,temp_fold)\n",
    "        cmd+='sed -i  \\\"s#variable.*temperature.*#variable        temperature equal {}#g\\\" {}/in.temp\\n'.format(t,temp_fold)\n",
    "        cmd+='sed -i  \\\"s#TEMP=230#TEMP={}#g\\\" {}/plumed*.dat'.format(t,temp_fold)\n",
    "        \n",
    "        #cmd+='sed -i \\\"s#variable.*temperature.*#variable        temperature equal {}#g\\\" {}/in.temp'.format(t,temp_fold)\n",
    "        print(cmd)\n",
    "        os.system(cmd)"
   ]
  },
  {
   "cell_type": "markdown",
   "id": "9b4b8215",
   "metadata": {},
   "source": [
    "### Convert notebook to python script"
   ]
  },
  {
   "cell_type": "code",
   "execution_count": 26,
   "id": "56fda0cc",
   "metadata": {
    "scrolled": true
   },
   "outputs": [
    {
     "name": "stdout",
     "output_type": "stream",
     "text": [
      "[NbConvertApp] Converting notebook Prepare_coexsistence.ipynb to script\n",
      "[NbConvertApp] Writing 2744 bytes to Prepare_coexsistence.py\n"
     ]
    }
   ],
   "source": [
    "!jupyter nbconvert --to script Prepare_coexsistence.ipynb"
   ]
  },
  {
   "cell_type": "code",
   "execution_count": null,
   "id": "63c6ffb9",
   "metadata": {},
   "outputs": [],
   "source": []
  }
 ],
 "metadata": {
  "kernelspec": {
   "display_name": "Python 3 (ipykernel)",
   "language": "python",
   "name": "python3"
  },
  "language_info": {
   "codemirror_mode": {
    "name": "ipython",
    "version": 3
   },
   "file_extension": ".py",
   "mimetype": "text/x-python",
   "name": "python",
   "nbconvert_exporter": "python",
   "pygments_lexer": "ipython3",
   "version": "3.9.6"
  }
 },
 "nbformat": 4,
 "nbformat_minor": 5
}
