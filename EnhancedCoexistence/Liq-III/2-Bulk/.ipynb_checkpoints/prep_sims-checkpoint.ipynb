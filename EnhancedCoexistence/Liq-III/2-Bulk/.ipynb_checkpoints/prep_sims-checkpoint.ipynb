{
 "cells": [
  {
   "cell_type": "markdown",
   "id": "85c080b8",
   "metadata": {},
   "source": [
    "# Prepare simulations"
   ]
  },
  {
   "cell_type": "code",
   "execution_count": 3,
   "id": "8bd4ff7d",
   "metadata": {},
   "outputs": [],
   "source": [
    "import numpy as np\n",
    "import os, sys"
   ]
  },
  {
   "cell_type": "markdown",
   "id": "66476abe",
   "metadata": {},
   "source": [
    "### Pressure values for simulations"
   ]
  },
  {
   "cell_type": "code",
   "execution_count": 4,
   "id": "01b6e019",
   "metadata": {
    "scrolled": true
   },
   "outputs": [
    {
     "name": "stdout",
     "output_type": "stream",
     "text": [
      "0\n",
      "1000\n",
      "1500\n",
      "2000\n",
      "2500\n"
     ]
    }
   ],
   "source": [
    "# Pressures in mpa\n",
    "#P_mpa=np.round(np.linspace(0.1,200,11),1)\n",
    "\n",
    "# Pressures in bar\n",
    "P_bar=[3000,4000,5000, 6000] #np.round(P_mpa*10,0)\n",
    "for p in P_bar:\n",
    "    print(p)"
   ]
  },
  {
   "cell_type": "markdown",
   "id": "e8fde166",
   "metadata": {},
   "source": [
    "### Make simulation folders"
   ]
  },
  {
   "cell_type": "code",
   "execution_count": null,
   "id": "4fdb047a",
   "metadata": {},
   "outputs": [],
   "source": [
    "for i, pbar in enumerate(P_bar):\n",
    "    pbar=P_bar[i]\n",
    "    fold='IceIh_{}bar'.format(pbar)\n",
    "    os.system('cp -r IceIh {}'.format(fold))\n",
    "    cmd='sed -i \"\" \"s#variable .* pressure .*#variable        pressure equal {}#g\" {}/in.pressure'.format(pbar,fold)\n",
    "    os.system(cmd)\n",
    "for i, pbar in enumerate(P_bar):\n",
    "    pbar=P_bar[i]\n",
    "    fold='Liquid_{}bar'.format(pbar)\n",
    "    os.system('cp -r Liquid {}'.format(fold))\n",
    "    cmd='sed -i \"\" \"s#variable .* pressure .*#variable        pressure equal {}#g\" {}/in.pressure'.format(pbar,fold)\n",
    "    os.system(cmd)\n"
   ]
  },
  {
   "cell_type": "markdown",
   "id": "af543e8b",
   "metadata": {},
   "source": []
  },
  {
   "cell_type": "code",
   "execution_count": 3,
   "id": "fa4a04bc",
   "metadata": {},
   "outputs": [
    {
     "name": "stdout",
     "output_type": "stream",
     "text": [
      "[NbConvertApp] Converting notebook prep_sims.ipynb to script\n",
      "[NbConvertApp] Writing 1018 bytes to prep_sims.py\n"
     ]
    }
   ],
   "source": [
    "!jupyter nbconvert --to script prep_sims.ipynb"
   ]
  },
  {
   "cell_type": "code",
   "execution_count": null,
   "id": "ec70461e",
   "metadata": {},
   "outputs": [],
   "source": []
  }
 ],
 "metadata": {
  "kernelspec": {
   "display_name": "Python 3 (ipykernel)",
   "language": "python",
   "name": "python3"
  },
  "language_info": {
   "codemirror_mode": {
    "name": "ipython",
    "version": 3
   },
   "file_extension": ".py",
   "mimetype": "text/x-python",
   "name": "python",
   "nbconvert_exporter": "python",
   "pygments_lexer": "ipython3",
   "version": "3.9.6"
  }
 },
 "nbformat": 4,
 "nbformat_minor": 5
}
