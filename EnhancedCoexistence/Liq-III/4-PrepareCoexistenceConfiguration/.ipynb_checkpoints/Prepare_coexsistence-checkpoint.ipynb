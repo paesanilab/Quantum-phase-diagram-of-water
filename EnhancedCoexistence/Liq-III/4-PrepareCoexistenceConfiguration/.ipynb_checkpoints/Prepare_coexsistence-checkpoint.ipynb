{
 "cells": [
  {
   "cell_type": "markdown",
   "id": "b9f240a2",
   "metadata": {},
   "source": [
    "# Preparation of initial box for coexsistence simulations"
   ]
  },
  {
   "cell_type": "code",
   "execution_count": 1,
   "id": "fb21dd18",
   "metadata": {},
   "outputs": [],
   "source": [
    "import numpy as np, sys, os, glob\n",
    "import matplotlib.pylab as plt\n",
    "import MDAnalysis"
   ]
  },
  {
   "cell_type": "code",
   "execution_count": 3,
   "id": "99754d4d",
   "metadata": {},
   "outputs": [],
   "source": [
    "standard_sim=os.path.abspath('template/')\n",
    "press_box = np.genfromtxt('../2-Bulk/avg_IceIII_box.dat')\n",
    "single_pressure=None #'7000'\n",
    "#temps=np.array([245,250,255,260,265,270])"
   ]
  },
  {
   "cell_type": "code",
   "execution_count": 4,
   "id": "9fb55539",
   "metadata": {},
   "outputs": [],
   "source": [
    "sims = dict()\n",
    "for a in press_box[:]:\n",
    "    fold='BOX_EQUIL_{}bar/'.format(a[0])\n",
    "    if single_pressure==None or single_pressure in fold:\n",
    "        sims[fold] = dict()\n",
    "        sims[fold]['p']=a[0]\n",
    "        os.system('mkdir -p {}'.format(fold))\n",
    "        os.system('cp -r {}/* {}'.format(standard_sim,fold))\n",
    "        cmd='sed -i \"\" \"s#variable .* pressure .*#variable        pressure equal {}#g\" {}/in.pressure'.format(sims[fold]['p'],fold)\n",
    "        os.system(cmd)"
   ]
  },
  {
   "cell_type": "markdown",
   "id": "9b4b8215",
   "metadata": {},
   "source": [
    "### Convert notebook to python script"
   ]
  },
  {
   "cell_type": "code",
   "execution_count": 1,
   "id": "56fda0cc",
   "metadata": {},
   "outputs": [
    {
     "name": "stdout",
     "output_type": "stream",
     "text": [
      "[NbConvertApp] Converting notebook Prepare_coexsistence.ipynb to script\n",
      "[NbConvertApp] Writing 3646 bytes to Prepare_coexsistence.py\n"
     ]
    }
   ],
   "source": [
    "!jupyter nbconvert --to script Prepare_coexsistence.ipynb\n"
   ]
  },
  {
   "cell_type": "code",
   "execution_count": null,
   "id": "47dfaa50",
   "metadata": {},
   "outputs": [],
   "source": []
  }
 ],
 "metadata": {
  "kernelspec": {
   "display_name": "Python 3 (ipykernel)",
   "language": "python",
   "name": "python3"
  },
  "language_info": {
   "codemirror_mode": {
    "name": "ipython",
    "version": 3
   },
   "file_extension": ".py",
   "mimetype": "text/x-python",
   "name": "python",
   "nbconvert_exporter": "python",
   "pygments_lexer": "ipython3",
   "version": "3.9.6"
  }
 },
 "nbformat": 4,
 "nbformat_minor": 5
}
