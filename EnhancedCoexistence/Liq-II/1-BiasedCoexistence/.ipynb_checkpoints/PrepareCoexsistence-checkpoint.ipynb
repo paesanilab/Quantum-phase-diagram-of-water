{
 "cells": [
  {
   "cell_type": "markdown",
   "id": "b9f240a2",
   "metadata": {},
   "source": [
    "# Preparation of biased coexsistence simulations"
   ]
  },
  {
   "cell_type": "code",
   "execution_count": 1,
   "id": "fb21dd18",
   "metadata": {
    "scrolled": true
   },
   "outputs": [
    {
     "name": "stderr",
     "output_type": "stream",
     "text": [
      "/Users/sigbjobo/miniforge3/lib/python3.9/site-packages/MDAnalysis/coordinates/chemfiles.py:108: DeprecationWarning: distutils Version classes are deprecated. Use packaging.version instead.\n",
      "  MIN_CHEMFILES_VERSION = LooseVersion(\"0.9\")\n"
     ]
    }
   ],
   "source": [
    "import numpy as np, sys, os, glob\n",
    "import matplotlib.pylab as plt\n",
    "import MDAnalysis"
   ]
  },
  {
   "cell_type": "markdown",
   "id": "1ac2ba59",
   "metadata": {},
   "source": [
    "This notebook sets up enhanced coexistence simulations.\n",
    "\n",
    "To use the following additional files are required:\n",
    "* plumed.order.dat\n",
    "* envs*.pdb\n",
    "* ice.dat\n",
    "\n",
    "The following variables need to be specified\n",
    "* ice_low ice_high\n",
    "* interface_direction"
   ]
  },
  {
   "cell_type": "markdown",
   "id": "ad52537c",
   "metadata": {},
   "source": [
    "## Settings for coexistence simulations"
   ]
  },
  {
   "cell_type": "code",
   "execution_count": null,
   "id": "0d9fdf8a",
   "metadata": {},
   "outputs": [],
   "source": []
  },
  {
   "cell_type": "code",
   "execution_count": 2,
   "id": "99754d4d",
   "metadata": {},
   "outputs": [],
   "source": [
    "standard_sim=os.path.abspath('template/')\n",
    "presures=[3000, 6000]\n",
    "temps=[[245,250,255,260,275], [245,250,255,260,275]]\n",
    "repDict=dict()\n",
    "repDict['REPLACE_DIRECTION']='z'\n",
    "\n",
    "repDict['REPLACE_BAROSTAT']='tri'\n",
    "repDict['REPLACE_X_BOOL']='0'\n",
    "repDict['REPLACE_Y_BOOL']='0'\n",
    "repDict['REPLACE_Z_BOOL']='1'\n",
    "\n",
    "repDict['REPLACE_ICE_LOW']=432\n",
    "repDict['REPLACE_ICE_HIGH']=486.0\n",
    "\n",
    "\n",
    "repDict['REPLACE_STEPS_EQUIL_ICE']=1000000\n",
    "repDict['REPLACE_STEPS_ANNEAL_UP']=200000\n",
    "repDict['REPLACE_STEPS_MELT']=1000000\n",
    "repDict['REPLACE_STEPS_ANNEAL_DOWN']=2000000\n",
    "repDict['REPLACE_STEPS_EQUIL_LIQUID']=600000\n",
    "repDict['REPLACE_STEPS_COMBINE']=100000\n",
    "\n"
   ]
  },
  {
   "cell_type": "code",
   "execution_count": 3,
   "id": "be5c628b",
   "metadata": {},
   "outputs": [],
   "source": [
    "def ReplaceDict(fn,strings):\n",
    "    with  open(fn, \"r\") as fin:\n",
    "        lines=fin.readlines()\n",
    "    with open(fn, \"w\") as fout:\n",
    "        for line in lines:\n",
    "            line_out=line\n",
    "            for key in strings.keys():\n",
    "                line_out=line_out.replace(key,str(strings[key]))\n",
    "            fout.write(line_out)\n",
    "       "
   ]
  },
  {
   "cell_type": "markdown",
   "id": "05d5f67f",
   "metadata": {},
   "source": [
    "## Settings for Isobar simulations"
   ]
  },
  {
   "cell_type": "code",
   "execution_count": 4,
   "id": "d2b21791",
   "metadata": {},
   "outputs": [],
   "source": [
    "settings=dict()\n",
    "\n",
    "settings['--step']=2000\n",
    "settings['--initial_equilibration_steps']=1000000\n",
    "settings['--steps_per_sim']=50000 #000\n",
    "\n",
    "settings['--percent_equilibration']=10.0\n",
    "settings['--max_error_vol']='0.01'\n",
    "settings['--lmp_exe']='$LAMMPS_EXE'\n",
    "settings['--run_cmd']='\"\"'\n",
    "settings['--lmp_options']='\"\"'\n",
    "settings['--out_freq']=1000\n",
    "settings['--root_fold']='./'\n",
    "settings['--units']='metal'\n",
    "settings['--mode']='iso'\n",
    "\n",
    "settings_T=settings.copy()\n",
    "settings_T['--integration_variable']= 'T'\n",
    "settings_T['--step']=2.5\n",
    "\n",
    "\n",
    "settings_II=settings.copy()\n",
    "settings['--initial_equilibration_steps']=1000000\n",
    "settings['--steps_per_sim']=500000\n",
    "\n",
    "def PrepSingleSim(setttings_temp,dir_name,left_phase,right_phase,pm,tm,pmin,pmax):\n",
    "    dir_name=dir_name+'/Isobar/'\n",
    "    # Create simulation dir\n",
    "    root_folder=dir_name+'/'+str(pm)+'atm'+'_'+str(tm)+'K'\n",
    "    os.makedirs(dir_name, exist_ok=True)#s.system('mkdir  {}'.format(dir_name))\n",
    "    os.makedirs(dir_name+'/Initial', exist_ok=True)\n",
    "    os.makedirs(root_folder, exist_ok=True)\n",
    "\n",
    "    os.system('cp ../../GibbsDuhemSimulations/integrate.py ' + dir_name)\n",
    "    initial='Initial/'\n",
    "    os.system('cp -r ../../GibbsDuhemSimulations/InitialConfigurations/{} {}{}'.format(left_phase,dir_name, initial) )\n",
    "    os.system('cp -r ../../GibbsDuhemSimulations/InitialConfigurations/{} {}{}'.format(right_phase,dir_name, initial))\n",
    "    os.system('sed -i \\'s#pair_style .*#pair_style      deepmd ../../../../graph.pb#g\\' {}/{}/*/in.deepmd'.format(dir_name, initial))\n",
    "\n",
    "    \n",
    "    \n",
    "    # Setup command for running\n",
    "\n",
    "    setttings_temp['--end_variable']=str(pmax)\n",
    "    setttings_temp['--integrator']=\"Euler\"\n",
    "    setttings_temp['--initial_point_folder']='../'+initial\n",
    "    setttings_temp['--left']=left_phase\n",
    "    setttings_temp['--right']=right_phase\n",
    "    setttings_temp['--initial_TP']=str(tm)+' '+str(pm) \n",
    "    arguments=' '.join(['{} {}'.format(t,setttings_temp[t]) for t in setttings_temp])\n",
    "    \n",
    "    # Upwards\n",
    " \n",
    "    arguments=' '.join(['{} {}'.format(t,setttings_temp[t]) for t in setttings_temp])\n",
    "    command = 'python3 ../integrate.py {}\\n'.format(arguments) \n",
    "    \n",
    "    #Downwards\n",
    "    setttings_temp['--end_variable']=str(pmin)\n",
    "    arguments=' '.join(['{} {}'.format(t,setttings_temp[t]) for t in setttings_temp])\n",
    "    command += 'python3 ../integrate.py {}\\n'.format(arguments) \n",
    "    \n",
    "    with open(root_folder+'/script.sh','w') as fp:\n",
    "        fp.write(command)"
   ]
  },
  {
   "cell_type": "markdown",
   "id": "62c4f503",
   "metadata": {},
   "source": [
    "## Prepare simulations directories"
   ]
  },
  {
   "cell_type": "code",
   "execution_count": 17,
   "id": "9fb55539",
   "metadata": {
    "scrolled": false
   },
   "outputs": [
    {
     "name": "stderr",
     "output_type": "stream",
     "text": [
      "cp: ../../2-GenerateTrainingset/GraphFiles/Iteration1/graph-compress.pb: No such file or directory\n",
      "sed: 1: \"Liquid/COEX_1atm/260K// ...\": invalid command code L\n",
      "cp: ../../2-GenerateTrainingset/GraphFiles/Iteration1/graph-compress.pb: No such file or directory\n",
      "sed: 1: \"Liquid/COEX_1atm/265K// ...\": invalid command code L\n",
      "cp: ../../2-GenerateTrainingset/GraphFiles/Iteration1/graph-compress.pb: No such file or directory\n",
      "sed: 1: \"Liquid/COEX_1atm/270K// ...\": invalid command code L\n",
      "cp: ../../2-GenerateTrainingset/GraphFiles/Iteration1/graph-compress.pb: No such file or directory\n",
      "sed: 1: \"Liquid/COEX_1atm/275K// ...\": invalid command code L\n",
      "cp: ../../2-GenerateTrainingset/GraphFiles/Iteration1/graph-compress.pb: No such file or directory\n",
      "sed: 1: \"Liquid/COEX_1atm/280K// ...\": invalid command code L\n",
      "cp: ../../2-GenerateTrainingset/GraphFiles/Iteration1/graph-compress.pb: No such file or directory\n",
      "sed: 1: \"Liquid/COEX_1000atm/245 ...\": invalid command code L\n",
      "cp: ../../2-GenerateTrainingset/GraphFiles/Iteration1/graph-compress.pb: No such file or directory\n",
      "sed: 1: \"Liquid/COEX_1000atm/250 ...\": invalid command code L\n",
      "cp: ../../2-GenerateTrainingset/GraphFiles/Iteration1/graph-compress.pb: No such file or directory\n",
      "sed: 1: \"Liquid/COEX_1000atm/255 ...\": invalid command code L\n",
      "cp: ../../2-GenerateTrainingset/GraphFiles/Iteration1/graph-compress.pb: No such file or directory\n",
      "sed: 1: \"Liquid/COEX_1000atm/260 ...\": invalid command code L\n",
      "cp: ../../2-GenerateTrainingset/GraphFiles/Iteration1/graph-compress.pb: No such file or directory\n",
      "sed: 1: \"Liquid/COEX_1000atm/265 ...\": invalid command code L\n"
     ]
    }
   ],
   "source": [
    "sims = dict()\n",
    "for i, P in enumerate(presures):\n",
    "    for j, T in enumerate(temps[i]):\n",
    "        fold='COEX_{}atm/{}K/'.format(P,T)\n",
    "        os.system('mkdir -p {}'.format(fold))\n",
    "        os.system('cp ../../../2-GenerateTrainingset/GraphFiles/Iteration1/graph-compress.pb {}/../graph.pb'.format(fold))\n",
    "        os.system('cp {}/* {}'.format(standard_sim,fold))\n",
    "        os.system('mkdir -p {}/EquilBox/'.format(fold))\n",
    "        os.system('mkdir -p {}/RerunMB-pol/'.format(fold))\n",
    "        os.system('cp ../../StandardFilesCombineIceLiquid/* {}/EquilBox/'.format(fold))\n",
    "        os.system('cp -r ../../StandardMB-polRerun/* {}/RerunMB-pol/'.format(fold))\n",
    "        sims[fold] = dict()\n",
    "      \n",
    "        repDict['REPLACE_PRESSURE']=str(P*1.01325)\n",
    "        repDict['REPLACE_TEMP']=str(T)\n",
    "        for fn in glob.glob(fold+'/*'):\n",
    "            try:\n",
    "                ReplaceDict(fn,repDict)\n",
    "            except:\n",
    "                pass\n",
    "        for fn in glob.glob(fold+'/EquilBox/*'):\n",
    "            try:\n",
    "                ReplaceDict(fn,repDict)\n",
    "            except:\n",
    "                pass\n",
    "            \n",
    "        # Gibbs\n",
    "    PrepSingleSim(settings_T,'COEX_{}atm/'.format(P),'IceIh','Liquid',P,T,np.min(temps[i])-5,np.max(temps[i])+5)\n",
    "    "
   ]
  },
  {
   "cell_type": "code",
   "execution_count": null,
   "id": "39d51585",
   "metadata": {},
   "outputs": [],
   "source": []
  }
 ],
 "metadata": {
  "kernelspec": {
   "display_name": "Python 3 (ipykernel)",
   "language": "python",
   "name": "python3"
  },
  "language_info": {
   "codemirror_mode": {
    "name": "ipython",
    "version": 3
   },
   "file_extension": ".py",
   "mimetype": "text/x-python",
   "name": "python",
   "nbconvert_exporter": "python",
   "pygments_lexer": "ipython3",
   "version": "3.9.12"
  }
 },
 "nbformat": 4,
 "nbformat_minor": 5
}
