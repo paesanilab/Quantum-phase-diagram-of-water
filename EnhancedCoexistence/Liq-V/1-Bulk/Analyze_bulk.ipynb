{
 "cells": [
  {
   "cell_type": "code",
   "execution_count": 1,
   "id": "9e7a5dd1",
   "metadata": {},
   "outputs": [
    {
     "name": "stderr",
     "output_type": "stream",
     "text": [
      "/Users/sigbjobo/miniforge3/lib/python3.9/site-packages/MDAnalysis/coordinates/chemfiles.py:108: DeprecationWarning: distutils Version classes are deprecated. Use packaging.version instead.\n",
      "  MIN_CHEMFILES_VERSION = LooseVersion(\"0.9\")\n"
     ]
    }
   ],
   "source": [
    "import numpy as np\n",
    "import glob\n",
    "import matplotlib.pyplot as plt\n",
    "import pickle\n",
    "import MDAnalysis, sys\n",
    "from MDAnalysis import transformations\n",
    "%config InlineBackend.figure_format = 'retina'\n",
    "dt=0.5# fs\n"
   ]
  },
  {
   "cell_type": "code",
   "execution_count": 2,
   "id": "a36a981e",
   "metadata": {},
   "outputs": [],
   "source": [
    "ice='IceV'"
   ]
  },
  {
   "cell_type": "code",
   "execution_count": 4,
   "id": "c2d4b1d5",
   "metadata": {},
   "outputs": [],
   "source": [
    "def extract_form_log(fn,dt):\n",
    "    lines=open(fn,'r').readlines()\n",
    "    start=np.where([('Step' in l) for l in lines])[-1][0]\n",
    "    data={keyi.lower(): []  for keyi in lines[start].split()}\n",
    "    for l in lines[start+1:]:\n",
    "        ls=l.split()\n",
    "        if ls[0].isdigit():\n",
    "            for i, key in enumerate(data.keys()):\n",
    "                data[key].append(float(ls[i]))\n",
    "        else:\n",
    "            break\n",
    "    \n",
    "    for key in data.keys():\n",
    "        data[key]=np.array(data[key])\n",
    "    data['time_ps']=dt*data['step']/1000\n",
    "    return data"
   ]
  },
  {
   "cell_type": "code",
   "execution_count": 5,
   "id": "545f884e",
   "metadata": {
    "scrolled": true
   },
   "outputs": [],
   "source": [
    "sims=dict()\n",
    "for f in glob.glob('*_*/log.lammps'):\n",
    "    try:\n",
    "        sims[f.replace('/log.lammps','')]=extract_form_log(f,dt)\n",
    "    except:\n",
    "        pass\n",
    "\n",
    "with open('1-bulk.pickle', 'wb') as handle:\n",
    "    pickle.dump(sims, handle, protocol=pickle.HIGHEST_PROTOCOL)\n",
    "with open('1-bulk.pickle', 'rb') as handle:\n",
    "    sims = pickle.load(handle)"
   ]
  },
  {
   "cell_type": "code",
   "execution_count": 6,
   "id": "421966fe",
   "metadata": {},
   "outputs": [
    {
     "name": "stdout",
     "output_type": "stream",
     "text": [
      "dict_keys(['IceV_6000atm_265K', 'Liquid_5000atm_240K', 'IceV_5000atm_250K', 'IceV_6000atm_245K', 'IceV_5000atm_235K', 'IceV_6000atm_255K', 'IceV_5000atm_240K', 'IceV_6000atm_260K', 'Liquid_6000atm_250K', 'IceV_5000atm_255K', 'IceV_6000atm_250K', 'IceV_5000atm_245K'])\n"
     ]
    }
   ],
   "source": [
    "print(sims.keys())"
   ]
  },
  {
   "cell_type": "code",
   "execution_count": 13,
   "id": "e4cb37c0",
   "metadata": {},
   "outputs": [],
   "source": [
    "sims=dict()\n",
    "with open('avg_{}_box.dat'.format(ice),'w') as fp:\n",
    "    \n",
    "    for fold in glob.glob(ice+'_*/'):\n",
    "        #try:\n",
    "        key=fold[:-1]\n",
    "        ls=key.split('_')\n",
    "\n",
    "        u=MDAnalysis.Universe(fold+'/water.data',fold+'/dump.dcd')\n",
    "        dims=[]\n",
    "        for ts in u.trajectory:\n",
    "            dims.append(u.dimensions)\n",
    "        p=round(float(ls[1].strip('atm')),0)\n",
    "        t=round(float(ls[2].strip('K')),0)    \n",
    "        dims=np.array(dims)[len(dims)//10:].mean(axis=0)\n",
    "        fp.write('\\t'.join(['{}'.format(d) for d in [p,t]+dims.tolist()])+'\\n')"
   ]
  },
  {
   "cell_type": "code",
   "execution_count": 14,
   "id": "c13e5206",
   "metadata": {},
   "outputs": [
    {
     "name": "stdout",
     "output_type": "stream",
     "text": [
      "6000.0\t265.0\t18.092849731445312\t22.672405242919922\t20.540794372558594\t89.86395263671875\t109.45672607421875\t90.08244323730469\r\n",
      "5000.0\t250.0\t18.116540908813477\t22.680185317993164\t20.57480239868164\t89.90642547607422\t109.6020278930664\t90.07376098632812\r\n",
      "6000.0\t245.0\t18.0606689453125\t22.614473342895508\t20.516645431518555\t89.88121795654297\t109.64061737060547\t90.07563781738281\r\n",
      "5000.0\t235.0\t18.094995498657227\t22.641199111938477\t20.559104919433594\t89.87788391113281\t109.67622375488281\t90.07684326171875\r\n",
      "6000.0\t255.0\t18.085052490234375\t22.644744873046875\t20.534584045410156\t89.8830795288086\t109.54635620117188\t90.0645980834961\r\n",
      "5000.0\t240.0\t18.1019287109375\t22.65399169921875\t20.572790145874023\t89.88616943359375\t109.6635971069336\t90.0670166015625\r\n",
      "6000.0\t260.0\t18.08629608154297\t22.646623611450195\t20.54138946533203\t89.87895202636719\t109.53627014160156\t90.06652069091797\r\n",
      "5000.0\t255.0\t18.125165939331055\t22.69745445251465\t20.581453323364258\t89.90628814697266\t109.5675277709961\t90.05548095703125\r\n",
      "6000.0\t250.0\t18.072973251342773\t22.623249053955078\t20.528289794921875\t89.90080261230469\t109.5902099609375\t90.04170227050781\r\n",
      "5000.0\t245.0\t18.11020851135254\t22.653770446777344\t20.567413330078125\t89.89175415039062\t109.6290054321289\t90.0748291015625\r\n"
     ]
    }
   ],
   "source": [
    "!cat avg_IceV_box.dat"
   ]
  },
  {
   "cell_type": "code",
   "execution_count": null,
   "id": "e0af003a",
   "metadata": {},
   "outputs": [],
   "source": []
  }
 ],
 "metadata": {
  "kernelspec": {
   "display_name": "Python 3 (ipykernel)",
   "language": "python",
   "name": "python3"
  },
  "language_info": {
   "codemirror_mode": {
    "name": "ipython",
    "version": 3
   },
   "file_extension": ".py",
   "mimetype": "text/x-python",
   "name": "python",
   "nbconvert_exporter": "python",
   "pygments_lexer": "ipython3",
   "version": "3.9.12"
  }
 },
 "nbformat": 4,
 "nbformat_minor": 5
}
