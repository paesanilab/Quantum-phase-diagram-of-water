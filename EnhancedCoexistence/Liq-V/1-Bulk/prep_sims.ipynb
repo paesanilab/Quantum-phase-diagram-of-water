{
 "cells": [
  {
   "cell_type": "markdown",
   "id": "85c080b8",
   "metadata": {},
   "source": [
    "# Prepare simulations"
   ]
  },
  {
   "cell_type": "code",
   "execution_count": 1,
   "id": "8bd4ff7d",
   "metadata": {},
   "outputs": [],
   "source": [
    "import numpy as np\n",
    "import os, sys"
   ]
  },
  {
   "cell_type": "markdown",
   "id": "66476abe",
   "metadata": {},
   "source": [
    "### Pressure values for simulations"
   ]
  },
  {
   "cell_type": "code",
   "execution_count": 2,
   "id": "01b6e019",
   "metadata": {
    "scrolled": true
   },
   "outputs": [
    {
     "name": "stdout",
     "output_type": "stream",
     "text": [
      "3000\n"
     ]
    }
   ],
   "source": [
    "#COEX_5000.0atm/235.0K  COEX_5000.0atm/245.0K  COEX_5000.0atm/255.0K  COEX_6000.0atm/250.0K  COEX_6000.0atm/260.0K\n",
    "#COEX_5000.0atm/240.0K  COEX_5000.0atm/250.0K  COEX_6000.0atm/245.0K  COEX_6000.0atm/255.0K  COEX_6000.0atm/265.0K\n",
    "P_bar=[3000] #np.round(P_mpa*10,0)\n",
    "Ts=[[245,250,255,260,265]]#,[255,260,265,270,275]]\n",
    "T_liq=[[240],[250]]\n",
    "ice='IceV'\n",
    "for p in P_bar:\n",
    "    print(p)"
   ]
  },
  {
   "cell_type": "markdown",
   "id": "e8fde166",
   "metadata": {},
   "source": [
    "### Make simulation folders"
   ]
  },
  {
   "cell_type": "code",
   "execution_count": 5,
   "id": "4fdb047a",
   "metadata": {},
   "outputs": [
    {
     "name": "stderr",
     "output_type": "stream",
     "text": [
      "sed: 1: \"IceV_5000atm_235K/in.pr ...\": invalid command code I\n",
      "sed: 1: \"IceV_5000atm_235K/in.temp\": invalid command code I\n",
      "sed: 1: \"IceV_5000atm_240K/in.pr ...\": invalid command code I\n",
      "sed: 1: \"IceV_5000atm_240K/in.temp\": invalid command code I\n",
      "sed: 1: \"IceV_5000atm_245K/in.pr ...\": invalid command code I\n",
      "sed: 1: \"IceV_5000atm_245K/in.temp\": invalid command code I\n",
      "sed: 1: \"IceV_5000atm_250K/in.pr ...\": invalid command code I\n",
      "sed: 1: \"IceV_5000atm_250K/in.temp\": invalid command code I\n",
      "sed: 1: \"IceV_5000atm_255K/in.pr ...\": invalid command code I\n",
      "sed: 1: \"IceV_5000atm_255K/in.temp\": invalid command code I\n",
      "sed: 1: \"IceV_6000atm_245K/in.pr ...\": invalid command code I\n",
      "sed: 1: \"IceV_6000atm_245K/in.temp\": invalid command code I\n",
      "sed: 1: \"IceV_6000atm_250K/in.pr ...\": invalid command code I\n",
      "sed: 1: \"IceV_6000atm_250K/in.temp\": invalid command code I\n",
      "sed: 1: \"IceV_6000atm_255K/in.pr ...\": invalid command code I\n",
      "sed: 1: \"IceV_6000atm_255K/in.temp\": invalid command code I\n",
      "sed: 1: \"IceV_6000atm_260K/in.pr ...\": invalid command code I\n",
      "sed: 1: \"IceV_6000atm_260K/in.temp\": invalid command code I\n",
      "sed: 1: \"IceV_6000atm_265K/in.pr ...\": invalid command code I\n",
      "sed: 1: \"IceV_6000atm_265K/in.temp\": invalid command code I\n",
      "sed: 1: \"Liquid_5000atm_235K/in. ...\": invalid command code L\n",
      "sed: 1: \"Liquid_5000atm_235K/in. ...\": invalid command code L\n",
      "sed: 1: \"Liquid_5000atm_240K/in. ...\": invalid command code L\n",
      "sed: 1: \"Liquid_5000atm_240K/in. ...\": invalid command code L\n",
      "sed: 1: \"Liquid_5000atm_245K/in. ...\": invalid command code L\n",
      "sed: 1: \"Liquid_5000atm_245K/in. ...\": invalid command code L\n",
      "sed: 1: \"Liquid_5000atm_250K/in. ...\": invalid command code L\n",
      "sed: 1: \"Liquid_5000atm_250K/in. ...\": invalid command code L\n",
      "sed: 1: \"Liquid_5000atm_255K/in. ...\": invalid command code L\n",
      "sed: 1: \"Liquid_5000atm_255K/in. ...\": invalid command code L\n",
      "sed: 1: \"Liquid_6000atm_245K/in. ...\": invalid command code L\n",
      "sed: 1: \"Liquid_6000atm_245K/in. ...\": invalid command code L\n",
      "sed: 1: \"Liquid_6000atm_250K/in. ...\": invalid command code L\n",
      "sed: 1: \"Liquid_6000atm_250K/in. ...\": invalid command code L\n",
      "sed: 1: \"Liquid_6000atm_255K/in. ...\": invalid command code L\n",
      "sed: 1: \"Liquid_6000atm_255K/in. ...\": invalid command code L\n",
      "sed: 1: \"Liquid_6000atm_260K/in. ...\": invalid command code L\n",
      "sed: 1: \"Liquid_6000atm_260K/in. ...\": invalid command code L\n",
      "sed: 1: \"Liquid_6000atm_265K/in. ...\": invalid command code L\n",
      "sed: 1: \"Liquid_6000atm_265K/in. ...\": invalid command code L\n"
     ]
    }
   ],
   "source": [
    "for pbar, ts in zip(P_bar,Ts):\n",
    "        for T in ts:\n",
    "            fold='{}_{}atm_{}K'.format(ice,pbar,T)\n",
    "            os.system('cp -r {}/ {}'.format(ice,fold))\n",
    "            cmd='sed -i \"s#variable .* pressure .*#variable        pressure equal {}#g\" {}/in.pressure\\n'.format(pbar*1.01325,fold)\n",
    "            cmd+='sed -i \"s#variable.*temperature.*#variable        temperature equal {}#g\" {}/in.temp'.format(T,fold)\n",
    "\n",
    "            os.system(cmd)\n",
    "for pbar, ts in zip(P_bar,T_liq):\n",
    "        for T in ts:\n",
    "            \n",
    "            fold='Liquid_{}atm_{}K'.format(pbar,T)\n",
    "            os.system('cp -r Liquid/ {}'.format(fold))\n",
    "            cmd='sed -i \"s#variable .* pressure .*#variable        pressure equal {}#g\" {}/in.pressure\\n'.format(pbar*1.01325,fold)\n",
    "            cmd+='sed -i \"s#variable.*temperature.*#variable        temperature equal {}#g\" {}/in.temp'.format(T,fold)\n",
    "\n",
    "            os.system(cmd)"
   ]
  },
  {
   "cell_type": "code",
   "execution_count": 3,
   "id": "fa4a04bc",
   "metadata": {},
   "outputs": [
    {
     "name": "stdout",
     "output_type": "stream",
     "text": [
      "[NbConvertApp] Converting notebook prep_sims.ipynb to script\n",
      "[NbConvertApp] Writing 1018 bytes to prep_sims.py\n"
     ]
    }
   ],
   "source": []
  }
 ],
 "metadata": {
  "kernelspec": {
   "display_name": "Python 3 (ipykernel)",
   "language": "python",
   "name": "python3"
  },
  "language_info": {
   "codemirror_mode": {
    "name": "ipython",
    "version": 3
   },
   "file_extension": ".py",
   "mimetype": "text/x-python",
   "name": "python",
   "nbconvert_exporter": "python",
   "pygments_lexer": "ipython3",
   "version": "3.9.12"
  }
 },
 "nbformat": 4,
 "nbformat_minor": 5
}
