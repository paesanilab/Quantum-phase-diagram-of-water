{
 "cells": [
  {
   "cell_type": "markdown",
   "id": "3333ab4f",
   "metadata": {},
   "source": [
    "# Analysis of multiumbrella coexsitence simulations"
   ]
  },
  {
   "cell_type": "code",
   "execution_count": 1,
   "id": "6e8c63a1",
   "metadata": {},
   "outputs": [],
   "source": [
    "import numpy as np\n",
    "import matplotlib.pylab as plt\n",
    "import glob, pickle\n",
    "from scipy.optimize import curve_fit\n",
    "from scipy.interpolate import UnivariateSpline\n",
    "from matplotlib import cm\n",
    "from matplotlib.collections import LineCollection\n",
    "from matplotlib.colors import ListedColormap, BoundaryNorm\n",
    "from matplotlib.ticker import (MultipleLocator, FormatStrFormatter,\n",
    "                               AutoMinorLocator)\n",
    "from scipy import optimize\n",
    "from matplotlib.ticker import MaxNLocator, AutoLocator\n",
    "from scipy.interpolate import interp1d\n",
    "import matplotlib as mpl\n",
    "from scipy import integrate\n",
    "import scipy\n",
    "import json\n",
    "SMALL_SIZE = 8\n",
    "MEDIUM_SIZE = 10\n",
    "BIGGER_SIZE = 12\n",
    "plt.rc('font', size=MEDIUM_SIZE)          # controls default text sizes\n",
    "plt.rc('axes', titlesize=SMALL_SIZE)     # fontsize of the axes title\n",
    "plt.rc('axes', labelsize=MEDIUM_SIZE)    # fontsize of the x and y labels\n",
    "plt.rc('xtick', labelsize=SMALL_SIZE)    # fontsize of the tick labels\n",
    "plt.rc('ytick', labelsize=SMALL_SIZE)    # fontsize of the tick labels\n",
    "plt.rc('legend', fontsize=SMALL_SIZE)    # legend fontsize\n",
    "plt.rc('figure', titlesize=BIGGER_SIZE)  # fontsize of the figure title\n",
    "%config InlineBackend.figure_format = 'retina'\n",
    "!mkdir -p figures\n",
    "!hash -r"
   ]
  },
  {
   "cell_type": "markdown",
   "id": "4ec50c35",
   "metadata": {},
   "source": [
    "### Shared settings for analysis"
   ]
  },
  {
   "cell_type": "code",
   "execution_count": 2,
   "id": "2d3c102d",
   "metadata": {},
   "outputs": [],
   "source": [
    "dpl=0.05 # Lower probability range for strict histogram\n",
    "dph=0.05 # Upper probability range for strict histogram\n",
    "dh=4     # Bin size used for histogram\n",
    "NIGNORE_STANDARD=1500 # Ignore the first 1500 ps\n",
    "atm_to_gpa=0.000101325"
   ]
  },
  {
   "cell_type": "markdown",
   "id": "ab2c7ff7",
   "metadata": {},
   "source": [
    "### Plotting settings specific to the Ice-Liquid interface"
   ]
  },
  {
   "cell_type": "code",
   "execution_count": 3,
   "id": "57618148",
   "metadata": {},
   "outputs": [
    {
     "name": "stdout",
     "output_type": "stream",
     "text": [
      "{'singlePressure': '7000.0atm', 'singleTemperature': '255.0K', 'n_temps': 5, 'n_press': 3, 'nmpi': 1, 'fig1_size': [12, 3.5], 'fig2_size': [7.2, 2.5], 'IGNORE': [], 'plotRef': [['Exp', '../../ReferenceData/exp_pd.dat', 9.86923]]}\n"
     ]
    }
   ],
   "source": [
    "with open('AnalysisSettings.json') as json_file:\n",
    "    settings = json.load(json_file)\n",
    "print(settings)"
   ]
  },
  {
   "cell_type": "markdown",
   "id": "fb742aa7",
   "metadata": {},
   "source": [
    "### Load data"
   ]
  },
  {
   "cell_type": "code",
   "execution_count": 4,
   "id": "39722e70",
   "metadata": {},
   "outputs": [],
   "source": [
    "def read_colvar_dict(fn):   \n",
    "    # Determine fields\n",
    "    with open(fn,'r') as fp:\n",
    "        top = fp.readline()\n",
    "        fields= top.split()[2:]\n",
    "    \n",
    "    # Load data columns\n",
    "    data=np.genfromtxt(fn)\n",
    "    \n",
    "    # Create dictionary\n",
    "    ret = dict()\n",
    "    for i, field in enumerate(fields):\n",
    "        ret[field]=data[:,i]\n",
    "    ret['time_ns']=(data[:,0]-data[0,0])/1E3 \n",
    "    \n",
    "    ret['NIGNORE']=NIGNORE_STANDARD\n",
    "    return ret"
   ]
  },
  {
   "cell_type": "code",
   "execution_count": 5,
   "id": "670d6b40",
   "metadata": {
    "scrolled": true
   },
   "outputs": [
    {
     "name": "stdout",
     "output_type": "stream",
     "text": [
      "COEX_6000.0atm/265.0K/\n",
      "COEX_6000.0atm/270.0K/\n",
      "COEX_6000.0atm/275.0K/\n",
      "COEX_6000.0atm/260.0K/\n",
      "COEX_6000.0atm/255.0K/\n",
      "COEX_5000.0atm/265.0K/\n",
      "COEX_5000.0atm/260.0K/\n",
      "COEX_5000.0atm/250.0K/\n",
      "COEX_5000.0atm/245.0K/\n",
      "COEX_5000.0atm/255.0K/\n"
     ]
    }
   ],
   "source": [
    "sims=dict()\n",
    "\n",
    "for fold in glob.glob('COEX_*/*K/'):\n",
    "    print(fold)\n",
    "    sims[fold] = dict()\n",
    "    try:\n",
    "        colvar_files = glob.glob(fold+'COLVAR') + glob.glob(fold+'COLVAR.[0-9]')\n",
    "        sims[fold]['COLVAR'] = [read_colvar_dict(fn) for fn in colvar_files]\n",
    "        sims[fold]['DELTAFS'] = np.genfromtxt(fold+'DELTAFS')\n",
    "        with open(fold+'DELTAFS', 'r')as fp:\n",
    "            line=fp.readline()\n",
    "            \n",
    "        sims[fold]['DELTAFS_N_ICE'] =np.array([int(n.strip('DeltaF_')) for n in line.split()[4:]])\n",
    "\n",
    "        sims[fold]['T'] = float(fold.split('/')[-2].strip('K'))\n",
    "        sims[fold]['P'] = float(fold.split('/')[-3].replace('COEX_','').strip('atm'))\n",
    "    except:\n",
    "        sims.pop(fold)\n",
    "        pass\n"
   ]
  },
  {
   "cell_type": "markdown",
   "id": "bdd6084e",
   "metadata": {},
   "source": [
    "### Set number of simulations "
   ]
  },
  {
   "cell_type": "code",
   "execution_count": null,
   "id": "a8557e7b",
   "metadata": {},
   "outputs": [],
   "source": [
    "press=np.unique([k.split('/')[0] for k in sims.keys()])\n",
    "print(press)\n",
    "n_pressures=len(press) # Number of pressures\n",
    "n_temps=int(np.ceil(len(sims)/n_pressures)) # Number of temperatures simulated"
   ]
  },
  {
   "cell_type": "markdown",
   "id": "4b7db475",
   "metadata": {},
   "source": [
    "## Analysis for all pressures"
   ]
  },
  {
   "cell_type": "markdown",
   "id": "17c2c742",
   "metadata": {},
   "source": [
    "### Time evolution of all collective variables"
   ]
  },
  {
   "cell_type": "code",
   "execution_count": null,
   "id": "849dabc3",
   "metadata": {},
   "outputs": [],
   "source": [
    "for key in sims.keys():\n",
    "    sims[key]['NIGNORE']=NIGNORE_STANDARD\n",
    "for ign in settings['IGNORE']:\n",
    "    sims[ign[0]]['NIGNORE']=ign[1]\n",
    "for key in sims.keys():\n",
    "    if sum([len(sims[key]['COLVAR'][mpi]['refcv.morethan-2'])>sims[key]['NIGNORE'] for mpi in range(settings['nmpi'])])==0:\n",
    "        sims[key]['NIGNORE']=-1\n",
    "#sims['COEX_15000atm/300K/']['NIGNORE']=3000"
   ]
  },
  {
   "cell_type": "code",
   "execution_count": null,
   "id": "fd0414cd",
   "metadata": {
    "scrolled": true
   },
   "outputs": [],
   "source": [
    "# Plot time evolution of collective variables\n",
    "fig, axs = plt.subplots(n_pressures,n_temps,figsize=settings['fig1_size'])\n",
    "axs=axs.flatten()\n",
    "i=0\n",
    "for  key in sorted(sims.keys()):\n",
    "    if 'COLVAR' in list(sims[key].keys()):\n",
    "     \n",
    "        time0=0.\n",
    "        for j in range(settings['nmpi']):\n",
    "            colvar=sims[key]['COLVAR'][j]\n",
    "            NIGNORE=sims[key]['NIGNORE']\n",
    "\n",
    "            \n",
    "            p=float(key.replace('COEX_','').split('/')[0].strip('atm'))*atm_to_gpa\n",
    "            t=key.replace('COEX_','').split('/')[1].strip('K')\n",
    "\n",
    "            #print(p,t)\n",
    "            title=r'{:.3f}$\\,$GPa  {}$\\,$K'.format(p,t)\n",
    "            axs[i].set_title(title,size = MEDIUM_SIZE)\n",
    "            if sims[key]['NIGNORE']>0:\n",
    "                # Part not used for fit\n",
    "                axs[i].plot(time0+colvar['time_ns'][:NIGNORE],colvar['refcv.morethan-2'][:NIGNORE],'k',lw=0.2)\n",
    "                # Part used for fit\n",
    "                axs[i].plot(time0+colvar['time_ns'][NIGNORE:],colvar['refcv.morethan-2'][NIGNORE:],lw=0.2)\n",
    "            else:\n",
    "                # Whole simulation not used for fit\n",
    "                axs[i].plot(time0+colvar['time_ns'],colvar['refcv.morethan-2'],'k',lw=0.2)\n",
    "            time0+=colvar['time_ns'][-1]\n",
    "        \n",
    "        if i%n_temps==0:\n",
    "            axs[i].set_ylabel('# of ice-like molecules',fontsize=9)\n",
    "        if i>=n_temps*(n_pressures-1):\n",
    "            axs[i].set_xlabel('time (ns)')\n",
    "            \n",
    "        i+=1\n",
    "\n",
    "        \n",
    "    \n",
    "plt.tight_layout()\n",
    "plt.savefig('figures/time_evolution.png',dpi=300)"
   ]
  },
  {
   "cell_type": "markdown",
   "id": "20f63959",
   "metadata": {},
   "source": [
    "### Determine range for strict collective variable"
   ]
  },
  {
   "cell_type": "code",
   "execution_count": null,
   "id": "28a3ccb7",
   "metadata": {
    "scrolled": true
   },
   "outputs": [],
   "source": [
    "fig, axs = plt.subplots(n_pressures,n_temps,figsize=settings['fig1_size'])\n",
    "axs=axs.flatten()\n",
    "for i, key in enumerate(sorted(sims.keys())):  \n",
    "    NIGNORE=sims[key]['NIGNORE']\n",
    "    if NIGNORE<0:\n",
    "        continue\n",
    "  \n",
    "    number_of_ice  = np.hstack(tuple([sims[key]['COLVAR'][mpi]['refcv.morethan-2'][NIGNORE:] for mpi in range(settings['nmpi'])]))\n",
    "    histo, bin_edges = np.histogram(number_of_ice,bins=1000)\n",
    "    n_ice_mid=0.5*(bin_edges[1:]+bin_edges[:-1])\n",
    "    \n",
    "    # Determine outer range of strict collective variable histogram\n",
    "    cumsum=np.cumsum(histo)\n",
    "    cumsum=cumsum/cumsum.max()\n",
    "    difference=np.abs(cumsum-dpl)\n",
    "    ns=int(n_ice_mid[np.where(difference==difference.min())[0][0]])\n",
    "    difference=np.abs(cumsum-(1-dph))\n",
    "    nf=int(n_ice_mid[np.where(difference==difference.min())[0][0]])\n",
    "    \n",
    "    \n",
    "    # Plot biased histogram\n",
    "    num_ice_bins=[i for i in range(ns,nf+1)]\n",
    "    bins2=[i for i in range(ns-50,nf+50)]\n",
    "    sims[key]['num_ice_bins']=num_ice_bins\n",
    "    histo, bin_edges = np.histogram(number_of_ice,bins=bins2[::dh],density=True)\n",
    "    n_ice_mid=0.5*(bin_edges[1:]+bin_edges[:-1])\n",
    "    if NIGNORE<0:\n",
    "        continue\n",
    "    axs[i].plot(n_ice_mid,histo)\n",
    "    axs[i].axvline(x=ns,linewidth=4, color='k',ls='--')\n",
    "    axs[i].axvline(x=nf,linewidth=4, color='k',ls='--')\n",
    "    p=float(key.replace('COEX_','').split('/')[0].strip('atm'))*atm_to_gpa\n",
    "    t=key.replace('COEX_','').split('/')[1].strip('K')\n",
    "\n",
    "    title=r'{:.3f}$\\,$GPa  {}$\\,$K'.format(p,t)\n",
    "    axs[i].set_title(title,size = MEDIUM_SIZE) \n",
    "    if i%n_temps==0:\n",
    "        axs[i].set_ylabel('Probability')\n",
    "    if i>=n_temps*(n_pressures-1):\n",
    "        axs[i].set_xlabel('# of ice-like molecules')\n",
    "plt.tight_layout()\n",
    "plt.savefig('figures/unbiased_distributions.png',dpi=300, bbox_inches='tight')"
   ]
  },
  {
   "cell_type": "code",
   "execution_count": null,
   "id": "bf15c662",
   "metadata": {
    "scrolled": true
   },
   "outputs": [],
   "source": [
    "def func(x, a, b):\n",
    "    return a * x + b\n",
    "\n",
    "sims_result = dict()\n",
    "\n",
    "for i, p in enumerate(press):\n",
    "    j=0\n",
    "    print(p)\n",
    "    for key in sims.keys():\n",
    "        counter1=0\n",
    "\n",
    "        if p in key:\n",
    "            sims_result[key]=dict()\n",
    "\n",
    "            sim=sims[key]\n",
    "            colvar =sim['COLVAR']\n",
    "            ignore=int(colvar[0]['opes.bias'][0]/8)\n",
    "\n",
    "            bias = np.hstack(tuple([colvar[mpi]['opes.bias'][NIGNORE:] for mpi in range(settings['nmpi'])]))\n",
    "            cv  = np.hstack(tuple([colvar[mpi]['refcv.morethan-2'][NIGNORE:] for mpi in range(settings['nmpi'])]))\n",
    "\n",
    "            temp=sim['T']\n",
    "            if (cv.shape[0]>0):\n",
    "                beta=1./(0.00831441001626*temp)\n",
    "                logweights=beta*bias\n",
    "                logweights -= np.amax(logweights)\n",
    "                histo, bin_edges = np.histogram(cv,weights=np.exp(logweights),bins=sims[key]['num_ice_bins'])\n",
    "                err = np.sqrt(np.histogram(cv,weights=np.power(np.exp(logweights),2),bins=sims[key]['num_ice_bins'])[0])\n",
    "                \n",
    "                bin_centers = (bin_edges[1:]+bin_edges[:-1])/2\n",
    "                fes = -(1/beta)*np.log(histo)\n",
    "                offset = np.mean(np.ma.masked_invalid(fes))\n",
    "                fes -= offset\n",
    "                feserr = (1/beta)*err/histo\n",
    "                if (fes[np.isfinite(fes)].shape[0]>0):\n",
    "                    mask=np.array(np.isfinite(fes)*(feserr>0),dtype=bool)\n",
    "                    popt, pcov = curve_fit(func, bin_centers[mask], fes[mask], sigma=feserr[mask])\n",
    "                    perr = np.sqrt(np.diag(pcov))\n",
    "                    sims_result[key]['chem_pot'] = [popt[0],perr[0]]\n",
    "                    sims_result[key]['fes_linear']=func(bin_centers,*popt)  \n",
    "                    sims_result[key]['fes']=fes\n",
    "                    sims_result[key]['fes_err']=feserr\n",
    "                    sims_result[key]['n_water']=bin_centers\n",
    "                    sims_result[key]['T']=sim['T']\n",
    "                    sims_result[key]['P']=float(key.split('/')[0].strip('COEX_atm'))\n",
    "\n",
    "            counter1 += 1\n",
    "            j += 1\n",
    "\n",
    "for row in np.loadtxt('chem_pot_corr.dat'): \n",
    "    key='COEX_{}atm/{}K/'.format(row[0],row[1])\n",
    "    if key not in sims_result.keys():\n",
    "        continue\n",
    "    sims_result[key]['chem_pot'][0]+=row[2]   \n",
    "    \n",
    "    print(sims_result[key]['chem_pot'])"
   ]
  },
  {
   "cell_type": "code",
   "execution_count": null,
   "id": "fa99ea9e",
   "metadata": {},
   "outputs": [],
   "source": []
  },
  {
   "cell_type": "markdown",
   "id": "da30e233",
   "metadata": {},
   "source": [
    "### Estimation of chemical potential from collective variables and bias"
   ]
  },
  {
   "cell_type": "code",
   "execution_count": null,
   "id": "c151f3bd",
   "metadata": {},
   "outputs": [],
   "source": [
    "def linear_fn(x, a, b):\n",
    "    return a*x + b"
   ]
  },
  {
   "cell_type": "code",
   "execution_count": null,
   "id": "eda9ccb7",
   "metadata": {
    "scrolled": false
   },
   "outputs": [],
   "source": [
    "colors = plt.cm.jet(np.linspace(0,0.6,6))\n",
    "if n_pressures>2:\n",
    "    fig, axs = plt.subplots(2, int(np.ceil(n_pressures/2)),figsize=settings['fig2_size'])\n",
    "    axs=axs.flatten()\n",
    "elif n_pressures==2:\n",
    "    fig, axs = plt.subplots(1, 2,figsize=settings['fig2_size'])\n",
    "    axs=axs.flatten()\n",
    "else:\n",
    "    fig, axs = plt.subplots(1, 1,figsize=settings['fig2_size'])\n",
    "    axs=[axs]\n",
    "\n",
    "\n",
    "press=np.unique([k.split('/')[0] for k in sims_result.keys()])\n",
    "for i, p in enumerate(press):\n",
    "    j=0\n",
    "    for key in sims_result.keys():\n",
    "        if p in key:\n",
    "          \n",
    "            title=r'{:.3f}$\\,$GPa'.format(float(p.strip('COEX_atm'))*atm_to_gpa)\n",
    "            axs[i].set_title(title,size = MEDIUM_SIZE)\n",
    "            sim=sims_result[key]\n",
    "            title=key.replace(p,'').strip('/')\n",
    "            axs[i].fill_between(sim['n_water'],sim['fes']-3*sim['fes_err'],sim['fes']+3*sim['fes_err'],color=colors[j],linewidth=0,alpha=0.5)\n",
    "\n",
    "            axs[i].plot(sim['n_water'],sim['fes'],color=colors[j],label=title)\n",
    "            axs[i].plot(sim['n_water'],sim['fes_linear'],'--',color='black',alpha=0.5)\n",
    "            j+=1\n",
    "   # plot(x,func(x,*popt),'--',color='black',alpha=0.5)\n",
    "    axs[i].set_xlabel(r'# of ice-like molecules')\n",
    "    axs[i].set_ylabel(r'$\\Delta$G$_{\\mathrm{liq}\\to \\mathrm{ice}}$ (kJ mol$^{-1}$)')\n",
    "    axs[i].legend(ncol=2,prop={'size': 7},handletextpad=0.0,labelspacing=0.5,columnspacing=0.0,frameon=False)\n",
    "    \n",
    "if len(axs)!=n_pressures:\n",
    "    axs[i+1].axis('off')    \n",
    "plt.tight_layout()\n",
    "\n",
    "plt.savefig('figures/free_energies.png',dpi=300,bbox_inches='tight')"
   ]
  },
  {
   "cell_type": "markdown",
   "id": "f3a70227",
   "metadata": {},
   "source": [
    "## Load Enthalphy"
   ]
  },
  {
   "cell_type": "code",
   "execution_count": null,
   "id": "9d168bb1",
   "metadata": {},
   "outputs": [],
   "source": [
    "diff_enthalphy=dict()\n",
    "for fold in glob.glob('COEX_*'):\n",
    "    ice=sorted(glob.glob(fold+'/Isobar/*atm/**/Ice*',recursive=True))\n",
    "    liq=sorted(glob.glob(fold+'/Isobar/*atm/**/Liq*',recursive=True))\n",
    "    for (i,l) in zip(ice,liq):\n",
    "        p=fold #(l.split('/')[-2].split('_')[-1])\n",
    "        t=float(l.split('/')[-2].strip('K').split('_')[-2])\n",
    "        enthalphy=np.loadtxt(l+'/vol_enthalpy_total.dat')[:,-1].mean()-np.loadtxt(i+'/vol_enthalpy_total.dat')[:,-1].mean()\n",
    "        if p not in diff_enthalphy.keys():\n",
    "            diff_enthalphy[p]=[]\n",
    "        diff_enthalphy[p].append([t,enthalphy])\n",
    "\n",
    "for key in diff_enthalphy.keys():\n",
    "    diff_enthalphy[key]=np.array(diff_enthalphy[key])\n",
    "    order=np.argsort(diff_enthalphy[key][:,0])\n",
    "    diff_enthalphy[key]= diff_enthalphy[key][order,:]\n",
    "    diff_enthalphy[key][:,1]=diff_enthalphy[key][:,1]*96.4853\n",
    "    "
   ]
  },
  {
   "cell_type": "code",
   "execution_count": null,
   "id": "f43f8ff3",
   "metadata": {
    "scrolled": false
   },
   "outputs": [],
   "source": [
    "plt.figure(figsize=(3.33,2.5))\n",
    "for key in diff_enthalphy.keys():\n",
    "    T=diff_enthalphy[key][:,0]\n",
    "    plt.plot(diff_enthalphy[key][:,0],diff_enthalphy[key][:,1])\n",
    "    plt.ylim(bottom=0)\n",
    "plt.xlabel('Temperature (K)')\n",
    "plt.ylabel(r'$\\Delta H_{\\mathrm{liq}\\to \\mathrm{ice}}$ (kJ mol$^{-1}$)')\n",
    "plt.savefig('figures/Delta_enthalpy.png',dpi=300)"
   ]
  },
  {
   "cell_type": "code",
   "execution_count": null,
   "id": "9571fcb3",
   "metadata": {},
   "outputs": [],
   "source": [
    "for p in diff_enthalphy.keys():\n",
    "    for key in sims_result.keys():\n",
    "        if p in key:\n",
    "            sims_result[key]['enthalphy_diff']=diff_enthalphy[p]\n"
   ]
  },
  {
   "cell_type": "code",
   "execution_count": null,
   "id": "25cfb7fb",
   "metadata": {},
   "outputs": [],
   "source": [
    "if n_pressures>2:\n",
    "    fig, axs = plt.subplots(2, int(np.ceil(n_pressures/2)),figsize=settings['fig2_size'])\n",
    "    axs=axs.flatten()\n",
    "elif n_pressures==2:\n",
    "    fig, axs = plt.subplots(1, 2,figsize=settings['fig2_size'])\n",
    "    axs=axs.flatten()\n",
    "else:\n",
    "    fig, axs = plt.subplots(1, 1,figsize=settings['fig2_size'])\n",
    "    axs=[axs]\n",
    "#plt.figure(figsize=(3.33,2.5))\n",
    "PT=dict()\n",
    "for p in diff_enthalphy.keys():\n",
    "    PT[p]=[]\n",
    "\n",
    "for i, p in enumerate(press):\n",
    "    j=0\n",
    "    for key in sorted(sims_result.keys()):\n",
    "        if p in key:\n",
    "            T=sims_result[key]['enthalphy_diff'][:,0]\n",
    "\n",
    "\n",
    "            integrand=sims_result[key]['enthalphy_diff'][:,1]/(sims_result[key]['enthalphy_diff'][:,0]**2)\n",
    "            G0=sims_result[key]['chem_pot'][0] #[[i][1]\n",
    "            index=np.where(sims_result[key]['T']-T==np.abs(sims_result[key]['T']-T).min())[0][0]\n",
    "            integral = T[index:]*G0/T[index]+T[index:]*integrate.cumulative_trapezoid(integrand[index:], T[index:], initial=0)\n",
    "            integral2 = T[index::-1]*G0/T[index]+T[index::-1]*integrate.cumulative_trapezoid(integrand[index::-1], T[index::-1], initial=0)\n",
    "\n",
    "            chem_pot_t=T[index::-1]*G0/T[index]+T[index::-1]*integral2\n",
    "\n",
    "            integral_tot=np.hstack((integral2[::-1],integral[1:]))\n",
    "            f2 = interp1d(T,integral_tot, kind='cubic')\n",
    "            axs[i].plot(T,f2(T),color=colors[j])\n",
    "            axs[i].scatter(T[index],sims_result[key]['chem_pot'][0],color=colors[j],label=str(T[index])+'K')\n",
    "\n",
    "            j+=1\n",
    "    \n",
    "            \n",
    "            sol = optimize.root(f2, [T[len(T)//2]], method='hybr')\n",
    "            sims_result[key]['T_melt']=sol.x[0]\n",
    "            title=r'{:.3f}$\\,$GPa'.format(float(p.strip('COEX_atm'))*atm_to_gpa)\n",
    "            axs[i].set_title(title,size = MEDIUM_SIZE)\n",
    "            axs[i].axhline(y=0.0, linestyle='--',color='k')\n",
    "            axs[i].set_xlabel('Temperature (K)')\n",
    "            axs[i].set_ylabel(r'$\\Delta\\mu_{\\mathrm{liq}\\to \\mathrm{ice}}$ (kJ mol$^{-1}$)')\n",
    "            axs[i].legend(ncol=1,prop={'size': 7},handletextpad=0.0,labelspacing=0.5,columnspacing=0.0,frameon=False)\n",
    "\n",
    "plt.legend()\n",
    "plt.ylabel(r'$\\Delta\\mu_{\\mathrm{liq}\\to \\mathrm{ice}}$ (kJ mol$^{-1}$)')\n",
    "plt.xlabel('Temperature (K)')\n",
    "if len(axs)!=n_pressures:\n",
    "    axs[i+1].axis('off') \n",
    "plt.tight_layout()\n",
    "plt.savefig('figures/chemical_potential_error.png',dpi=300, bbox_inches='tight')"
   ]
  },
  {
   "cell_type": "code",
   "execution_count": null,
   "id": "c58a572d",
   "metadata": {
    "scrolled": true
   },
   "outputs": [],
   "source": [
    "sims_result.keys()\n",
    "T_melts=dict()\n",
    "errors=dict()\n",
    "for p in press:\n",
    "    T_melts[p]=[]\n",
    "    errors[p]=[]\n",
    "    for key in sims_result.keys():\n",
    "        if p in key:\n",
    "            T_melts[p].append(sims_result[key]['T_melt'])\n",
    "           # print(sims_result[key]['chem_pot'])\n",
    "            errors[p].append(sims_result[key]['chem_pot'][1])\n",
    "PT=[]\n",
    "for p in press:\n",
    "    PT.append([float(p.strip('COEX_atm')),np.average(T_melts[p],weights=1/np.array(errors[p])**2)])\n",
    "PT=np.array(PT)\n",
    "np.savetxt('T_P.dat',PT)    "
   ]
  },
  {
   "cell_type": "code",
   "execution_count": null,
   "id": "f6a460b3",
   "metadata": {
    "scrolled": true
   },
   "outputs": [],
   "source": [
    "data=np.loadtxt('P_T_error.dat')\n",
    "plt.figure()\n",
    "for lines in settings['plotRef']:\n",
    "    data=np.loadtxt(lines[1])\n",
    "    data[:,1]*=lines[2]\n",
    "    plt.scatter(data[:,0],data[:,1]*atm_to_gpa,s=1,label=lines[0])\n",
    "P_T=np.atleast_2d(np.loadtxt('P_T.dat'))\n",
    "plt.scatter(PT[:,1],PT[:,0]*atm_to_gpa,color='r',label='Biased coexistence DeePMD')\n",
    "plt.scatter(P_T[:,1],P_T[:,0]*atm_to_gpa,color='b',label='Biased coexistence DeePMD')\n",
    "\n",
    "plt.xlabel('T/K')\n",
    "plt.ylabel('P (GPa)')\n",
    "plt.legend()\n",
    "plt.xlim([240,290])\n",
    "#plt.ylim([-0.1,0.5])\n",
    "#a=plt.xticks(np.arange(180,290,10)) \n",
    "plt.savefig('figures/phase_diagram.png',dpi=300, bbox_inches='tight')"
   ]
  },
  {
   "cell_type": "code",
   "execution_count": null,
   "id": "46855626",
   "metadata": {},
   "outputs": [],
   "source": [
    "print(chempots)\n",
    "with open('P_T_error.dat','w') as fp:\n",
    "    fp.write('#{:14}{:20}{:20}'.format('pressure/atm','T/K','T_error/K'))\n",
    "    for p in PT.keys():\n",
    "        fp.write('\\n{:<16}{:<20.1f}{:<20.1f}'.format(p.replace('COEX_','').replace('atm',''),np.average(PT[p],weights=1/chempots[p][:,2]**2),np.std(PT[p])*1.94))\n",
    "!cat P_T_error.dat"
   ]
  },
  {
   "cell_type": "code",
   "execution_count": null,
   "id": "161a9ad9",
   "metadata": {
    "scrolled": true
   },
   "outputs": [],
   "source": [
    "if n_pressures>2:\n",
    "    fig, axs = plt.subplots(2, int(np.ceil(n_pressures/2)),figsize=settings['fig2_size'])\n",
    "    axs=axs.flatten()\n",
    "elif n_pressures==2:\n",
    "    fig, axs = plt.subplots(1, 2,figsize=settings['fig2_size'])\n",
    "    axs=axs.flatten()\n",
    "else:\n",
    "    fig, axs = plt.subplots(1, 1,figsize=settings['fig2_size'])\n",
    "    axs=[axs]\n",
    "\n",
    "coex_line=[]\n",
    "chempots=dict()\n",
    "for i, p in enumerate(press):\n",
    "    j=0\n",
    "    chem_pot=[]\n",
    "    for key in sims_result.keys():\n",
    "        if p in key:\n",
    "\n",
    "            sim=sims_result[key]\n",
    "            chem_pot.append([sims[key]['T'], sim['chem_pot'][0],sim['chem_pot'][1]])\n",
    "    chem_pot = np.array(chem_pot)\n",
    "    try:\n",
    "        popt, pcov = curve_fit(linear_fn, chem_pot[:,0], chem_pot[:,1],sigma=chem_pot[:,2])\n",
    "    except:\n",
    "        continue\n",
    "    axs[i].scatter(chem_pot[:,0],chem_pot[:,1])\n",
    "    axs[i].plot(chem_pot[:,0],linear_fn(chem_pot[:,0],*popt))\n",
    "\n",
    "    T_melt=-popt[1]/popt[0]\n",
    "    S_melt=popt[0]\n",
    "    H_melt= -popt[1]\n",
    "    coex_line.append([float(p.strip('COEX_atm')),T_melt,H_melt,S_melt])\n",
    "    \n",
    "    key='{}'.format(p)\n",
    "    chempots[str(p)]=np.vstack((chem_pot[:,0],chem_pot[:,1],linear_fn(chem_pot[:,0],*popt))).T\n",
    "    title=r'{:.3f}$\\,$GPa'.format(float(p.strip('COEX_atm'))*atm_to_gpa)\n",
    "    axs[i].set_title(title,size = MEDIUM_SIZE)\n",
    "    axs[i].axhline(y=0.0, linestyle='--',color='k')\n",
    "    axs[i].axvline(x=T_melt, linestyle='--',color='k')\n",
    "    axs[i].set_ylabel(r'$\\Delta\\mu_{\\mathrm{liq}\\to \\mathrm{ice}}$ (kJ mol$^{-1}$)')\n",
    "    axs[i].set_xlabel('Temperature (K)')\n",
    "    \n",
    "coex_line=np.array(coex_line)\n",
    "coex_line=coex_line[np.argsort(coex_line[:,0])]\n",
    "if len(axs)!=n_pressures:\n",
    "    axs[i+1].axis('off') \n",
    "plt.tight_layout()\n",
    "plt.savefig('figures/chemical_potential.png',dpi=300, bbox_inches='tight')"
   ]
  },
  {
   "cell_type": "markdown",
   "id": "1b0077f7",
   "metadata": {},
   "source": [
    "### Store melting data"
   ]
  },
  {
   "cell_type": "code",
   "execution_count": null,
   "id": "18309e71",
   "metadata": {
    "scrolled": true
   },
   "outputs": [],
   "source": [
    "with open('P_T.dat','w') as fp:\n",
    "    fp.write('#{:14}{:20}{:20}{:20}'.format('pressure/atm','T/K','Hfus/kJ/(mol)','Sfus/kJ/(mol K)'))\n",
    "    for c in coex_line:\n",
    "        fp.write('\\n{:<15.0f}{:<20.1f}{:<20.1f}{:<20.5f}'.format(c[0],c[1],c[2],c[3]))\n",
    "!cat P_T.dat"
   ]
  },
  {
   "cell_type": "markdown",
   "id": "93f79c3e",
   "metadata": {},
   "source": [
    "### Plot phase diagram"
   ]
  },
  {
   "cell_type": "code",
   "execution_count": 29,
   "id": "dd055218",
   "metadata": {
    "scrolled": true
   },
   "outputs": [
    {
     "data": {
      "image/png": "[encoded data removed]",
      "text/plain": [
       "<Figure size 432x288 with 1 Axes>"
      ]
     },
     "metadata": {
      "image/png": {
       "height": 259,
       "width": 389
      },
      "needs_background": "light"
     },
     "output_type": "display_data"
    }
   ],
   "source": [
    "plt.figure()\n",
    "for lines in settings['plotRef']:\n",
    "    data=np.loadtxt(lines[1])\n",
    "    data[:,1]*=lines[2]\n",
    "    plt.scatter(data[:,0],data[:,1]*atm_to_gpa,s=1,label=lines[0])\n",
    "P_T=np.atleast_2d(np.loadtxt('P_T.dat'))\n",
    "plt.scatter(P_T[:,1],P_T[:,0]*atm_to_gpa,color='r',label='Biased coexistence DeePMD')\n",
    "plt.xlabel('T/K')\n",
    "plt.ylabel('P (GPa)')\n",
    "plt.legend()\n",
    "#plt.xlim([180,290])\n",
    "#plt.ylim([-0.1,0.5])\n",
    "a=plt.xticks(np.arange(180,290,10)) \n",
    "plt.savefig('figures/phase_diagram.png',dpi=300, bbox_inches='tight')"
   ]
  },
  {
   "cell_type": "markdown",
   "id": "b0c6498c",
   "metadata": {},
   "source": [
    "# Analysis using Isobar"
   ]
  },
  {
   "cell_type": "code",
   "execution_count": null,
   "id": "d86a4600",
   "metadata": {},
   "outputs": [],
   "source": [
    "# Load enthalphy\n",
    "diff_enthalphy=dict()\n",
    "for fold in glob.glob('COEX_*'):\n",
    "    ice=sorted(glob.glob(fold+'/Isobar/*atm/**/Ice*',recursive=True))\n",
    "    liq=sorted(glob.glob(fold+'/Isobar/*atm/**/Liq*',recursive=True))\n",
    "    for (i,l) in zip(ice,liq):\n",
    "        p=fold #(l.split('/')[-2].split('_')[-1])\n",
    "        t=float(l.split('/')[-2].strip('K').split('_')[-2])\n",
    "        enthalphy=np.loadtxt(l+'/vol_enthalpy_total.dat')[:,-1].mean()-np.loadtxt(i+'/vol_enthalpy_total.dat')[:,-1].mean()\n",
    "        if p not in diff_enthalphy.keys():\n",
    "            diff_enthalphy[p]=[]\n",
    "        diff_enthalphy[p].append([t,enthalphy])\n",
    "\n",
    "for key in diff_enthalphy.keys():\n",
    "    diff_enthalphy[key]=np.array(diff_enthalphy[key])\n",
    "    order=np.argsort(diff_enthalphy[key][:,0])\n",
    "    diff_enthalphy[key]= diff_enthalphy[key][order,:]\n",
    "    diff_enthalphy[key][:,1]=diff_enthalphy[key][:,1]*96.4853\n"
   ]
  },
  {
   "cell_type": "code",
   "execution_count": null,
   "id": "2d468c23",
   "metadata": {},
   "outputs": [],
   "source": [
    "plt.figure(figsize=(3.33,2.5))\n",
    "for key in diff_enthalphy.keys():\n",
    "    T=diff_enthalphy[key][:,0]\n",
    "    plt.plot(diff_enthalphy[key][:,0],diff_enthalphy[key][:,1])\n",
    "    plt.ylim(bottom=0)\n",
    "plt.xlabel('Temperature (K)')\n",
    "plt.ylabel(r'$\\Delta H_{\\mathrm{liq}\\to \\mathrm{ice}}$ (kJ mol$^{-1}$)')\n",
    "plt.savefig('figures/Delta_enthalpy.png',dpi=300)"
   ]
  },
  {
   "cell_type": "code",
   "execution_count": null,
   "id": "bc5b7072",
   "metadata": {},
   "outputs": [],
   "source": [
    "if n_pressures>2:\n",
    "    fig, axs = plt.subplots(2, int(np.ceil(n_pressures/2)),figsize=settings['fig2_size'])\n",
    "    axs=axs.flatten()\n",
    "elif n_pressures==2:\n",
    "    fig, axs = plt.subplots(1, 2,figsize=settings['fig2_size'])\n",
    "    axs=axs.flatten()\n",
    "else:\n",
    "    fig, axs = plt.subplots(1, 1,figsize=settings['fig2_size'])\n",
    "    axs=[axs]\n",
    "#plt.figure(figsize=(3.33,2.5))\n",
    "PT=dict()\n",
    "for p in diff_enthalphy.keys():\n",
    "    PT[p]=[]\n",
    "\n",
    "for j, p in enumerate(sorted(diff_enthalphy.keys())):\n",
    "    if p not in chempots.keys():\n",
    "        continue\n",
    "    for i in range(0,len(chempots[p])):\n",
    "        T=diff_enthalphy[p][:,0]\n",
    "        integrand=diff_enthalphy[p][:,1]/(diff_enthalphy[p][:,0]**2)\n",
    "        G0=chempots[p][i][1]\n",
    "        index=np.where(np.abs(chempots[p][i][0]-T)==np.abs(chempots[p][i][0]-T).min())[0][0]\n",
    "        integral = T[index:]*G0/T[index]+T[index:]*integrate.cumulative_trapezoid(integrand[index:], T[index:], initial=0)\n",
    "        integral2 = T[index::-1]*G0/T[index]+T[index::-1]*integrate.cumulative_trapezoid(integrand[index::-1], T[index::-1], initial=0)\n",
    "\n",
    "\n",
    "        chem_pot_t=T[index::-1]*G0/T[index]+T[index::-1]*integral2\n",
    "\n",
    "        integral_tot=np.hstack((integral2[::-1],integral[1:]))\n",
    "        f2 = interp1d(T,integral_tot, kind='cubic')\n",
    "        axs[j].plot(T,f2(T),color=colors[i])\n",
    "        axs[j].scatter(T[index],chempots[p][i][1],color=colors[i],label=str(T[index])+'K')\n",
    "\n",
    "        sol = optimize.root(f2, [T[len(T)//2]], method='hybr')\n",
    "        PT[p].append(sol.x[0])\n",
    "        title=r'{:.3f}$\\,$GPa'.format(float(p.strip('COEX_atm'))*atm_to_gpa)\n",
    "        axs[j].set_title(title,size = MEDIUM_SIZE)\n",
    "        axs[j].axhline(y=0.0, linestyle='--',color='k')\n",
    "        axs[j].set_xlabel('Temperature (K)')\n",
    "        axs[j].set_ylabel(r'$\\Delta\\mu_{\\mathrm{liq}\\to \\mathrm{ice}}$ (kJ mol$^{-1}$)')\n",
    "        axs[j].legend(ncol=1,prop={'size': 7},handletextpad=0.0,labelspacing=0.5,columnspacing=0.0,frameon=False)\n",
    "\n",
    "plt.legend()\n",
    "plt.ylabel(r'$\\Delta\\mu_{\\mathrm{liq}\\to \\mathrm{ice}}$ (kJ mol$^{-1}$)')\n",
    "plt.xlabel('Temperature (K)')\n",
    "if len(axs)!=n_pressures:\n",
    "    axs[j+1].axis('off') \n",
    "plt.tight_layout()\n",
    "plt.savefig('figures/chemical_potential_error.png',dpi=300, bbox_inches='tight')"
   ]
  },
  {
   "cell_type": "code",
   "execution_count": null,
   "id": "1ef555bf",
   "metadata": {},
   "outputs": [],
   "source": [
    "print(chempots)\n",
    "with open('P_T_error.dat','w') as fp:\n",
    "    fp.write('#{:14}{:20}{:20}'.format('pressure/atm','T/K','T_error/K'))\n",
    "    for p in PT.keys():\n",
    "        fp.write('\\n{:<16}{:<20.1f}{:<20.1f}'.format(p.replace('COEX_','').replace('atm',''),np.average(PT[p],weights=1/chempots[p][:,2]**2),np.std(PT[p])*1.94))\n",
    "!cat P_T_error.dat"
   ]
  },
  {
   "cell_type": "code",
   "execution_count": null,
   "id": "eef8399a",
   "metadata": {},
   "outputs": [],
   "source": [
    "plt.figure()\n",
    "# for p in PT.keys():\n",
    "#     data=np.loadtxt(lines[1])\n",
    "#     data[:,1]*=lines[2]\n",
    "#     plt.scatter(pP[0],p[1]*atm_to_gpa,s=1,label=lines[0])\n",
    "P_T=np.atleast_2d(np.loadtxt('P_T.dat'))\n",
    "plt.scatter(P_T[:,1],P_T[:,0]*atm_to_gpa,color='b',label='Biased coexistence DeePMD')\n",
    "\n",
    "P_T=np.atleast_2d(np.loadtxt('P_T_error.dat'))\n",
    "#plt.scatter(P_T[:,1],P_T[:,0]*atm_to_gpa,color='r',label='Biased coexistence DeePMD')\n",
    "plt.errorbar(P_T[:,1],P_T[:,0]*atm_to_gpa, xerr=P_T[:,2], fmt='s',color='r')\n",
    "#a=plt.xticks(np.arange(180,290,10)) \n",
    "plt.savefig('figures/phase_diagram.png',dpi=300, bbox_inches='tight')"
   ]
  },
  {
   "cell_type": "markdown",
   "id": "05d16e6e",
   "metadata": {},
   "source": [
    "### Plot of final free energy profile"
   ]
  },
  {
   "cell_type": "code",
   "execution_count": null,
   "id": "0d1b19c4",
   "metadata": {
    "scrolled": true
   },
   "outputs": [],
   "source": [
    "j=0\n",
    "for i, key in enumerate(sorted(sims.keys())): \n",
    "    if settings['singlePressure'] == key.split('/')[0].strip('COEX_'):\n",
    "        sim=sims[key]\n",
    "        title=key.replace('COEX_'+settings['singlePressure'],'').strip('/')\n",
    "        plt.plot(sims[key]['DELTAFS_N_ICE'],sim['DELTAFS'][-1,2:],color=colors[j],label=title)\n",
    "        j+=1\n",
    "plt.xlabel('# of ice-like molecules')\n",
    "plt.ylabel(r'Bias potential (kJ mol$^{-1}$)')\n",
    "plt.legend(ncol=2)       \n",
    "plt.tight_layout()\n",
    "plt.savefig('figures/bias_potentials{}.png'.format(settings['singlePressure']),dpi=300, bbox_inches='tight')"
   ]
  },
  {
   "cell_type": "markdown",
   "id": "8ca0be8a",
   "metadata": {},
   "source": [
    "## Single pressure summary"
   ]
  },
  {
   "cell_type": "code",
   "execution_count": null,
   "id": "b1225415",
   "metadata": {
    "scrolled": true
   },
   "outputs": [],
   "source": [
    "for i, key in enumerate(sorted(sims.keys())): \n",
    "    if settings['singlePressure'] == key.split('/')[0].strip('COEX_'):\n",
    "        if settings['singleTemperature'] == key.split('/')[-2]:\n",
    "            sim_PT=sims[key]\n",
    "fig, axs = plt.subplots(1,3, figsize=(7.2, 2.5), facecolor='w', edgecolor='k')\n",
    "axs = axs.ravel()\n",
    "\n",
    "\n",
    "time0=0\n",
    "# Plot time evolution\n",
    "for j in range(settings['nmpi']):\n",
    "    colvar=sim_PT['COLVAR'][j]\n",
    "    NIGNORE=sim_PT['NIGNORE']\n",
    "\n",
    "\n",
    "   # axs[i].title.set_text(key.replace('COEX_','').replace('/', ' '))\n",
    "    if sims[key]['NIGNORE']>0:\n",
    "        # Part not used for fit\n",
    "        axs[0].plot(time0+colvar['time_ns'][:NIGNORE],colvar['refcv.morethan-2'][:NIGNORE],'k',lw=0.2)\n",
    "        # Part used for fit\n",
    "        axs[0].plot(time0+colvar['time_ns'][NIGNORE:],colvar['refcv.morethan-2'][NIGNORE:],lw=0.2)\n",
    "    else:\n",
    "        # Whole simulation not used for fit\n",
    "        axs[0].plot(time0+colvar['time_ns'],colvar['refcv.morethan-2'],'k',lw=0.2)\n",
    "    time0+=colvar['time_ns'][-1]\n",
    "axs[0].set_xlim(left=0)\n",
    "axs[0].set_xlabel('time (ns)')\n",
    "axs[0].set_ylabel('# of ice-like molecules')\n",
    "axs[0].xaxis.set_minor_locator(MultipleLocator(10))\n",
    "axs[0].set_ylim(top=axs[0].get_ylim()[1]+10.)\n",
    "bbox_props = dict(boxstyle=\"round\", fc=\"w\", ec=\"0.5\", alpha=0.9)\n",
    "axs[0].text(axs[0].get_xlim()[0]+2.5,axs[0].get_ylim()[1]-7.5, 'T={}'.format(settings['singleTemperature']), ha=\"left\", va=\"center\", size=9,\n",
    "        bbox=bbox_props)\n",
    "\n",
    "#axs[0].annotate('T={}'.format(settings['singleTemperature']),xy=[0.025,0.925],xycoords='axes fraction')\n",
    "# Plot free energy profiles\n",
    "j=0\n",
    "for i, key in enumerate(sorted(sims_result.keys())): \n",
    "    if settings['singlePressure'] == key.split('/')[0].strip('COEX_'):\n",
    "        title=key.replace('COEX_'+settings['singlePressure'],'').strip('/')\n",
    "        axs[1].scatter(sims_result[key]['n_water'],sims_result[key]['fes'],color=colors[j],zorder=2,s=15,label=title)\n",
    "        axs[1].plot(sims_result[key]['n_water'],sims_result[key]['fes_linear'],color=colors[j],zorder=1)\n",
    "        j+=1\n",
    "axs[1].set_ylabel(r'$\\Delta$G$_{\\mathrm{liq}\\to \\mathrm{ice}}$ (kJ mol$^{-1}$)')\n",
    "axs[1].set_xlabel('# of ice-like molecules')\n",
    "axs[1].legend(ncol=2,prop={'size': 7},handletextpad=0.0,labelspacing=0.0,columnspacing=0.0,frameon=False)\n",
    "axs[1].xaxis.set_minor_locator(MultipleLocator(10))\n",
    "\n",
    "# Plot of thermodynamic potential\n",
    "for key in chempots.keys():\n",
    "    if settings['singlePressure'] == key.split('/')[0].strip('COEX_'):\n",
    "        for j in range(len(chempots[key])):\n",
    "            axs[2].scatter(chempots[key][j,0],chempots[key][j,1],color=colors[j],zorder=1)\n",
    "        axs[2].plot(chempots[key][:,0],chempots[key][:,2],zorder=2)\n",
    "        axs[2].axhline(y=0.0, linestyle='--',color='k',lw=0.75)\n",
    "        axs[2].set_xticks(chempots[key][:,0])\n",
    "        popt, pcov = curve_fit(linear_fn, chempots[key][:,0], chempots[key][:,2])\n",
    "        T_melt=-popt[1]/popt[0]\n",
    "        axs[2].axvline(x=T_melt, linestyle='--',color='k',lw=0.75)\n",
    "        \n",
    "        plt.annotate(r'$T_{{\\mathrm{{m}}}}$={:.1f}K'.format(T_melt),xy=[T_melt,0],xytext=[T_melt+2.0,-0.05],arrowprops=dict(arrowstyle=\"->\",color='r'))\n",
    "axs[0].annotate('(a)',xy=(0.015,0.9),xycoords='subfigure fraction')\n",
    "axs[1].annotate('(b)',xy=(0.345,0.9),xycoords='subfigure fraction')\n",
    "axs[2].annotate('(c)',xy=(0.675,0.9),xycoords='subfigure fraction')\n",
    "\n",
    "axs[2].set_ylabel(r'$\\Delta\\mu_{\\mathrm{liq}\\to \\mathrm{ice}}$ (kJ mol$^{-1}$)')\n",
    "axs[2].set_xlabel('Temperature (K)')\n",
    "plt.tight_layout()\n",
    "plt.savefig('figures/summary{}.png'.format(settings['singlePressure']),dpi=300, bbox_inches='tight')"
   ]
  },
  {
   "cell_type": "markdown",
   "id": "d8b7cee6",
   "metadata": {},
   "source": [
    "## Free energy profile"
   ]
  },
  {
   "cell_type": "code",
   "execution_count": null,
   "id": "7025ebd1",
   "metadata": {},
   "outputs": [],
   "source": [
    "fig, axs = plt.subplots(1,1, figsize=(3.4, 2.5), facecolor='w', edgecolor='k')\n",
    "axs = [axs]\n",
    "j=0\n",
    "for i, key in enumerate(sorted(sims_result.keys())): \n",
    "    if settings['singlePressure'] == key.split('/')[0].strip('COEX_'):\n",
    "        title=key.replace('COEX_'+settings['singlePressure'],'').strip('/')\n",
    "        plt.scatter(sims_result[key]['n_water'],sims_result[key]['fes'],color=colors[j],zorder=5-i,s=15,label=title)\n",
    "        axs[0].plot(sims_result[key]['n_water'],sims_result[key]['fes_linear'],color=colors[j],zorder=1)\n",
    "        j+=1\n",
    "axs[0].set_ylabel(r'$\\Delta$G$_{\\mathrm{liq}\\to \\mathrm{ice}}$ (kJ mol$^{-1}$)')\n",
    "axs[0].set_xlabel('# of ice-like molecules')\n",
    "axs[0].legend(ncol=2,prop={'size': 7},handletextpad=0.2,labelspacing=0.2,columnspacing=0.2,frameon=False)\n",
    "axs[0].xaxis.set_minor_locator(MultipleLocator(10))\n",
    "plt.tight_layout()\n",
    "plt.savefig('figures/free_energy_single.png'.format(settings['singlePressure']),dpi=300, bbox_inches='tight')"
   ]
  },
  {
   "cell_type": "markdown",
   "id": "a0250b57",
   "metadata": {},
   "source": [
    "## Entropy of crysatlization"
   ]
  },
  {
   "cell_type": "code",
   "execution_count": null,
   "id": "33b64fe0",
   "metadata": {},
   "outputs": [],
   "source": [
    "fig, axs = plt.subplots(2,1, figsize=(3.4, 3.25), facecolor='w', edgecolor='k')\n",
    "coex_line=np.atleast_2d(np.loadtxt('P_T.dat'))\n",
    "axs[0].scatter(coex_line[:,0]*atm_to_gpa,coex_line[:,2])\n",
    "axs[1].scatter(coex_line[:,0]*atm_to_gpa,coex_line[:,3]*1000)\n",
    "axs[0].set_zorder(2)\n",
    "axs[0].set_ylabel(r'H$_{\\mathrm{fus}}$ (kJ mol$^{-1}$)')\n",
    "axs[1].set_ylabel(r'S$_{\\mathrm{fus}}$ (J mol$^{-1}$K$^{-1}$)')\n",
    "axs[1].set_xlabel(r'P (GPa)')\n",
    "plt.tight_layout()\n",
    "axs[0].tick_params(axis='x',label1On=False)\n",
    "plt.subplots_adjust(top = 0.995, bottom = 0.15, right = 0.95, left = 0.2, \n",
    "            hspace = 0, wspace = 0)\n",
    "fig.align_ylabels(axs[:])\n",
    "axs[1].yaxis.set_major_locator(MaxNLocator(prune='upper',nbins=4))\n",
    "axs[0].yaxis.set_major_locator(MaxNLocator(prune='lower',nbins=4))\n",
    "plt.savefig('figures/thermodynamics.png',dpi=300, bbox_inches='tight')"
   ]
  },
  {
   "cell_type": "code",
   "execution_count": null,
   "id": "877bbe99",
   "metadata": {},
   "outputs": [],
   "source": [
    "def func(x, a, b):\n",
    "    return a * x + b\n",
    "chemical_potentials_bc_2048=np.zeros(len(sims.keys()))\n",
    "chemical_potentials_errors_bc_2048=np.zeros(len(sims.keys()))\n",
    "counter1=0\n",
    "colors = plt.rcParams['axes.prop_cycle'].by_key()['color']\n",
    "\n",
    "#colors = plt.cm.jet(np.linspace(0,0.6,5))\n",
    "if n_pressures>2:\n",
    "    fig, axs = plt.subplots(2, int(np.ceil(n_pressures/2)),figsize=settings['fig2_size'])\n",
    "    axs=axs.flatten()\n",
    "elif n_pressures==2:\n",
    "    fig, axs = plt.subplots(1, 2,figsize=settings['fig2_size'])\n",
    "    axs=axs.flatten()\n",
    "else:\n",
    "    fig, axs = plt.subplots(1, 1,figsize=settings['fig2_size'])\n",
    "    axs=[axs]\n",
    "colors = plt.cm.jet(np.linspace(0,0.6,5))\n",
    "\n",
    "\n",
    "press=np.unique([k.split('/')[0] for k in sims_result.keys()])\n",
    "for i, p in enumerate(press):\n",
    "    j=0\n",
    "\n",
    "    for key in sims.keys():\n",
    "        counter1=0\n",
    "\n",
    "        if p in key:\n",
    "            sim=sims[key]\n",
    "            colvar =sim['COLVAR']\n",
    "            print(p,key)\n",
    "\n",
    "            ignore=int(colvar[0]['opes.bias'][0]/8)\n",
    "\n",
    "            bias = np.hstack(tuple([colvar[mpi]['opes.bias'][NIGNORE:] for mpi in range(settings['nmpi'])]))\n",
    "            cv  = np.hstack(tuple([colvar[mpi]['refcv.morethan-2'][NIGNORE:] for mpi in range(settings['nmpi'])]))\n",
    "\n",
    "            temp=sim['T']\n",
    "            #bias= data[ignore:,3]+data[ignore:,8]+data[ignore:,10]\n",
    "            #cv=data[ignore:,13]\n",
    "            if (cv.shape[0]>0):\n",
    "                beta=1./(0.00831441001626*temp)\n",
    "                logweights=beta*bias\n",
    "                logweights -= np.amax(logweights)\n",
    "                #nbins=25\n",
    "                histmin=425\n",
    "                histmax=500\n",
    "                nbins=int((histmax-histmin)/4)\n",
    "                histo, bin_edges = np.histogram(cv,weights=np.exp(logweights),bins=nbins,range=(histmin,histmax))\n",
    "                err = np.sqrt(np.histogram(cv,weights=np.power(np.exp(logweights),2),bins=nbins,range=(histmin,histmax))[0])\n",
    "                bin_centers = (bin_edges[1:]+bin_edges[:-1])/2\n",
    "                fes = -(1/beta)*np.log(histo)\n",
    "                offset = np.mean(np.ma.masked_invalid(fes))\n",
    "                fes -= offset\n",
    "                axs[i].plot(bin_centers,fes,label=str(temp) + \" K\",color=colors[j])\n",
    "                feserr = (1/beta)*err/histo\n",
    "                axs[i].fill_between(bin_centers,fes-3*feserr,fes+3*feserr,color=colors[j],linewidth=0,alpha=0.5)\n",
    "                if (fes[np.isfinite(fes)].shape[0]>0):\n",
    "                    popt, pcov = curve_fit(func, bin_centers[np.isfinite(fes)], fes[np.isfinite(fes)], sigma=feserr[np.isfinite(fes)])\n",
    "                    x=np.linspace(histmin,histmax,10)\n",
    "                    axs[i].plot(x,func(x,*popt),'--',color='black',alpha=0.5)\n",
    "                    chemical_potentials_bc_2048[counter1]=popt[0]\n",
    "                    perr = np.sqrt(np.diag(pcov))\n",
    "                    chemical_potentials_errors_bc_2048[counter1]=perr[0]\n",
    "                    sims_result[key]['chem_pot'] = [popt[0],perr[0]]\n",
    "            axs[i].set_xlabel(r'# of ice-like molecules')\n",
    "            axs[i].set_ylabel(r'$\\Delta$G$_{\\mathrm{liq}\\to \\mathrm{ice}}$ (kJ mol$^{-1}$)')\n",
    "            axs[i].legend(ncol=2,prop={'size': 7},handletextpad=0.0,labelspacing=0.5,columnspacing=0.0,frameon=False)\n",
    "\n",
    "            counter1 += 1\n",
    "            j += 1\n",
    "plt.tight_layout()"
   ]
  },
  {
   "cell_type": "code",
   "execution_count": null,
   "id": "aa454668",
   "metadata": {},
   "outputs": [],
   "source": [
    "if n_pressures>2:\n",
    "    fig, axs = plt.subplots(2, int(np.ceil(n_pressures/2)),figsize=settings['fig2_size'])\n",
    "    axs=axs.flatten()\n",
    "elif n_pressures==2:\n",
    "    fig, axs = plt.subplots(1, 2,figsize=settings['fig2_size'])\n",
    "    axs=axs.flatten()\n",
    "else:\n",
    "    fig, axs = plt.subplots(1, 1,figsize=settings['fig2_size'])\n",
    "    axs=[axs]\n",
    "\n",
    "coex_line=[]\n",
    "chempots=dict()\n",
    "TP2=[]\n",
    "for i, p in enumerate(press):\n",
    "    j=0\n",
    "    chem_pot=[]\n",
    "    for key in sims_result.keys():\n",
    "        if p in key:\n",
    "\n",
    "            sim=sims_result[key]\n",
    "          #  print(sim)\n",
    "            chem_pot.append([sims[key]['T'], sim['chem_pot'][0],sim['chem_pot'][1]])\n",
    "    chem_pot=np.array(chem_pot)\n",
    "\n",
    "    try:\n",
    "        \n",
    "        popt, pcov = curve_fit(linear_fn, chem_pot[:,0], chem_pot[:,1],sigma=chem_pot[:,2])\n",
    "    except:\n",
    "        continue\n",
    "    axs[i].scatter(chem_pot[:,0],chem_pot[:,1])\n",
    "    axs[i].plot(chem_pot[:,0],linear_fn(chem_pot[:,0],*popt))\n",
    "\n",
    "  \n",
    "    T_melt=-popt[1]/popt[0]\n",
    "    TP2.append([float(p.strip('COEX_atm')),T_melt])\n",
    "    print(p.strip('COEX_atm'),T_melt)\n",
    "    key='{}'.format(p)\n",
    "    chempots[str(p)]=np.vstack((chem_pot[:,0],chem_pot[:,1],linear_fn(chem_pot[:,0],*popt))).T\n",
    "    title=r'{:.3f}$\\,$GPa'.format(float(p.strip('COEX_atm'))*atm_to_gpa)\n",
    "    axs[i].set_title(title,size = MEDIUM_SIZE)\n",
    "    axs[i].axhline(y=0.0, linestyle='--',color='k')\n",
    "    axs[i].axvline(x=T_melt, linestyle='--',color='k')\n",
    "    axs[i].set_ylabel(r'$\\Delta\\mu_{\\mathrm{liq}\\to \\mathrm{ice}}$ (kJ mol$^{-1}$)')\n",
    "    axs[i].set_xlabel('Temperature (K)')\n",
    "    \n",
    "\n",
    "if len(axs)!=n_pressures:\n",
    "    axs[i+1].axis('off') \n",
    "plt.tight_layout()\n",
    "plt.savefig('figures/chemical_potential.png',dpi=300, bbox_inches='tight')"
   ]
  },
  {
   "cell_type": "code",
   "execution_count": null,
   "id": "8687c95c",
   "metadata": {},
   "outputs": [],
   "source": [
    "P_T=np.atleast_2d(np.loadtxt('P_T.dat'))\n",
    "plt.scatter(P_T[:,1],P_T[:,0]*atm_to_gpa,color='b',label='Biased coexistence DeePMD')\n",
    "\n",
    "P_T=np.atleast_2d(np.loadtxt('P_T_error.dat'))\n",
    "#plt.scatter(P_T[:,1],P_T[:,0]*atm_to_gpa,color='r',label='Biased coexistence DeePMD')\n",
    "plt.errorbar(P_T[:,1],P_T[:,0]*atm_to_gpa, xerr=P_T[:,2], fmt='s',color='r')\n",
    "TP2=np.array(TP2)\n",
    "plt.scatter(TP2[:,1],TP2[:,0]*atm_to_gpa)"
   ]
  },
  {
   "cell_type": "code",
   "execution_count": null,
   "id": "ef834bb5",
   "metadata": {},
   "outputs": [],
   "source": [
    "np.savetxt('T_P_2nd.dat',TP2)"
   ]
  },
  {
   "cell_type": "code",
   "execution_count": null,
   "id": "d0b1e1a3",
   "metadata": {},
   "outputs": [],
   "source": []
  }
 ],
 "metadata": {
  "kernelspec": {
   "display_name": "Python 3 (ipykernel)",
   "language": "python",
   "name": "python3"
  },
  "language_info": {
   "codemirror_mode": {
    "name": "ipython",
    "version": 3
   },
   "file_extension": ".py",
   "mimetype": "text/x-python",
   "name": "python",
   "nbconvert_exporter": "python",
   "pygments_lexer": "ipython3",
   "version": "3.9.12"
  }
 },
 "nbformat": 4,
 "nbformat_minor": 5
}
