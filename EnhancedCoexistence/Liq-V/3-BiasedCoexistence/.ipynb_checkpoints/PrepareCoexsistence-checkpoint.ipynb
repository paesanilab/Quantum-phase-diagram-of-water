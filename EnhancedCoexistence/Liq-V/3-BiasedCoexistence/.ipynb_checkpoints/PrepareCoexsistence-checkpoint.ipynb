{
 "cells": [
  {
   "cell_type": "markdown",
   "id": "b9f240a2",
   "metadata": {},
   "source": [
    "# Preparation of biased coexsistence simulations"
   ]
  },
  {
   "cell_type": "code",
   "execution_count": 1,
   "id": "fb21dd18",
   "metadata": {
    "execution": {
     "iopub.execute_input": "2022-01-22T19:20:41.913396Z",
     "iopub.status.busy": "2022-01-22T19:20:41.913017Z",
     "iopub.status.idle": "2022-01-22T19:20:42.689846Z",
     "shell.execute_reply": "2022-01-22T19:20:42.689469Z"
    }
   },
   "outputs": [],
   "source": [
    "import numpy as np, sys, os, glob\n",
    "import matplotlib.pylab as plt\n",
    "import MDAnalysis"
   ]
  },
  {
   "cell_type": "code",
   "execution_count": 2,
   "id": "99754d4d",
   "metadata": {
    "execution": {
     "iopub.execute_input": "2022-01-22T19:20:42.692628Z",
     "iopub.status.busy": "2022-01-22T19:20:42.692309Z",
     "iopub.status.idle": "2022-01-22T19:20:42.696319Z",
     "shell.execute_reply": "2022-01-22T19:20:42.696587Z"
    }
   },
   "outputs": [
    {
     "name": "stdout",
     "output_type": "stream",
     "text": [
      "[[6000.     255.      18.056   45.864   20.454   89.622  108.58    90.323]\n",
      " [8000.     265.      17.992   45.808   20.381   89.6    108.48    90.346]\n",
      " [7000.     250.      18.015   45.795   20.408   89.594  108.6     90.343]\n",
      " [7000.     265.      18.022   45.867   20.409   89.67   108.43    90.295]\n",
      " [4000.     255.      18.14    45.979   20.549   89.627  108.69    90.321]\n",
      " [6000.     260.      18.062   45.897   20.461   89.595  108.55    90.357]\n",
      " [4000.     235.      18.112   45.9     20.524   89.608  108.76    90.344]\n",
      " [6000.     245.      18.044   45.827   20.446   89.606  108.64    90.343]\n",
      " [8000.     275.      17.999   45.847   20.384   89.626  108.39    90.321]\n",
      " [4000.     245.      18.127   45.938   20.538   89.608  108.73    90.345]\n",
      " [8000.     270.      17.996   45.825   20.382   89.61   108.44    90.34 ]\n",
      " [7000.     270.      18.035   45.875   20.425   89.623  108.47    90.328]\n",
      " [4000.     240.      18.122   45.922   20.535   89.615  108.77    90.339]\n",
      " [8000.     260.      17.988   45.785   20.374   89.602  108.48    90.336]\n",
      " [6000.     250.      18.052   45.849   20.455   89.602  108.63    90.339]\n",
      " [7000.     255.      18.019   45.815   20.413   89.599  108.55    90.341]\n",
      " [4000.     250.      18.135   45.959   20.546   89.621  108.72    90.327]\n",
      " [7000.     260.      18.026   45.834   20.417   89.604  108.54    90.346]\n",
      " [8000.     255.      17.98    45.775   20.367   89.596  108.49    90.34 ]\n",
      " [6000.     265.      18.069   45.904   20.468   89.618  108.57    90.325]]\n"
     ]
    }
   ],
   "source": [
    "standard_sim=os.path.abspath('template/')\n",
    "\n",
    "press_box = np.genfromtxt('../3-PrepareCoexistenceConfiguration/avg_ice_box.dat')\n",
    "print(press_box)\n",
    "presures=np.unique(press_box[:,0])"
   ]
  },
  {
   "cell_type": "code",
   "execution_count": 3,
   "id": "9fb55539",
   "metadata": {
    "execution": {
     "iopub.execute_input": "2022-01-22T19:20:42.701785Z",
     "iopub.status.busy": "2022-01-22T19:20:42.701458Z",
     "iopub.status.idle": "2022-01-22T19:20:47.349327Z",
     "shell.execute_reply": "2022-01-22T19:20:47.349021Z"
    }
   },
   "outputs": [
    {
     "name": "stdout",
     "output_type": "stream",
     "text": [
      "before [ 18.091984  47.303875  20.496712  89.6684   108.65605   90.16245 ]\n",
      "after [ 18.056     47.303875  20.454     89.622    108.58      90.323   ]\n"
     ]
    },
    {
     "name": "stderr",
     "output_type": "stream",
     "text": [
      "/home/sbore/.local/lib/python3.8/site-packages/MDAnalysis/coordinates/base.py:865: UserWarning: Reader has no dt information, set to 1.0 ps\n",
      "  warnings.warn(\"Reader has no dt information, set to 1.0 ps\")\n"
     ]
    },
    {
     "name": "stdout",
     "output_type": "stream",
     "text": [
      "before [ 18.091984  47.303875  20.496712  89.6684   108.65605   90.16245 ]\n",
      "after [ 17.992     47.303875  20.381     89.6      108.48      90.346   ]\n",
      "before [ 18.091984  47.303875  20.496712  89.6684   108.65605   90.16245 ]\n",
      "after [ 18.015     47.303875  20.408     89.594    108.6       90.343   ]\n",
      "before [ 18.091984  47.303875  20.496712  89.6684   108.65605   90.16245 ]\n",
      "after [ 18.022     47.303875  20.409     89.67     108.43      90.295   ]\n",
      "before [ 18.091984  47.303875  20.496712  89.6684   108.65605   90.16245 ]\n",
      "after [ 18.14      47.303875  20.549     89.627    108.69      90.321   ]\n",
      "before [ 18.091984  47.303875  20.496712  89.6684   108.65605   90.16245 ]\n",
      "after [ 18.062     47.303875  20.461     89.595    108.55      90.357   ]\n",
      "before [ 18.091984  47.303875  20.496712  89.6684   108.65605   90.16245 ]\n",
      "after [ 18.112     47.303875  20.524     89.608    108.76      90.344   ]\n",
      "before [ 18.091984  47.303875  20.496712  89.6684   108.65605   90.16245 ]\n",
      "after [ 18.044     47.303875  20.446     89.606    108.64      90.343   ]\n",
      "before [ 18.091984  47.303875  20.496712  89.6684   108.65605   90.16245 ]\n",
      "after [ 17.999     47.303875  20.384     89.626    108.39      90.321   ]\n",
      "before [ 18.091984  47.303875  20.496712  89.6684   108.65605   90.16245 ]\n",
      "after [ 18.127     47.303875  20.538     89.608    108.73      90.345   ]\n",
      "before [ 18.091984  47.303875  20.496712  89.6684   108.65605   90.16245 ]\n",
      "after [ 17.996     47.303875  20.382     89.61     108.44      90.34    ]\n",
      "before [ 18.091984  47.303875  20.496712  89.6684   108.65605   90.16245 ]\n",
      "after [ 18.035     47.303875  20.425     89.623    108.47      90.328   ]\n",
      "before [ 18.091984  47.303875  20.496712  89.6684   108.65605   90.16245 ]\n",
      "after [ 18.122     47.303875  20.535     89.615    108.77      90.339   ]\n",
      "before [ 18.091984  47.303875  20.496712  89.6684   108.65605   90.16245 ]\n",
      "after [ 17.988     47.303875  20.374     89.602    108.48      90.336   ]\n",
      "before [ 18.091984  47.303875  20.496712  89.6684   108.65605   90.16245 ]\n",
      "after [ 18.052     47.303875  20.455     89.602    108.63      90.339   ]\n",
      "before [ 18.091984  47.303875  20.496712  89.6684   108.65605   90.16245 ]\n",
      "after [ 18.019     47.303875  20.413     89.599    108.55      90.341   ]\n",
      "before [ 18.091984  47.303875  20.496712  89.6684   108.65605   90.16245 ]\n",
      "after [ 18.135     47.303875  20.546     89.621    108.72      90.327   ]\n",
      "before [ 18.091984  47.303875  20.496712  89.6684   108.65605   90.16245 ]\n",
      "after [ 18.026     47.303875  20.417     89.604    108.54      90.346   ]\n",
      "before [ 18.091984  47.303875  20.496712  89.6684   108.65605   90.16245 ]\n",
      "after [ 17.98      47.303875  20.367     89.596    108.49      90.34    ]\n",
      "before [ 18.091984  47.303875  20.496712  89.6684   108.65605   90.16245 ]\n",
      "after [ 18.069     47.303875  20.468     89.618    108.57      90.325   ]\n"
     ]
    }
   ],
   "source": [
    "sims = dict()\n",
    "for a in press_box[:]:\n",
    "    fold='COEX_{}atm/{}K/'.format(a[0],a[1])\n",
    "    os.system('mkdir -p {}'.format(fold))\n",
    "    os.system('cp {}/* {}'.format(standard_sim,fold))\n",
    "    sims[fold] = dict()\n",
    "    p=a[0]\n",
    "    t=a[1]\n",
    "    \n",
    "    cmd ='sed -i  \\\"s#REPLACE_PRESSURE#{}#g\\\" {}/in.pressure\\n'.format(p,fold)\n",
    "    cmd+='sed -i  \\\"s#REPLACE_TEMP#{}#g\\\" {}/in.temp\\n'.format(t,fold)\n",
    "    cmd+='sed -i  \\\"s#REPLACE_TEMP#{}#g\\\" {}/plumed*.dat'.format(t,fold)\n",
    "    os.system(cmd)\n",
    "    u = MDAnalysis.Universe('template/water.data', in_memory=True)\n",
    "    print('before',u.dimensions)\n",
    "    dimensions_new=a[2:]\n",
    "    max_l=np.max(u.dimensions[:3])\n",
    "    max_dim=np.where(u.dimensions==max_l)[0][0]\n",
    "    dimensions_new[max_dim]=u.dimensions[max_dim]\n",
    "    for dim in range(3):\n",
    "        if not dim==max_dim:\n",
    "            u.coord.positions[:,dim] = u.coord.positions[:,dim]*dimensions_new[dim]/u.dimensions[dim]\n",
    "    u.dimensions=dimensions_new\n",
    "    print('after',u.dimensions)\n",
    "\n",
    "    u.atoms.write(fold+'/water.data')"
   ]
  }
 ],
 "metadata": {
  "kernelspec": {
   "display_name": "Python 3 (ipykernel)",
   "language": "python",
   "name": "python3"
  },
  "language_info": {
   "codemirror_mode": {
    "name": "ipython",
    "version": 3
   },
   "file_extension": ".py",
   "mimetype": "text/x-python",
   "name": "python",
   "nbconvert_exporter": "python",
   "pygments_lexer": "ipython3",
   "version": "3.9.6"
  }
 },
 "nbformat": 4,
 "nbformat_minor": 5
}
