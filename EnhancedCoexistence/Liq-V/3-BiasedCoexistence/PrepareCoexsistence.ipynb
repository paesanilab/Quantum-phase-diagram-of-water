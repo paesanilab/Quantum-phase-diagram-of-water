{
 "cells": [
  {
   "cell_type": "markdown",
   "id": "b9f240a2",
   "metadata": {},
   "source": [
    "# Preparation of biased coexsistence simulations"
   ]
  },
  {
   "cell_type": "code",
   "execution_count": 2,
   "id": "fb21dd18",
   "metadata": {},
   "outputs": [
    {
     "name": "stderr",
     "output_type": "stream",
     "text": [
      "/Users/sigbjobo/miniforge3/lib/python3.9/site-packages/MDAnalysis/coordinates/chemfiles.py:108: DeprecationWarning: distutils Version classes are deprecated. Use packaging.version instead.\n",
      "  MIN_CHEMFILES_VERSION = LooseVersion(\"0.9\")\n"
     ]
    }
   ],
   "source": [
    "import numpy as np, sys, os, glob\n",
    "import matplotlib.pylab as plt\n",
    "import MDAnalysis"
   ]
  },
  {
   "cell_type": "code",
   "execution_count": 3,
   "id": "99754d4d",
   "metadata": {},
   "outputs": [],
   "source": [
    "standard_sim=os.path.abspath('template/')\n",
    "\n",
    "press_box = np.loadtxt('../1-Bulk/avg_IceV_box.dat')\n",
    "presures=np.unique(press_box[:,0])"
   ]
  },
  {
   "cell_type": "code",
   "execution_count": 5,
   "id": "9fb55539",
   "metadata": {
    "scrolled": false
   },
   "outputs": [
    {
     "name": "stderr",
     "output_type": "stream",
     "text": [
      "sed: 1: \"COEX_2000.0atm/230.0K// ...\": invalid command code C\n",
      "sed: 1: \"COEX_2000.0atm/230.0K// ...\": invalid command code C\n",
      "sed: 1: \"COEX_2000.0atm/230.0K// ...\": invalid command code C\n",
      "\n",
      "KeyboardInterrupt\n",
      "\n"
     ]
    }
   ],
   "source": [
    "sims = dict()\n",
    "for a in press_box[:]:\n",
    "    fold='COEX_{}atm/{}K/'.format(a[0],a[1])\n",
    "    os.system('mkdir -p {}'.format(fold))\n",
    "    os.system('cp ../../../2-GenerateTrainingset/GraphFiles/Iteration1/graph-compress.pb {}/../graph.pb'.format(fold))\n",
    "    os.system('cp {}/* {}'.format(standard_sim,fold))\n",
    "    sims[fold] = dict()\n",
    "    p=a[0]\n",
    "    t=a[1]\n",
    "    \n",
    "    cmd ='sed -i  \\\"s#REPLACE_PRESSURE#{}#g\\\" {}/in.pressure\\n'.format(p*1.01325,fold)\n",
    "    cmd+='sed -i  \\\"s#REPLACE_TEMP#{}#g\\\" {}/in.temp\\n'.format(t,fold)\n",
    "    cmd+='sed -i  \\\"s#REPLACE_TEMP#{}#g\\\" {}/plumed*.dat'.format(t,fold)\n",
    "    os.system(cmd)\n",
    "    u = MDAnalysis.Universe(standard_sim+'/water.data', in_memory=True)\n",
    "    \n",
    "    scaled_coord=MDAnalysis.lib.distances.transform_RtoS(u.atoms.positions,u.dimensions)\n",
    "   \n",
    "    print('before',u.dimensions)\n",
    "    dimensions_new=a[2:]\n",
    "    max_l=np.max(u.dimensions[:3])\n",
    "    max_dim=np.where(u.dimensions==max_l)[0][0]\n",
    "    dimensions_new[max_dim]=u.dimensions[max_dim]\n",
    "    u.dimensions=dimensions_new\n",
    "    u.atoms.positions=MDAnalysis.lib.distances.transform_StoR(scaled_coord,u.dimensions)\n",
    "    print('after',u.dimensions)\n",
    "\n",
    "    u.atoms.write(fold+'/water.data')"
   ]
  },
  {
   "cell_type": "code",
   "execution_count": null,
   "id": "39d51585",
   "metadata": {},
   "outputs": [],
   "source": []
  }
 ],
 "metadata": {
  "kernelspec": {
   "display_name": "Python 3 (ipykernel)",
   "language": "python",
   "name": "python3"
  },
  "language_info": {
   "codemirror_mode": {
    "name": "ipython",
    "version": 3
   },
   "file_extension": ".py",
   "mimetype": "text/x-python",
   "name": "python",
   "nbconvert_exporter": "python",
   "pygments_lexer": "ipython3",
   "version": "3.9.12"
  }
 },
 "nbformat": 4,
 "nbformat_minor": 5
}
