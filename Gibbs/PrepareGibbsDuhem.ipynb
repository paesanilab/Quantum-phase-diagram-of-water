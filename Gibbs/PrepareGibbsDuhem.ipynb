{
 "cells": [
  {
   "cell_type": "markdown",
   "id": "b969dd42",
   "metadata": {},
   "source": [
    "# Prepare Gibbs-Duhem Simulations"
   ]
  },
  {
   "cell_type": "code",
   "execution_count": 1,
   "id": "4187801e",
   "metadata": {},
   "outputs": [],
   "source": [
    "import os, sys \n",
    "import numpy as np"
   ]
  },
  {
   "cell_type": "code",
   "execution_count": 2,
   "id": "6cfc5035",
   "metadata": {},
   "outputs": [],
   "source": [
    "settings=dict()\n",
    "\n",
    "settings['--step']=250\n",
    "settings['--initial_equilibration_steps']=200000\n",
    "settings['--steps_per_sim']=100000\n",
    "\n",
    "settings['--percent_equilibration']=20.0\n",
    "settings['--max_error_vol']='0.05'\n",
    "settings['--lmp_exe']='$LAMMPS_EXE'\n",
    "settings['--run_cmd']='\"srun\"'\n",
    "settings['--lmp_options']='\"\"'\n",
    "settings['--out_freq']=10000\n",
    "settings['--root_fold']='./'\n",
    "settings['--max_num_runs']='250'\n",
    "settings['--units']='metal'\n",
    "\n",
    "settings_T=settings.copy()\n",
    "settings_T['--integration_variable']= 'T'\n",
    "settings_T['--step']=5\n"
   ]
  },
  {
   "cell_type": "code",
   "execution_count": 3,
   "id": "4df5eb23",
   "metadata": {},
   "outputs": [],
   "source": [
    "def PrepSingleSim(setttings_temp,dir_name,left_phase,right_phase,pm,tm,pmin,pmax):\n",
    "    dir_name=dir_name+'/'\n",
    "    # Create simulation dir\n",
    "    root_folder=dir_name+'/'+str(pm)+'atm'+'_'+str(tm)+'K'\n",
    "    os.makedirs(dir_name, exist_ok=True)#s.system('mkdir  {}'.format(dir_name))\n",
    "    os.makedirs(dir_name+'/Initial', exist_ok=True)\n",
    "    os.makedirs(root_folder, exist_ok=True)\n",
    "\n",
    "    os.system('cp integrate.py ' + dir_name)\n",
    "    os.system('cp ../../2-GenerateTrainingset/GraphFiles/Iteration1/graph-compress.pb ' + dir_name+'/graph.pb')\n",
    "    initial='Initial/'\n",
    "    os.system('cp -r InitialConfigurations/{} {}{}'.format(left_phase,dir_name, initial) )\n",
    "    os.system('cp -r InitialConfigurations/{} {}{}'.format(right_phase,dir_name, initial))\n",
    "\n",
    "    \n",
    "    \n",
    "    # Setup command for running\n",
    "\n",
    "    setttings_temp['--end_variable']=str(pmax)\n",
    "    setttings_temp['--initial_point_folder']='../'+initial\n",
    "    setttings_temp['--left']=left_phase\n",
    "    setttings_temp['--right']=right_phase\n",
    "    setttings_temp['--initial_TP']=str(tm)+' '+str(pm) \n",
    "    arguments=' '.join(['{} {}'.format(t,setttings_temp[t]) for t in setttings_temp])\n",
    "    \n",
    "    # Upwards\n",
    " \n",
    "    arguments=' '.join(['{} {}'.format(t,setttings_temp[t]) for t in setttings_temp])\n",
    "    command = 'python3 ../integrate.py {}\\n'.format(arguments) \n",
    "    \n",
    "    #Downwards\n",
    "    setttings_temp['--end_variable']=str(pmin)\n",
    "    arguments=' '.join(['{} {}'.format(t,setttings_temp[t]) for t in setttings_temp])\n",
    "    command += 'python3 ../integrate.py {}\\n'.format(arguments) \n",
    "    \n",
    "    with open(root_folder+'/script.sh','w') as fp:\n",
    "        fp.write(command)\n",
    "    "
   ]
  },
  {
   "cell_type": "markdown",
   "id": "b102607c",
   "metadata": {},
   "source": [
    "## DNN@MB-pol"
   ]
  },
  {
   "cell_type": "markdown",
   "id": "c4028b1f",
   "metadata": {},
   "source": [
    "### IceIh-Liquid"
   ]
  },
  {
   "cell_type": "code",
   "execution_count": 13,
   "id": "fdfeacd3",
   "metadata": {},
   "outputs": [
    {
     "name": "stdout",
     "output_type": "stream",
     "text": [
      "[  1.   262.49]\n",
      "[1000.    250.35]\n"
     ]
    }
   ],
   "source": [
    "for PT in np.loadtxt('../IceIh-Liquid/3-BiasedCoexistence/DATA/melting-points-DNN.dat'):\n",
    "    print(PT)\n",
    "    PrepSingleSim(settings_T,'Ih-Liq_NN/','IceIh','Liquid',PT[0],PT[1],100,PT[1])\n",
    "    PrepSingleSim(settings,'Ih-Liq_NN/','IceIh','Liquid',PT[0],PT[1],-1000,PT[0])\n"
   ]
  },
  {
   "cell_type": "markdown",
   "id": "64ae9847",
   "metadata": {},
   "source": [
    "### IceII-Liquid"
   ]
  },
  {
   "cell_type": "code",
   "execution_count": 14,
   "id": "e5ae8416",
   "metadata": {},
   "outputs": [
    {
     "name": "stdout",
     "output_type": "stream",
     "text": [
      "[2000.    244.62]\n",
      "[3000.    250.88]\n",
      "[4000.    254.27]\n",
      "[5000.    255.18]\n",
      "[6000.    256.12]\n"
     ]
    }
   ],
   "source": [
    "for PT in np.atleast_2d(np.loadtxt('../IceII-Liquid/5-BiasedCoexistence_3rd/DATA/melting-points-DNN.dat')):\n",
    "    print(PT)\n",
    "    PrepSingleSim(settings,'II-Liq_NN/','IceII','Liquid',PT[0],PT[1],0,8000)"
   ]
  },
  {
   "cell_type": "markdown",
   "id": "46a94ff8",
   "metadata": {},
   "source": [
    "### IceIII-Liquid"
   ]
  },
  {
   "cell_type": "code",
   "execution_count": 16,
   "id": "f4224680",
   "metadata": {},
   "outputs": [
    {
     "name": "stdout",
     "output_type": "stream",
     "text": [
      "[2000.    243.15]\n",
      "[3000.    245.15]\n",
      "[5000.    247.73]\n",
      "[6000.    247.37]\n"
     ]
    }
   ],
   "source": [
    "for PT in np.loadtxt('../IceIII-Liquid/5-BiasedCoexistence/DATA/melting-points-DNN.dat'):\n",
    "    print(PT)\n",
    "    PrepSingleSim(settings,'III-Liq_NN/','IceIII','Liquid',PT[0],PT[1],0,10000)"
   ]
  },
  {
   "cell_type": "markdown",
   "id": "0a81d333",
   "metadata": {},
   "source": [
    "### IceV-Liquid"
   ]
  },
  {
   "cell_type": "code",
   "execution_count": 18,
   "id": "bd094315",
   "metadata": {
    "scrolled": true
   },
   "outputs": [
    {
     "name": "stdout",
     "output_type": "stream",
     "text": [
      "[5000.    249.96]\n",
      "[6000.   255.2]\n"
     ]
    }
   ],
   "source": [
    "for PT in np.loadtxt('../IceV-Liquid/3-BiasedCoexistence/DATA/melting-points-DNN.dat'):\n",
    "    print(PT)\n",
    "    PrepSingleSim(settings,'V-Liq_NN/','IceV','Liquid',PT[0],PT[1],2000,12000)"
   ]
  },
  {
   "cell_type": "markdown",
   "id": "fedf5643",
   "metadata": {},
   "source": [
    "### IceVI-Liquid"
   ]
  },
  {
   "cell_type": "code",
   "execution_count": 20,
   "id": "69df8f89",
   "metadata": {
    "scrolled": false
   },
   "outputs": [
    {
     "name": "stdout",
     "output_type": "stream",
     "text": [
      "[7000.    263.12]\n",
      "[9000.    276.99]\n"
     ]
    }
   ],
   "source": [
    "for PT in np.loadtxt('../IceVI-Liquid/4-BiasedCoexistence/DATA/melting-points-DNN.dat'):\n",
    "    print(PT)\n",
    "    PrepSingleSim(settings,'VI-Liq_NN/','IceVI','Liquid',PT[0],PT[1],3000,30000)"
   ]
  },
  {
   "cell_type": "markdown",
   "id": "3d6144ec",
   "metadata": {},
   "source": [
    "### IceVI-IceV"
   ]
  },
  {
   "cell_type": "code",
   "execution_count": 15,
   "id": "0ab9f2b1",
   "metadata": {},
   "outputs": [],
   "source": [
    "with open('../FullPhaseDiagram/triple_points_NN.dat','r') as fp:\n",
    "    lines=fp.readlines()\n",
    "    for line in lines:\n",
    "        PT=line.split()\n",
    "        if 'Liquid IceV IceVI' in line:\n",
    "            PrepSingleSim(settings_T,'VI-V_NN/','IceVI','IceV',float(PT[-1]),float(PT[-2]),100,PT[-2])"
   ]
  },
  {
   "cell_type": "markdown",
   "id": "1a977a41",
   "metadata": {},
   "source": [
    "### IceII-IceVI"
   ]
  },
  {
   "cell_type": "code",
   "execution_count": 16,
   "id": "7dce4a93",
   "metadata": {},
   "outputs": [],
   "source": [
    "with open('../FullPhaseDiagram/triple_points_NN.dat','r') as fp:\n",
    "    lines=fp.readlines()\n",
    "    \n",
    "    for line in lines:\n",
    "        PT=line.split()\n",
    "        if 'Liquid IceII IceVI' in line:\n",
    "            PrepSingleSim(settings_T,'II-VI_NN/','IceII','IceVI',float(PT[-1]),float(PT[-2]),50,PT[-2])"
   ]
  },
  {
   "cell_type": "markdown",
   "id": "deee1990",
   "metadata": {},
   "source": [
    "### IceII IceIh"
   ]
  },
  {
   "cell_type": "code",
   "execution_count": 17,
   "id": "3b9c249f",
   "metadata": {},
   "outputs": [],
   "source": [
    "with open('../FullPhaseDiagram/triple_points_NN.dat','r') as fp:\n",
    "    lines=fp.readlines()\n",
    "    \n",
    "    for line in lines:\n",
    "        PT=line.split()\n",
    "        if 'Liquid IceIh IceII' in line:\n",
    "            PrepSingleSim(settings_T,'II-Ih_NN/','IceII','IceIh',float(PT[-1]),float(PT[-2]),0,float(PT[-2]))"
   ]
  },
  {
   "cell_type": "code",
   "execution_count": null,
   "id": "c50aa4ec",
   "metadata": {},
   "outputs": [],
   "source": []
  },
  {
   "cell_type": "markdown",
   "id": "47d556f5",
   "metadata": {},
   "source": [
    "## IceIII IceV"
   ]
  },
  {
   "cell_type": "code",
   "execution_count": 21,
   "id": "a81dc5c5",
   "metadata": {},
   "outputs": [],
   "source": [
    "with open('../FullPhaseDiagram/triple_points.dat','r') as fp:\n",
    "    lines=fp.readlines()\n",
    "    \n",
    "    for line in lines:\n",
    "        PT=line.split()\n",
    "        if 'Liquid IceIII IceV' in line:\n",
    "            PrepSingleSim(settings_T,'V-III/','IceV','IceIII',float(PT[-1]),float(PT[-2]),50,float(PT[-2]))"
   ]
  },
  {
   "cell_type": "markdown",
   "id": "e31df2dd",
   "metadata": {},
   "source": [
    "## IceII IceIh"
   ]
  },
  {
   "cell_type": "code",
   "execution_count": 22,
   "id": "5433ccdb",
   "metadata": {},
   "outputs": [
    {
     "name": "stderr",
     "output_type": "stream",
     "text": [
      "cp: InitialConfigurations/IceII/.#in.dump: No such file or directory\n"
     ]
    }
   ],
   "source": [
    "with open('../FullPhaseDiagram/triple_points.dat','r') as fp:\n",
    "    lines=fp.readlines()\n",
    "    \n",
    "    for line in lines:\n",
    "        PT=line.split()\n",
    "        if 'Liquid IceIh IceII' in line:\n",
    "            PrepSingleSim(settings_T,'II-Ih/','IceII','IceIh',float(PT[-1]),float(PT[-2]),0,float(PT[-2]))"
   ]
  },
  {
   "cell_type": "markdown",
   "id": "84762aeb",
   "metadata": {},
   "source": [
    "## IceIII IceIh"
   ]
  },
  {
   "cell_type": "code",
   "execution_count": null,
   "id": "09e69f3c",
   "metadata": {},
   "outputs": [],
   "source": [
    "with open('../FullPhaseDiagram/triple_points.dat','r') as fp:\n",
    "    lines=fp.readlines()\n",
    "    \n",
    "    for line in lines:\n",
    "        PT=line.split()\n",
    "        if 'Liquid IceIII IceIh' in line:\n",
    "            PrepSingleSim(settings_T,'IceIh_IceIII/','IceIh','IceIII',float(PT[-1]),float(PT[-2]),0,250)"
   ]
  },
  {
   "cell_type": "markdown",
   "id": "3a5ed346",
   "metadata": {},
   "source": [
    "## IceII IceIII"
   ]
  },
  {
   "cell_type": "code",
   "execution_count": 14,
   "id": "bb7bc697",
   "metadata": {},
   "outputs": [],
   "source": [
    "with open('../FullPhaseDiagram/triple_points.dat','r') as fp:\n",
    "    lines=fp.readlines()\n",
    "    \n",
    "    for line in lines:\n",
    "        PT=line.split()\n",
    "        if 'IceII IceIII IceV' in line or 'IceII IceIh IceIII' in line:\n",
    "            PrepSingleSim(settings,'IceII_IceIII_2nd/','IceII','IceIII',float(PT[-1]),float(PT[-2]),12000,-2000)"
   ]
  },
  {
   "cell_type": "markdown",
   "id": "ed91da9a",
   "metadata": {},
   "source": [
    "## IceII IceV"
   ]
  },
  {
   "cell_type": "code",
   "execution_count": 8,
   "id": "2b3835f3",
   "metadata": {},
   "outputs": [],
   "source": [
    "with open('../FullPhaseDiagram/triple_points.dat','r') as fp:\n",
    "    lines=fp.readlines()\n",
    "    \n",
    "    for line in lines:\n",
    "        PT=line.split()\n",
    "        if 'IceII IceIII IceV' in line:\n",
    "            PrepSingleSim(settings_T,'IceII_IceV/','IceII','IceV',float(PT[-1]),float(PT[-2]),float(PT[-2]),0)"
   ]
  },
  {
   "cell_type": "markdown",
   "id": "15d63305",
   "metadata": {},
   "source": [
    "## IceII IceVI"
   ]
  },
  {
   "cell_type": "code",
   "execution_count": 9,
   "id": "b2789859",
   "metadata": {},
   "outputs": [],
   "source": [
    "with open('../FullPhaseDiagram/triple_points.dat','r') as fp:\n",
    "    lines=fp.readlines()\n",
    "    \n",
    "    for line in lines:\n",
    "        PT=line.split()\n",
    "        if 'IceII IceV IceVI' in line:\n",
    "            PrepSingleSim(settings_T,'IceII_IceVI/','IceII','IceVI',float(PT[-1]),float(PT[-2]),float(PT[-2]),0)"
   ]
  },
  {
   "cell_type": "markdown",
   "id": "1899f958",
   "metadata": {},
   "source": [
    "## IceII IceVI v2"
   ]
  },
  {
   "cell_type": "code",
   "execution_count": 10,
   "id": "5d6dcb28",
   "metadata": {},
   "outputs": [],
   "source": [
    "with open('../FullPhaseDiagram/triple_points.dat','r') as fp:\n",
    "    lines=fp.readlines()\n",
    "    \n",
    "    for line in lines:\n",
    "        PT=line.split()\n",
    "        if 'Liquid IceII IceVI' in line:\n",
    "            PrepSingleSim(settings_T,'IceII_IceVI_v2/','IceII','IceVI',float(PT[-1]),float(PT[-2]),300,0)"
   ]
  },
  {
   "cell_type": "markdown",
   "id": "9b589565",
   "metadata": {},
   "source": [
    "## IceII IceV"
   ]
  },
  {
   "cell_type": "code",
   "execution_count": 4,
   "id": "e2c00f55",
   "metadata": {},
   "outputs": [],
   "source": [
    "with open('../FullPhaseDiagram/triple_points.dat','r') as fp:\n",
    "    lines=fp.readlines()\n",
    "    \n",
    "    for line in lines:\n",
    "        PT=line.split()\n",
    "        if 'Liquid IceII IceV' in line:\n",
    "            PrepSingleSim(settings_T,'IceII_IceV_2nd/','IceII','IceV',float(PT[-1]),float(PT[-2]),300,0)"
   ]
  },
  {
   "cell_type": "code",
   "execution_count": null,
   "id": "fa9ab2c0",
   "metadata": {},
   "outputs": [],
   "source": []
  },
  {
   "cell_type": "markdown",
   "id": "3f7fc43e",
   "metadata": {},
   "source": [
    "## Classical MB-pol"
   ]
  },
  {
   "cell_type": "markdown",
   "id": "1bf6d91c",
   "metadata": {},
   "source": [
    "### IceIh-Liquid"
   ]
  },
  {
   "cell_type": "code",
   "execution_count": 34,
   "id": "fe2740d8",
   "metadata": {},
   "outputs": [
    {
     "name": "stdout",
     "output_type": "stream",
     "text": [
      "[  1.   266.22]\n",
      "[1000.    255.01]\n"
     ]
    }
   ],
   "source": [
    "for PT in np.loadtxt('../IceIh-Liquid/3-BiasedCoexistence/DATA/melting-points-MB-pol-classical.dat'):\n",
    "    print(PT)\n",
    "    PrepSingleSim(settings_T,'Ih-Liq_classical/','IceIh','Liquid',PT[0],PT[1],100,PT[1])\n",
    "    PrepSingleSim(settings,'Ih-Liq_classical/','IceIh','Liquid',PT[0],PT[1],-1000,PT[0])\n"
   ]
  },
  {
   "cell_type": "markdown",
   "id": "80a4ec87",
   "metadata": {},
   "source": [
    "### IceII-Liquid"
   ]
  },
  {
   "cell_type": "code",
   "execution_count": 35,
   "id": "c32b4048",
   "metadata": {},
   "outputs": [
    {
     "name": "stdout",
     "output_type": "stream",
     "text": [
      "[2000.    244.62]\n",
      "[3000.    251.02]\n",
      "[4000.    254.43]\n",
      "[5000.   255.5]\n",
      "[6000.    256.58]\n"
     ]
    }
   ],
   "source": [
    "for PT in np.atleast_2d(np.loadtxt('../IceII-Liquid/5-BiasedCoexistence_3rd/DATA/melting-points-MB-pol-classical.dat')):\n",
    "    print(PT)\n",
    "    PrepSingleSim(settings,'II-Liq_classical/','IceII','Liquid',PT[0],PT[1],0,8000)"
   ]
  },
  {
   "cell_type": "markdown",
   "id": "5a07e4c2",
   "metadata": {},
   "source": [
    "### IceIII-Liquid"
   ]
  },
  {
   "cell_type": "code",
   "execution_count": 36,
   "id": "db9f1741",
   "metadata": {},
   "outputs": [
    {
     "name": "stdout",
     "output_type": "stream",
     "text": [
      "[2000.    247.39]\n",
      "[3000.    248.96]\n",
      "[5000.   250.5]\n",
      "[6000.    250.21]\n"
     ]
    }
   ],
   "source": [
    "for PT in np.loadtxt('../IceIII-Liquid/5-BiasedCoexistence/DATA/melting-points-MB-pol-classical.dat'):\n",
    "    print(PT)\n",
    "    PrepSingleSim(settings,'III-Liq_classical/','IceIII','Liquid',PT[0],PT[1],0,10000)"
   ]
  },
  {
   "cell_type": "markdown",
   "id": "28b980e8",
   "metadata": {},
   "source": [
    "### IceV-Liquid"
   ]
  },
  {
   "cell_type": "code",
   "execution_count": 37,
   "id": "ebd45fb9",
   "metadata": {
    "scrolled": true
   },
   "outputs": [
    {
     "name": "stdout",
     "output_type": "stream",
     "text": [
      "[5000.    255.82]\n",
      "[6000.    260.26]\n"
     ]
    }
   ],
   "source": [
    "for PT in np.loadtxt('../IceV-Liquid/3-BiasedCoexistence/DATA/melting-points-MB-pol-classical.dat'):\n",
    "    print(PT)\n",
    "    PrepSingleSim(settings,'V-Liq_classical/','IceV','Liquid',PT[0],PT[1],2000,12000)"
   ]
  },
  {
   "cell_type": "markdown",
   "id": "45d4d93a",
   "metadata": {},
   "source": [
    "### IceVI-Liquid"
   ]
  },
  {
   "cell_type": "code",
   "execution_count": 11,
   "id": "d94f5c2e",
   "metadata": {
    "scrolled": false
   },
   "outputs": [
    {
     "name": "stdout",
     "output_type": "stream",
     "text": [
      "[7000.    266.15]\n",
      "[9000.   279.9]\n"
     ]
    }
   ],
   "source": [
    "for PT in np.loadtxt('../IceVI-Liquid/4-BiasedCoexistence/DATA/melting-points-MB-pol-classical.dat'):\n",
    "    print(PT)\n",
    "    PrepSingleSim(settings,'VI-Liq_classical/','IceVI','Liquid',PT[0],PT[1],3000,15000)"
   ]
  },
  {
   "cell_type": "markdown",
   "id": "596c3184",
   "metadata": {},
   "source": [
    "### IceVI-IceV"
   ]
  },
  {
   "cell_type": "code",
   "execution_count": 18,
   "id": "6c13aa35",
   "metadata": {},
   "outputs": [],
   "source": [
    "with open('../FullPhaseDiagram/triple_points_classical.dat','r') as fp:\n",
    "    lines=fp.readlines()\n",
    "    for line in lines:\n",
    "        PT=line.split()\n",
    "        if 'Liquid IceV IceVI' in line:\n",
    "            PrepSingleSim(settings_T,'VI-V_classical/','IceVI','IceV',float(PT[-1]),float(PT[-2]),100,PT[-2])"
   ]
  },
  {
   "cell_type": "markdown",
   "id": "ec9e692d",
   "metadata": {},
   "source": [
    "### IceII-IceV"
   ]
  },
  {
   "cell_type": "code",
   "execution_count": 19,
   "id": "91b81942",
   "metadata": {},
   "outputs": [],
   "source": [
    "with open('../FullPhaseDiagram/triple_points_classical.dat','r') as fp:\n",
    "    lines=fp.readlines()\n",
    "    for line in lines:\n",
    "        PT=line.split()\n",
    "        if 'Liquid IceII IceV' in line:\n",
    "            PrepSingleSim(settings_T,'II-V_classical/','IceII','IceV',float(PT[-1]),float(PT[-2]),100,PT[-2])"
   ]
  },
  {
   "cell_type": "markdown",
   "id": "73c6a32e",
   "metadata": {},
   "source": [
    "### IceII-IceIII"
   ]
  },
  {
   "cell_type": "code",
   "execution_count": 20,
   "id": "7394c350",
   "metadata": {},
   "outputs": [],
   "source": [
    "with open('../FullPhaseDiagram/triple_points_classical.dat','r') as fp:\n",
    "    lines=fp.readlines()\n",
    "    for line in lines:\n",
    "        PT=line.split()\n",
    "        if 'Liquid IceII IceIII' in line:\n",
    "            PrepSingleSim(settings_T,'II-III_classical/','IceII','IceIII',float(PT[-1]),float(PT[-2]),100,PT[-2])"
   ]
  },
  {
   "cell_type": "markdown",
   "id": "55fcc379",
   "metadata": {},
   "source": [
    "### IceIh-IceIII"
   ]
  },
  {
   "cell_type": "code",
   "execution_count": 21,
   "id": "844b316a",
   "metadata": {},
   "outputs": [],
   "source": [
    "with open('../FullPhaseDiagram/triple_points_classical.dat','r') as fp:\n",
    "    lines=fp.readlines()\n",
    "    for line in lines:\n",
    "        PT=line.split()\n",
    "        if 'Liquid IceIh IceIII' in line:\n",
    "            PrepSingleSim(settings_T,'Ih-III_classical/','IceIh','IceIII',float(PT[-1]),float(PT[-2]),100,PT[-2])"
   ]
  },
  {
   "cell_type": "markdown",
   "id": "fa9d0bf7",
   "metadata": {},
   "source": [
    "### Ih-II"
   ]
  },
  {
   "cell_type": "code",
   "execution_count": 26,
   "id": "68a601bf",
   "metadata": {},
   "outputs": [],
   "source": [
    "with open('../FullPhaseDiagram/triple_points_classical.dat','r') as fp:\n",
    "    lines=fp.readlines()\n",
    "    for line in lines:\n",
    "        PT=line.split()\n",
    "        if 'IceIh IceII IceIII' in line:\n",
    "            PrepSingleSim(settings_T,'Ih-II_classical/','IceIh','IceII',float(PT[-1]),float(PT[-2]),100,PT[-2])"
   ]
  },
  {
   "cell_type": "markdown",
   "id": "4e53a55f",
   "metadata": {},
   "source": [
    "### II-VI"
   ]
  },
  {
   "cell_type": "code",
   "execution_count": 27,
   "id": "290b20ab",
   "metadata": {},
   "outputs": [],
   "source": [
    "with open('../FullPhaseDiagram/triple_points_classical.dat','r') as fp:\n",
    "    lines=fp.readlines()\n",
    "    for line in lines:\n",
    "        PT=line.split()\n",
    "        if 'IceII IceV IceVI' in line:\n",
    "            PrepSingleSim(settings_T,'II-VI_classical/','IceII','IceVI',float(PT[-1]),float(PT[-2]),100,PT[-2])"
   ]
  },
  {
   "cell_type": "markdown",
   "id": "68b2d533",
   "metadata": {},
   "source": [
    "## Quantum"
   ]
  },
  {
   "cell_type": "code",
   "execution_count": 39,
   "id": "7a8b32c9",
   "metadata": {},
   "outputs": [
    {
     "name": "stdout",
     "output_type": "stream",
     "text": [
      "[  1.   262.35]\n",
      "[1000.    250.37]\n"
     ]
    }
   ],
   "source": [
    "for PT in np.loadtxt('../IceIh-Liquid/3-BiasedCoexistence/DATA/melting-points-MB-pol-quantum.dat'):\n",
    "    print(PT)\n",
    "    PrepSingleSim(settings_T,'Ih-Liq_quantum/','IceIh','Liquid',PT[0],PT[1],100,PT[1])\n",
    "    PrepSingleSim(settings,'Ih-Liq_quantum/','IceIh','Liquid',PT[0],PT[1],-1000,PT[0])\n"
   ]
  },
  {
   "cell_type": "markdown",
   "id": "34485592",
   "metadata": {},
   "source": [
    "### IceII-Liquid"
   ]
  },
  {
   "cell_type": "code",
   "execution_count": 40,
   "id": "2abdf5c2",
   "metadata": {},
   "outputs": [
    {
     "name": "stdout",
     "output_type": "stream",
     "text": [
      "[2000.    243.22]\n",
      "[3000.    249.47]\n",
      "[4000.    252.08]\n",
      "[5000.    252.34]\n",
      "[6000.    254.93]\n"
     ]
    }
   ],
   "source": [
    "for PT in np.atleast_2d(np.loadtxt('../IceII-Liquid/5-BiasedCoexistence_3rd/DATA/melting-points-MB-pol-quantum.dat')):\n",
    "    print(PT)\n",
    "    PrepSingleSim(settings,'II-Liq_quantum/','IceII','Liquid',PT[0],PT[1],0,8000)"
   ]
  },
  {
   "cell_type": "markdown",
   "id": "170e3a8e",
   "metadata": {},
   "source": [
    "### IceIII-Liquid"
   ]
  },
  {
   "cell_type": "code",
   "execution_count": 41,
   "id": "8c43827b",
   "metadata": {},
   "outputs": [
    {
     "name": "stdout",
     "output_type": "stream",
     "text": [
      "[2000.   247.5]\n",
      "[3000.    248.35]\n",
      "[5000.    250.84]\n",
      "[6000.    249.93]\n"
     ]
    }
   ],
   "source": [
    "for PT in np.loadtxt('../IceIII-Liquid/5-BiasedCoexistence/DATA/melting-points-MB-pol-quantum.dat'):\n",
    "    print(PT)\n",
    "    PrepSingleSim(settings,'III-Liq_quantum/','IceIII','Liquid',PT[0],PT[1],0,10000)"
   ]
  },
  {
   "cell_type": "markdown",
   "id": "dc45f3a2",
   "metadata": {},
   "source": [
    "### IceV-Liquid"
   ]
  },
  {
   "cell_type": "code",
   "execution_count": 42,
   "id": "66a66ed5",
   "metadata": {
    "scrolled": true
   },
   "outputs": [
    {
     "name": "stdout",
     "output_type": "stream",
     "text": [
      "[5000.    257.54]\n",
      "[6000.    262.23]\n"
     ]
    }
   ],
   "source": [
    "for PT in np.loadtxt('../IceV-Liquid/3-BiasedCoexistence/DATA/melting-points-MB-pol-quantum.dat'):\n",
    "    print(PT)\n",
    "    PrepSingleSim(settings,'V-Liq_quantum/','IceV','Liquid',PT[0],PT[1],2000,12000)"
   ]
  },
  {
   "cell_type": "markdown",
   "id": "0cb2c313",
   "metadata": {},
   "source": [
    "### IceVI-Liquid"
   ]
  },
  {
   "cell_type": "code",
   "execution_count": 43,
   "id": "93e87596",
   "metadata": {
    "scrolled": true
   },
   "outputs": [
    {
     "name": "stdout",
     "output_type": "stream",
     "text": [
      "[7000.    268.38]\n",
      "[9000.    283.63]\n"
     ]
    }
   ],
   "source": [
    "for PT in np.loadtxt('../IceVI-Liquid/4-BiasedCoexistence/DATA/melting-points-MB-pol-quantum.dat'):\n",
    "    print(PT)\n",
    "    PrepSingleSim(settings,'VI-Liq_quantum/','IceVI','Liquid',PT[0],PT[1],3000,15000)"
   ]
  },
  {
   "cell_type": "markdown",
   "id": "0c36a05e",
   "metadata": {},
   "source": [
    "### IceVI-IceV"
   ]
  },
  {
   "cell_type": "code",
   "execution_count": 22,
   "id": "68243dcf",
   "metadata": {},
   "outputs": [],
   "source": [
    "with open('../FullPhaseDiagram/triple_points_quantum.dat','r') as fp:\n",
    "    lines=fp.readlines()\n",
    "    for line in lines:\n",
    "        PT=line.split()\n",
    "        if 'Liquid IceV IceVI' in line:\n",
    "            PrepSingleSim(settings_T,'VI-V_quantum/','IceVI','IceV',float(PT[-1]),float(PT[-2]),100,PT[-2])"
   ]
  },
  {
   "cell_type": "markdown",
   "id": "c992c365",
   "metadata": {},
   "source": [
    "### IceII-IceV"
   ]
  },
  {
   "cell_type": "code",
   "execution_count": 23,
   "id": "05ab53b8",
   "metadata": {},
   "outputs": [],
   "source": [
    "with open('../FullPhaseDiagram/triple_points_quantum.dat','r') as fp:\n",
    "    lines=fp.readlines()\n",
    "    for line in lines:\n",
    "        PT=line.split()\n",
    "        if 'Liquid IceII IceV' in line:\n",
    "            PrepSingleSim(settings_T,'II-V_quantum/','IceII','IceV',float(PT[-1]),float(PT[-2]),100,PT[-2])"
   ]
  },
  {
   "cell_type": "markdown",
   "id": "e9ef9f8e",
   "metadata": {},
   "source": [
    "### IceII-IceIII"
   ]
  },
  {
   "cell_type": "code",
   "execution_count": 24,
   "id": "cf2213f2",
   "metadata": {},
   "outputs": [],
   "source": [
    "with open('../FullPhaseDiagram/triple_points_quantum.dat','r') as fp:\n",
    "    lines=fp.readlines()\n",
    "    for line in lines:\n",
    "        PT=line.split()\n",
    "        if 'Liquid IceII IceIII' in line:\n",
    "            PrepSingleSim(settings_T,'II-III_quantum/','IceII','IceIII',float(PT[-1]),float(PT[-2]),100,PT[-2])"
   ]
  },
  {
   "cell_type": "markdown",
   "id": "be13785c",
   "metadata": {},
   "source": [
    "### IceIh-IceIII"
   ]
  },
  {
   "cell_type": "code",
   "execution_count": 25,
   "id": "82954f3e",
   "metadata": {},
   "outputs": [],
   "source": [
    "with open('../FullPhaseDiagram/triple_points_quantum.dat','r') as fp:\n",
    "    lines=fp.readlines()\n",
    "    for line in lines:\n",
    "        PT=line.split()\n",
    "        if 'Liquid IceIh IceIII' in line:\n",
    "            PrepSingleSim(settings_T,'Ih-III_quantum/','IceIh','IceIII',float(PT[-1]),float(PT[-2]),100,PT[-2])"
   ]
  },
  {
   "cell_type": "markdown",
   "id": "27a42351",
   "metadata": {},
   "source": [
    "### Ih-II"
   ]
  },
  {
   "cell_type": "code",
   "execution_count": 28,
   "id": "dcfd0fb1",
   "metadata": {},
   "outputs": [],
   "source": [
    "with open('../FullPhaseDiagram/triple_points_quantum.dat','r') as fp:\n",
    "    lines=fp.readlines()\n",
    "    for line in lines:\n",
    "        PT=line.split()\n",
    "        if 'IceIh IceII IceIII' in line:\n",
    "            PrepSingleSim(settings_T,'Ih-II_quantum/','IceIh','IceII',float(PT[-1]),float(PT[-2]),100,PT[-2])"
   ]
  },
  {
   "cell_type": "markdown",
   "id": "bd3509d8",
   "metadata": {},
   "source": [
    "### II-VI"
   ]
  },
  {
   "cell_type": "code",
   "execution_count": 30,
   "id": "d3fcaca2",
   "metadata": {},
   "outputs": [],
   "source": [
    "with open('../FullPhaseDiagram/triple_points_quantum.dat','r') as fp:\n",
    "    lines=fp.readlines()\n",
    "    for line in lines:\n",
    "        PT=line.split()\n",
    "        if 'IceII IceV IceVI' in line:\n",
    "            PrepSingleSim(settings_T,'II-VI_quantum/','IceII','IceVI',float(PT[-1]),float(PT[-2]),100,PT[-2])"
   ]
  },
  {
   "cell_type": "code",
   "execution_count": null,
   "id": "d002ea4d",
   "metadata": {
    "scrolled": true
   },
   "outputs": [],
   "source": [
    "!jupyter nbconvert --to script PrepareGibbsDuhem.ipynb"
   ]
  }
 ],
 "metadata": {
  "kernelspec": {
   "display_name": "Python 3",
   "language": "python",
   "name": "python3"
  },
  "language_info": {
   "codemirror_mode": {
    "name": "ipython",
    "version": 3
   },
   "file_extension": ".py",
   "mimetype": "text/x-python",
   "name": "python",
   "nbconvert_exporter": "python",
   "pygments_lexer": "ipython3",
   "version": "3.9.10"
  }
 },
 "nbformat": 4,
 "nbformat_minor": 5
}
